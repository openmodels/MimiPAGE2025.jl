{
 "cells": [
  {
   "cell_type": "code",
   "execution_count": 1,
   "id": "9e8a7a0c-d07b-4ba3-bc60-5daabf292122",
   "metadata": {
    "scrolled": true
   },
   "outputs": [
    {
     "name": "stderr",
     "output_type": "stream",
     "text": [
      "── \u001b[1mAttaching core tidyverse packages\u001b[22m ──────────────────────── tidyverse 2.0.0 ──\n",
      "\u001b[32m✔\u001b[39m \u001b[34mdplyr    \u001b[39m 1.1.4     \u001b[32m✔\u001b[39m \u001b[34mreadr    \u001b[39m 2.1.5\n",
      "\u001b[32m✔\u001b[39m \u001b[34mforcats  \u001b[39m 1.0.0     \u001b[32m✔\u001b[39m \u001b[34mstringr  \u001b[39m 1.5.1\n",
      "\u001b[32m✔\u001b[39m \u001b[34mggplot2  \u001b[39m 3.5.1     \u001b[32m✔\u001b[39m \u001b[34mtibble   \u001b[39m 3.2.1\n",
      "\u001b[32m✔\u001b[39m \u001b[34mlubridate\u001b[39m 1.9.4     \u001b[32m✔\u001b[39m \u001b[34mtidyr    \u001b[39m 1.3.1\n",
      "\u001b[32m✔\u001b[39m \u001b[34mpurrr    \u001b[39m 1.0.4     \n",
      "── \u001b[1mConflicts\u001b[22m ────────────────────────────────────────── tidyverse_conflicts() ──\n",
      "\u001b[31m✖\u001b[39m \u001b[34mdplyr\u001b[39m::\u001b[32mfilter()\u001b[39m masks \u001b[34mstats\u001b[39m::filter()\n",
      "\u001b[31m✖\u001b[39m \u001b[34mdplyr\u001b[39m::\u001b[32mlag()\u001b[39m    masks \u001b[34mstats\u001b[39m::lag()\n",
      "\u001b[36mℹ\u001b[39m Use the conflicted package (\u001b[3m\u001b[34m<http://conflicted.r-lib.org/>\u001b[39m\u001b[23m) to force all conflicts to become errors\n",
      "Loading required package: Matrix\n",
      "\n",
      "\n",
      "Attaching package: ‘Matrix’\n",
      "\n",
      "\n",
      "The following objects are masked from ‘package:tidyr’:\n",
      "\n",
      "    expand, pack, unpack\n",
      "\n",
      "\n",
      "\n",
      "Attaching package: ‘data.table’\n",
      "\n",
      "\n",
      "The following objects are masked from ‘package:lubridate’:\n",
      "\n",
      "    hour, isoweek, mday, minute, month, quarter, second, wday, week,\n",
      "    yday, year\n",
      "\n",
      "\n",
      "The following objects are masked from ‘package:dplyr’:\n",
      "\n",
      "    between, first, last\n",
      "\n",
      "\n",
      "The following object is masked from ‘package:purrr’:\n",
      "\n",
      "    transpose\n",
      "\n",
      "\n",
      "\n",
      "Please cite as: \n",
      "\n",
      "\n",
      " Hlavac, Marek (2022). stargazer: Well-Formatted Regression and Summary Statistics Tables.\n",
      "\n",
      " R package version 5.2.3. https://CRAN.R-project.org/package=stargazer \n",
      "\n",
      "\n",
      "\n",
      "Attaching package: ‘MASS’\n",
      "\n",
      "\n",
      "The following object is masked from ‘package:dplyr’:\n",
      "\n",
      "    select\n",
      "\n",
      "\n"
     ]
    }
   ],
   "source": [
    "library(tidyverse)\n",
    "library(lfe)\n",
    "library(data.table)\n",
    "library(dplyr)\n",
    "library(stargazer)\n",
    "library(readxl)\n",
    "library(tidyr)\n",
    "library(MASS)"
   ]
  },
  {
   "cell_type": "code",
   "execution_count": 2,
   "id": "030273b9-7740-47ea-bdde-3b9a62a58b56",
   "metadata": {},
   "outputs": [],
   "source": [
    "df_gains <- read_excel(\"../data/GAINS/GHGemis_vs_PM25_conc_GAINS_countries_regions_v2.xlsx\", sheet = \"Export Worksheet\")"
   ]
  },
  {
   "cell_type": "code",
   "execution_count": 46,
   "id": "4c4bc5eb-a111-46b6-8e07-16a467d1b10d",
   "metadata": {},
   "outputs": [],
   "source": [
    "df2 <- df_gains %>%\n",
    "    mutate(\n",
    "        logpm = log(PM25_ANTHROP),\n",
    "        loggdp = log(GDP_PPP),\n",
    "        logpop = log(POP),\n",
    "        loggdppc = log(GDP_PPP / POP),\n",
    "        loggdppc2 = loggdppc^2,\n",
    "        logco2 = log(EMIS_CO2_KT),\n",
    "        logch4 = log(EMIS_CH4_KT)\n",
    "    ) %>%\n",
    "    group_by(REGION_4LETTER) %>%\n",
    "    arrange(IDYEARS) %>%\n",
    "    mutate(\n",
    "        logpm0 = logpm - first(logpm),\n",
    "        loggdp0 = loggdp - first(loggdp),\n",
    "        logpop0 = logpop - first(logpop),\n",
    "        loggdppc0 = loggdppc - first(loggdppc),\n",
    "        loggdppc02 = loggdppc2 - first(loggdppc2),\n",
    "        logco20 = logco2 - first(logco2),\n",
    "        logch40 = logch4 - first(logch4),\n",
    "        year0 = IDYEARS - first(IDYEARS),\n",
    "        laglogpm0 = lag(logpm0),\n",
    "        lag2logpm0 = lag(logpm0, 2),\n",
    "        logco20xyear0 = logco20 * year0,\n",
    "        logch40xyear0 = logch40 * year0\n",
    "    ) %>%\n",
    "    ungroup()\n",
    "\n",
    "# Replace NA values with 0\n",
    "df2 <- df2 %>%\n",
    "    mutate(\n",
    "        laglogpm0 = ifelse(is.na(laglogpm0), 0, laglogpm0),\n",
    "        lag2logpm0 = ifelse(is.na(lag2logpm0), 0, lag2logpm0)\n",
    "    )"
   ]
  },
  {
   "cell_type": "markdown",
   "id": "ab499e89-5446-47ce-973c-7a4743124d13",
   "metadata": {},
   "source": [
    "## PM2.5 ANTHOROPOGENIC"
   ]
  },
  {
   "cell_type": "code",
   "execution_count": 51,
   "id": "c412272a-9a94-4c7d-b8e7-44a34763c828",
   "metadata": {},
   "outputs": [
    {
     "data": {
      "text/plain": [
       "\n",
       "Call:\n",
       "   felm(formula = logpm0 ~ logco20 + logch40 + logco20xyear0 + logch40xyear0 +      loggdppc0 + loggdppc02 | year0:factor(REGION_4LETTER) + factor(IDYEARS),      data = subset(df2, IDSCENARIOS == \"Decarb\")) \n",
       "\n",
       "Residuals:\n",
       "     Min       1Q   Median       3Q      Max \n",
       "-0.62503 -0.04394  0.00427  0.04546  0.98393 \n",
       "\n",
       "Coefficients:\n",
       "               Estimate Std. Error t value Pr(>|t|)    \n",
       "logco20       -0.072786   0.047009  -1.548  0.12238    \n",
       "logch40        0.226900   0.037483   6.053 3.43e-09 ***\n",
       "logco20xyear0  0.005503   0.001951   2.820  0.00505 ** \n",
       "logch40xyear0 -0.005109   0.002809  -1.818  0.06978 .  \n",
       "loggdppc0      2.228163   0.255290   8.728  < 2e-16 ***\n",
       "loggdppc02     0.091328   0.011896   7.677 1.41e-13 ***\n",
       "---\n",
       "Signif. codes:  0 ‘***’ 0.001 ‘**’ 0.01 ‘*’ 0.05 ‘.’ 0.1 ‘ ’ 1\n",
       "\n",
       "Residual standard error: 0.1279 on 377 degrees of freedom\n",
       "Multiple R-squared(full model): 0.9362   Adjusted R-squared: 0.9181 \n",
       "Multiple R-squared(proj model): 0.3647   Adjusted R-squared: 0.1844 \n",
       "F-statistic(full model): 51.7 on 107 and 377 DF, p-value: < 2.2e-16 \n",
       "F-statistic(proj model): 36.08 on 6 and 377 DF, p-value: < 2.2e-16 \n",
       "\n"
      ]
     },
     "metadata": {},
     "output_type": "display_data"
    }
   ],
   "source": [
    "summary(\n",
    "    model1 <- felm(logpm0 ~ logco20 + logch40 + logco20xyear0 + logch40xyear0 + \n",
    "               loggdppc0 + loggdppc02 | year0:factor(REGION_4LETTER) + factor(IDYEARS), \n",
    "               data = subset(df2, IDSCENARIOS == \"Decarb\"))\n",
    "        )"
   ]
  },
  {
   "cell_type": "markdown",
   "id": "6756cbba-b5cf-46d3-a6ec-92e73360e287",
   "metadata": {},
   "source": [
    "## OUT-OF-COUNTRY CONTRIBUTION"
   ]
  },
  {
   "cell_type": "code",
   "execution_count": 55,
   "id": "0c081a85-7752-4afd-b885-979bc5b44492",
   "metadata": {},
   "outputs": [],
   "source": [
    "file_path <- \"../data/GAINS/PM25_sourcecontrib_GAINS_4letter.xlsx\"\n",
    "df_export <- read_excel(file_path, sheet = \"Export Worksheet\")\n",
    "df_long <- df_export %>%\n",
    "    pivot_longer(cols = -c(IDSCENARIOS, IDYEARS, RECEPTOR_4LETTER),\n",
    "                 names_to = \"Source\",\n",
    "                 values_to = \"PM25_Contribution\") %>%\n",
    "    rename(REGION_4LETTER = RECEPTOR_4LETTER)\n",
    "\n",
    "df_agg_split <- df_long %>%\n",
    "    group_by(IDSCENARIOS, IDYEARS, REGION_4LETTER) %>%\n",
    "    summarise(\n",
    "        PM25_TOTAL = sum(PM25_Contribution, na.rm = TRUE),\n",
    "        PM25_OUT   = sum(PM25_Contribution[REGION_4LETTER != Source], na.rm = TRUE),\n",
    "        PM25_SELF  = sum(PM25_Contribution[REGION_4LETTER == Source], na.rm = TRUE),\n",
    "        .groups = \"drop\"\n",
    "    )\n",
    "\n",
    "df_agg_export <- df_long %>%\n",
    "    filter(Source != REGION_4LETTER) %>%  # Exclude self-contributions\n",
    "    group_by(IDSCENARIOS, IDYEARS, Source) %>%\n",
    "    summarise(\n",
    "        PM25_EXPORT = sum(PM25_Contribution, na.rm = TRUE),\n",
    "        .groups = \"drop\"\n",
    "    )\n",
    "\n",
    "df2_agg <- df_agg_split %>%\n",
    "    left_join(df_agg_export, by = c(\"IDSCENARIOS\", \"IDYEARS\", \"REGION_4LETTER\" = \"Source\"))\n",
    "\n",
    "df2 <- df2 %>%\n",
    "    left_join(df2_agg, by = c(\"IDSCENARIOS\", \"IDYEARS\", \"REGION_4LETTER\"))"
   ]
  },
  {
   "cell_type": "markdown",
   "id": "e9d3edd3-8531-4a9e-a584-b0a15ca82f80",
   "metadata": {},
   "source": [
    "## SELF CONTRIBUTION"
   ]
  },
  {
   "cell_type": "code",
   "execution_count": 56,
   "id": "b580bce8-3065-4c69-a9a4-387d6cf62a71",
   "metadata": {},
   "outputs": [],
   "source": [
    "df2_self <- df2 %>%\n",
    "    mutate(\n",
    "        logpm = log(PM25_SELF)  # Changed to PM25_SELF\n",
    "\n",
    "    ) %>%\n",
    "    group_by(REGION_4LETTER, IDSCENARIOS) %>%\n",
    "    arrange(IDYEARS) %>%\n",
    "    mutate(\n",
    "        logpm0 = logpm - first(logpm),\n",
    "        laglogpm0 = lag(logpm0),\n",
    "        lag2logpm0 = lag(logpm0, 2)\n",
    "    ) %>%\n",
    "    ungroup()\n",
    "df2_self <- df2_self %>%\n",
    "    mutate(\n",
    "        logpm = ifelse(is.infinite(logpm) | is.na(logpm), 0, logpm),\n",
    "        laglogpm0 = ifelse(is.na(laglogpm0), 0, laglogpm0),\n",
    "        lag2logpm0 = ifelse(is.na(lag2logpm0), 0, lag2logpm0)\n",
    "    )\n"
   ]
  },
  {
   "cell_type": "code",
   "execution_count": 104,
   "id": "2bdeff38",
   "metadata": {
    "scrolled": true
   },
   "outputs": [
    {
     "data": {
      "text/html": [
       "485"
      ],
      "text/latex": [
       "485"
      ],
      "text/markdown": [
       "485"
      ],
      "text/plain": [
       "[1] 485"
      ]
     },
     "metadata": {},
     "output_type": "display_data"
    }
   ],
   "source": [
    "nrow(subset(df2_self, IDSCENARIOS == \"Decarb\"))"
   ]
  },
  {
   "cell_type": "code",
   "execution_count": 109,
   "id": "6e88fc70",
   "metadata": {},
   "outputs": [],
   "source": [
    "    model3_baseline <- felm(logpm0 ~ logco20 + logch40 + logco20xyear0 + logch40xyear0 + \n",
    "               loggdppc0 + loggdppc02 | year0:factor(REGION_4LETTER) + factor(IDYEARS), \n",
    "               data = subset(df2_self, IDSCENARIOS == \"Baseline\" & IDYEARS > 2020))"
   ]
  },
  {
   "cell_type": "code",
   "execution_count": 83,
   "id": "db92ba63-0764-42e6-9938-a5425b32db87",
   "metadata": {},
   "outputs": [
    {
     "data": {
      "text/plain": [
       "\n",
       "Call:\n",
       "   felm(formula = logpm0 ~ logco20 + logch40 + logco20xyear0 + logch40xyear0 +      loggdppc0 + loggdppc02 | year0:factor(REGION_4LETTER) + factor(IDYEARS),      data = subset(df2_self, IDSCENARIOS == \"Decarb\")) \n",
       "\n",
       "Residuals:\n",
       "     Min       1Q   Median       3Q      Max \n",
       "-0.34497 -0.04129  0.00255  0.03088  0.47268 \n",
       "\n",
       "Coefficients:\n",
       "                Estimate Std. Error t value Pr(>|t|)   \n",
       "logco20       -1.134e-01  3.487e-02  -3.253  0.00124 **\n",
       "logch40        2.250e-03  2.780e-02   0.081  0.93555   \n",
       "logco20xyear0  3.541e-03  1.447e-03   2.447  0.01488 * \n",
       "logch40xyear0 -2.387e-05  2.084e-03  -0.011  0.99087   \n",
       "loggdppc0      3.527e-01  1.894e-01   1.863  0.06330 . \n",
       "loggdppc02     1.339e-02  8.824e-03   1.517  0.12999   \n",
       "---\n",
       "Signif. codes:  0 ‘***’ 0.001 ‘**’ 0.01 ‘*’ 0.05 ‘.’ 0.1 ‘ ’ 1\n",
       "\n",
       "Residual standard error: 0.09484 on 377 degrees of freedom\n",
       "Multiple R-squared(full model): 0.9436   Adjusted R-squared: 0.9276 \n",
       "Multiple R-squared(proj model): 0.05364   Adjusted R-squared: -0.215 \n",
       "F-statistic(full model):58.97 on 107 and 377 DF, p-value: < 2.2e-16 \n",
       "F-statistic(proj model): 3.561 on 6 and 377 DF, p-value: 0.001917 \n",
       "\n"
      ]
     },
     "metadata": {},
     "output_type": "display_data"
    }
   ],
   "source": [
    "summary(\n",
    "    model3 <- felm(logpm0 ~ logco20 + logch40 + logco20xyear0 + logch40xyear0 + \n",
    "               loggdppc0 + loggdppc02 | year0:factor(REGION_4LETTER) + factor(IDYEARS), \n",
    "               data = subset(df2_self, IDSCENARIOS == \"Decarb\"))\n",
    "        )"
   ]
  },
  {
   "cell_type": "markdown",
   "id": "838e8694-dcf6-47be-8068-e584135fa272",
   "metadata": {},
   "source": [
    "## EXPORT CONTRIBUTION"
   ]
  },
  {
   "cell_type": "code",
   "execution_count": 58,
   "id": "7b2c8bc2-2f99-4771-a959-6e365f74df35",
   "metadata": {},
   "outputs": [],
   "source": [
    "df2_export <- df2 %>%\n",
    "    mutate(\n",
    "        logpm = log(PM25_EXPORT)  # Changed to PM25_EXPORT\n",
    "\n",
    "    ) %>%\n",
    "    group_by(REGION_4LETTER, IDSCENARIOS) %>%\n",
    "    arrange(IDYEARS) %>%\n",
    "    mutate(\n",
    "        logpm0 = logpm - first(logpm),\n",
    "        laglogpm0 = lag(logpm0),\n",
    "        lag2logpm0 = lag(logpm0, 2)\n",
    "    ) %>%\n",
    "    ungroup()\n",
    "df2_export <- df2_export %>%\n",
    "    mutate(\n",
    "        logpm = ifelse(is.infinite(logpm) | is.na(logpm), 0, logpm),\n",
    "        laglogpm0 = ifelse(is.na(laglogpm0), 0, laglogpm0),\n",
    "        lag2logpm0 = ifelse(is.na(lag2logpm0), 0, lag2logpm0)\n",
    "    )\n"
   ]
  },
  {
   "cell_type": "code",
   "execution_count": 59,
   "id": "151668b6-ba2f-4bca-b5ba-837e8005e89a",
   "metadata": {},
   "outputs": [],
   "source": [
    "df2_export <- df2_export %>%\n",
    "    drop_na(PM25_EXPORT, EMIS_CO2_KT, EMIS_CH4_KT, GDP_PPP) %>% \n",
    "    filter(PM25_EXPORT > 0, EMIS_CO2_KT > 0, EMIS_CH4_KT > 0, GDP_PPP > 0)"
   ]
  },
  {
   "cell_type": "code",
   "execution_count": 110,
   "id": "598c5e83",
   "metadata": {},
   "outputs": [],
   "source": [
    "model4_baseline <- felm(logpm0 ~ logco20 + logch40 + logco20xyear0 + logch40xyear0 + \n",
    "               loggdppc0 + loggdppc02 | year0:factor(REGION_4LETTER) + factor(IDYEARS), \n",
    "               data = subset(df2_export, IDSCENARIOS == \"Baseline\" & IDYEARS > 2020))"
   ]
  },
  {
   "cell_type": "code",
   "execution_count": 60,
   "id": "ccab759b-a3bc-400c-8740-da856780e873",
   "metadata": {},
   "outputs": [
    {
     "data": {
      "text/plain": [
       "\n",
       "Call:\n",
       "   felm(formula = logpm0 ~ logco20 + logch40 + logco20xyear0 + logch40xyear0 +      loggdppc0 + loggdppc02 | year0:factor(REGION_4LETTER) + factor(IDYEARS),      data = subset(df2_export, IDSCENARIOS == \"Decarb\")) \n",
       "\n",
       "Residuals:\n",
       "      Min        1Q    Median        3Q       Max \n",
       "-0.259815 -0.030506 -0.000135  0.032506  0.269320 \n",
       "\n",
       "Coefficients:\n",
       "               Estimate Std. Error t value Pr(>|t|)  \n",
       "logco20       -0.050992   0.028390  -1.796   0.0733 .\n",
       "logch40       -0.005037   0.022297  -0.226   0.8214  \n",
       "logco20xyear0  0.002715   0.001150   2.361   0.0188 *\n",
       "logch40xyear0  0.000695   0.001762   0.395   0.6934  \n",
       "loggdppc0      0.339557   0.152315   2.229   0.0264 *\n",
       "loggdppc02     0.015394   0.007126   2.160   0.0314 *\n",
       "---\n",
       "Signif. codes:  0 ‘***’ 0.001 ‘**’ 0.01 ‘*’ 0.05 ‘.’ 0.1 ‘ ’ 1\n",
       "\n",
       "Residual standard error: 0.0752 on 368 degrees of freedom\n",
       "Multiple R-squared(full model): 0.9479   Adjusted R-squared: 0.933 \n",
       "Multiple R-squared(proj model): 0.04212   Adjusted R-squared: -0.2312 \n",
       "F-statistic(full model):63.74 on 105 and 368 DF, p-value: < 2.2e-16 \n",
       "F-statistic(proj model): 2.697 on 6 and 368 DF, p-value: 0.01418 \n",
       "\n"
      ]
     },
     "metadata": {},
     "output_type": "display_data"
    }
   ],
   "source": [
    "summary(\n",
    "    model4 <- felm(logpm0 ~ logco20 + logch40 + logco20xyear0 + logch40xyear0 + \n",
    "               loggdppc0 + loggdppc02 | year0:factor(REGION_4LETTER) + factor(IDYEARS), \n",
    "               data = subset(df2_export, IDSCENARIOS == \"Decarb\"))\n",
    "        )"
   ]
  },
  {
   "cell_type": "markdown",
   "id": "0a8ef66a-77ff-4b86-ba27-7150734d4a28",
   "metadata": {},
   "source": [
    "##  Only do regressions for _SELF and _EXPORT, use full model for these (9 coeffs)"
   ]
  },
  {
   "cell_type": "markdown",
   "id": "32b76d47-ec12-4010-a5fc-0165f9bad51b",
   "metadata": {},
   "source": [
    "### _SELF is model3  and _EXPORT is model4"
   ]
  },
  {
   "cell_type": "code",
   "execution_count": 112,
   "id": "937626ab-a47f-4673-b7a1-1b7ffdbdf135",
   "metadata": {},
   "outputs": [],
   "source": [
    "#mvrnorm(1000, coef(model3), vcov(model3), empirical=T)\n",
    "write.csv(as.data.frame(MASS::mvrnorm(1000, coef(model3_baseline), vcov(model3_baseline), empirical = TRUE)), \"mvrnorm_SELF_Contribution_baseline.csv\", row.names = FALSE)\n",
    "write.csv(as.data.frame(MASS::mvrnorm(1000, coef(model3), vcov(model3), empirical = TRUE)), \"mvrnorm_SELF_Contribution.csv\", row.names = FALSE)"
   ]
  },
  {
   "cell_type": "code",
   "execution_count": 62,
   "id": "fa06fa1e",
   "metadata": {
    "scrolled": true
   },
   "outputs": [
    {
     "name": "stderr",
     "output_type": "stream",
     "text": [
      "Warning message in is.estimable(ef, obj$fe):\n",
      "“non-estimable function, largest error 0.3 in coordinate 5 (\"factor(IDYEARS).2050\")”\n",
      "Warning message in getfe.kaczmarz(obj, se, ef = ef, bN = bN, robust = robust, cluster = cluster, :\n",
      "“Supplied function seems non-estimable”\n"
     ]
    }
   ],
   "source": [
    "write.csv(getfe(model3)[, c(1, 4, 5)], \"fixedeffects_SELF_Contribution.csv\", row.names=F)"
   ]
  },
  {
   "cell_type": "code",
   "execution_count": 111,
   "id": "17a01981-999b-41bd-88cd-d7df4df34d15",
   "metadata": {},
   "outputs": [],
   "source": [
    "#mvrnorm(1000, coef(model4), vcov(model4), empirical=T)\n",
    "write.csv(as.data.frame(MASS::mvrnorm(1000, coef(model4_baseline), vcov(model4_baseline), empirical = TRUE)), \"mvrnorm_EXPORT_Contribution_baseline.csv\", row.names = FALSE)\n",
    "write.csv(as.data.frame(MASS::mvrnorm(1000, coef(model4), vcov(model4), empirical = TRUE)), \"mvrnorm_EXPORT_Contribution.csv\", row.names = FALSE)"
   ]
  },
  {
   "cell_type": "code",
   "execution_count": 64,
   "id": "3af75d57",
   "metadata": {},
   "outputs": [
    {
     "name": "stderr",
     "output_type": "stream",
     "text": [
      "Warning message in is.estimable(ef, obj$fe):\n",
      "“non-estimable function, largest error 0.3 in coordinate 5 (\"factor(IDYEARS).2050\")”\n",
      "Warning message in getfe.kaczmarz(obj, se, ef = ef, bN = bN, robust = robust, cluster = cluster, :\n",
      "“Supplied function seems non-estimable”\n"
     ]
    }
   ],
   "source": [
    "write.csv(getfe(model4)[, c(1, 4, 5)], \"fixedeffects_EXPORT_Contribution.csv\", row.names=F)"
   ]
  },
  {
   "cell_type": "code",
   "execution_count": 74,
   "id": "d3d0760f",
   "metadata": {},
   "outputs": [
    {
     "data": {
      "text/html": [
       "<table class=\"dataframe\">\n",
       "<caption>A grouped_df: 5 × 5</caption>\n",
       "<thead>\n",
       "\t<tr><th scope=col>IDSCENARIOS</th><th scope=col>IDYEARS</th><th scope=col>REGION_4LETTER</th><th scope=col>Source</th><th scope=col>PM25_Contribution</th></tr>\n",
       "\t<tr><th scope=col>&lt;chr&gt;</th><th scope=col>&lt;dbl&gt;</th><th scope=col>&lt;chr&gt;</th><th scope=col>&lt;chr&gt;</th><th scope=col>&lt;dbl&gt;</th></tr>\n",
       "</thead>\n",
       "<tbody>\n",
       "\t<tr><td>Baseline</td><td>2020</td><td>KENY</td><td>EAFR</td><td>0.48507463</td></tr>\n",
       "\t<tr><td>Baseline</td><td>2020</td><td>MIDE</td><td>EAFR</td><td>0.01940299</td></tr>\n",
       "\t<tr><td>Baseline</td><td>2020</td><td>RSAF</td><td>EAFR</td><td>0.01194030</td></tr>\n",
       "\t<tr><td>Baseline</td><td>2020</td><td>TANZ</td><td>EAFR</td><td>0.27313433</td></tr>\n",
       "\t<tr><td>Baseline</td><td>2020</td><td>WAFR</td><td>EAFR</td><td>0.21044776</td></tr>\n",
       "</tbody>\n",
       "</table>\n"
      ],
      "text/latex": [
       "A grouped\\_df: 5 × 5\n",
       "\\begin{tabular}{lllll}\n",
       " IDSCENARIOS & IDYEARS & REGION\\_4LETTER & Source & PM25\\_Contribution\\\\\n",
       " <chr> & <dbl> & <chr> & <chr> & <dbl>\\\\\n",
       "\\hline\n",
       "\t Baseline & 2020 & KENY & EAFR & 0.48507463\\\\\n",
       "\t Baseline & 2020 & MIDE & EAFR & 0.01940299\\\\\n",
       "\t Baseline & 2020 & RSAF & EAFR & 0.01194030\\\\\n",
       "\t Baseline & 2020 & TANZ & EAFR & 0.27313433\\\\\n",
       "\t Baseline & 2020 & WAFR & EAFR & 0.21044776\\\\\n",
       "\\end{tabular}\n"
      ],
      "text/markdown": [
       "\n",
       "A grouped_df: 5 × 5\n",
       "\n",
       "| IDSCENARIOS &lt;chr&gt; | IDYEARS &lt;dbl&gt; | REGION_4LETTER &lt;chr&gt; | Source &lt;chr&gt; | PM25_Contribution &lt;dbl&gt; |\n",
       "|---|---|---|---|---|\n",
       "| Baseline | 2020 | KENY | EAFR | 0.48507463 |\n",
       "| Baseline | 2020 | MIDE | EAFR | 0.01940299 |\n",
       "| Baseline | 2020 | RSAF | EAFR | 0.01194030 |\n",
       "| Baseline | 2020 | TANZ | EAFR | 0.27313433 |\n",
       "| Baseline | 2020 | WAFR | EAFR | 0.21044776 |\n",
       "\n"
      ],
      "text/plain": [
       "  IDSCENARIOS IDYEARS REGION_4LETTER Source PM25_Contribution\n",
       "1 Baseline    2020    KENY           EAFR   0.48507463       \n",
       "2 Baseline    2020    MIDE           EAFR   0.01940299       \n",
       "3 Baseline    2020    RSAF           EAFR   0.01194030       \n",
       "4 Baseline    2020    TANZ           EAFR   0.27313433       \n",
       "5 Baseline    2020    WAFR           EAFR   0.21044776       "
      ]
     },
     "metadata": {},
     "output_type": "display_data"
    }
   ],
   "source": [
    "dfout = subset(df_long, IDYEARS == 2020 & PM25_Contribution > 0 & IDSCENARIOS == \"Baseline\" & REGION_4LETTER != Source)\n",
    "dfout2 = dfout %>% group_by(Source) %>% mutate(PM25_Contribution=PM25_Contribution / sum(PM25_Contribution))\n",
    "subset(dfout2, Source == \"EAFR\")"
   ]
  },
  {
   "cell_type": "code",
   "execution_count": 75,
   "id": "fae53d4e",
   "metadata": {},
   "outputs": [],
   "source": [
    "write.csv(dfout2[, 3:5], \"export_pattern.csv\", row.names=F)"
   ]
  },
  {
   "cell_type": "code",
   "execution_count": 122,
   "id": "65f7f125",
   "metadata": {},
   "outputs": [
    {
     "data": {
      "text/html": [
       "<style>\n",
       ".list-inline {list-style: none; margin:0; padding: 0}\n",
       ".list-inline>li {display: inline-block}\n",
       ".list-inline>li:not(:last-child)::after {content: \"\\00b7\"; padding: 0 .5ex}\n",
       "</style>\n",
       "<ol class=list-inline><li>'IDSCENARIOS'</li><li>'IDYEARS'</li><li>'REGION_4LETTER'</li><li>'REGION_4LETTER_LABEL'</li><li>'POP'</li><li>'GDP'</li><li>'GDP_PPP'</li><li>'EMIS_CO2_KT'</li><li>'EMIS_CH4_KT'</li><li>'PM25_ANTHROP'</li><li>'PM25_TOTAL.x'</li><li>'logpm'</li><li>'loggdp'</li><li>'logpop'</li><li>'loggdppc'</li><li>'loggdppc2'</li><li>'logco2'</li><li>'logch4'</li><li>'logpm0'</li><li>'loggdp0'</li><li>'logpop0'</li><li>'loggdppc0'</li><li>'loggdppc02'</li><li>'logco20'</li><li>'logch40'</li><li>'year0'</li><li>'laglogpm0'</li><li>'lag2logpm0'</li><li>'logco20xyear0'</li><li>'logch40xyear0'</li><li>'PM25_TOTAL.y'</li><li>'PM25_OUT.x'</li><li>'PM25_SELF.x'</li><li>'PM25_EXPORT.x'</li><li>'PM25_TOTAL.x.x'</li><li>'PM25_OUT.y'</li><li>'PM25_SELF.y'</li><li>'PM25_EXPORT.y'</li><li>'PM25_TOTAL.y.y'</li><li>'PM25_OUT'</li><li>'PM25_SELF'</li><li>'PM25_EXPORT'</li></ol>\n"
      ],
      "text/latex": [
       "\\begin{enumerate*}\n",
       "\\item 'IDSCENARIOS'\n",
       "\\item 'IDYEARS'\n",
       "\\item 'REGION\\_4LETTER'\n",
       "\\item 'REGION\\_4LETTER\\_LABEL'\n",
       "\\item 'POP'\n",
       "\\item 'GDP'\n",
       "\\item 'GDP\\_PPP'\n",
       "\\item 'EMIS\\_CO2\\_KT'\n",
       "\\item 'EMIS\\_CH4\\_KT'\n",
       "\\item 'PM25\\_ANTHROP'\n",
       "\\item 'PM25\\_TOTAL.x'\n",
       "\\item 'logpm'\n",
       "\\item 'loggdp'\n",
       "\\item 'logpop'\n",
       "\\item 'loggdppc'\n",
       "\\item 'loggdppc2'\n",
       "\\item 'logco2'\n",
       "\\item 'logch4'\n",
       "\\item 'logpm0'\n",
       "\\item 'loggdp0'\n",
       "\\item 'logpop0'\n",
       "\\item 'loggdppc0'\n",
       "\\item 'loggdppc02'\n",
       "\\item 'logco20'\n",
       "\\item 'logch40'\n",
       "\\item 'year0'\n",
       "\\item 'laglogpm0'\n",
       "\\item 'lag2logpm0'\n",
       "\\item 'logco20xyear0'\n",
       "\\item 'logch40xyear0'\n",
       "\\item 'PM25\\_TOTAL.y'\n",
       "\\item 'PM25\\_OUT.x'\n",
       "\\item 'PM25\\_SELF.x'\n",
       "\\item 'PM25\\_EXPORT.x'\n",
       "\\item 'PM25\\_TOTAL.x.x'\n",
       "\\item 'PM25\\_OUT.y'\n",
       "\\item 'PM25\\_SELF.y'\n",
       "\\item 'PM25\\_EXPORT.y'\n",
       "\\item 'PM25\\_TOTAL.y.y'\n",
       "\\item 'PM25\\_OUT'\n",
       "\\item 'PM25\\_SELF'\n",
       "\\item 'PM25\\_EXPORT'\n",
       "\\end{enumerate*}\n"
      ],
      "text/markdown": [
       "1. 'IDSCENARIOS'\n",
       "2. 'IDYEARS'\n",
       "3. 'REGION_4LETTER'\n",
       "4. 'REGION_4LETTER_LABEL'\n",
       "5. 'POP'\n",
       "6. 'GDP'\n",
       "7. 'GDP_PPP'\n",
       "8. 'EMIS_CO2_KT'\n",
       "9. 'EMIS_CH4_KT'\n",
       "10. 'PM25_ANTHROP'\n",
       "11. 'PM25_TOTAL.x'\n",
       "12. 'logpm'\n",
       "13. 'loggdp'\n",
       "14. 'logpop'\n",
       "15. 'loggdppc'\n",
       "16. 'loggdppc2'\n",
       "17. 'logco2'\n",
       "18. 'logch4'\n",
       "19. 'logpm0'\n",
       "20. 'loggdp0'\n",
       "21. 'logpop0'\n",
       "22. 'loggdppc0'\n",
       "23. 'loggdppc02'\n",
       "24. 'logco20'\n",
       "25. 'logch40'\n",
       "26. 'year0'\n",
       "27. 'laglogpm0'\n",
       "28. 'lag2logpm0'\n",
       "29. 'logco20xyear0'\n",
       "30. 'logch40xyear0'\n",
       "31. 'PM25_TOTAL.y'\n",
       "32. 'PM25_OUT.x'\n",
       "33. 'PM25_SELF.x'\n",
       "34. 'PM25_EXPORT.x'\n",
       "35. 'PM25_TOTAL.x.x'\n",
       "36. 'PM25_OUT.y'\n",
       "37. 'PM25_SELF.y'\n",
       "38. 'PM25_EXPORT.y'\n",
       "39. 'PM25_TOTAL.y.y'\n",
       "40. 'PM25_OUT'\n",
       "41. 'PM25_SELF'\n",
       "42. 'PM25_EXPORT'\n",
       "\n",
       "\n"
      ],
      "text/plain": [
       " [1] \"IDSCENARIOS\"          \"IDYEARS\"              \"REGION_4LETTER\"      \n",
       " [4] \"REGION_4LETTER_LABEL\" \"POP\"                  \"GDP\"                 \n",
       " [7] \"GDP_PPP\"              \"EMIS_CO2_KT\"          \"EMIS_CH4_KT\"         \n",
       "[10] \"PM25_ANTHROP\"         \"PM25_TOTAL.x\"         \"logpm\"               \n",
       "[13] \"loggdp\"               \"logpop\"               \"loggdppc\"            \n",
       "[16] \"loggdppc2\"            \"logco2\"               \"logch4\"              \n",
       "[19] \"logpm0\"               \"loggdp0\"              \"logpop0\"             \n",
       "[22] \"loggdppc0\"            \"loggdppc02\"           \"logco20\"             \n",
       "[25] \"logch40\"              \"year0\"                \"laglogpm0\"           \n",
       "[28] \"lag2logpm0\"           \"logco20xyear0\"        \"logch40xyear0\"       \n",
       "[31] \"PM25_TOTAL.y\"         \"PM25_OUT.x\"           \"PM25_SELF.x\"         \n",
       "[34] \"PM25_EXPORT.x\"        \"PM25_TOTAL.x.x\"       \"PM25_OUT.y\"          \n",
       "[37] \"PM25_SELF.y\"          \"PM25_EXPORT.y\"        \"PM25_TOTAL.y.y\"      \n",
       "[40] \"PM25_OUT\"             \"PM25_SELF\"            \"PM25_EXPORT\"         "
      ]
     },
     "metadata": {},
     "output_type": "display_data"
    }
   ],
   "source": [
    "names(df2)"
   ]
  },
  {
   "cell_type": "code",
   "execution_count": 125,
   "id": "b56bd578",
   "metadata": {},
   "outputs": [],
   "source": [
    "write.csv(df2[df2$REGION_4LETTER %in% df2$REGION_4LETTER[df2$IDYEARS == 2030], c('IDSCENARIOS', 'IDYEARS', 'REGION_4LETTER', 'POP', 'GDP_PPP', 'EMIS_CO2_KT', 'EMIS_CH4_KT', 'PM25_SELF', 'PM25_EXPORT')], \"baseline.csv\", row.names=F)"
   ]
  },
  {
   "cell_type": "code",
   "execution_count": 116,
   "id": "1001d6e3",
   "metadata": {},
   "outputs": [
    {
     "data": {
      "text/html": [
       "<table class=\"dataframe\">\n",
       "<caption>A tibble: 6 × 42</caption>\n",
       "<thead>\n",
       "\t<tr><th scope=col>IDSCENARIOS</th><th scope=col>IDYEARS</th><th scope=col>REGION_4LETTER</th><th scope=col>REGION_4LETTER_LABEL</th><th scope=col>POP</th><th scope=col>GDP</th><th scope=col>GDP_PPP</th><th scope=col>EMIS_CO2_KT</th><th scope=col>EMIS_CH4_KT</th><th scope=col>PM25_ANTHROP</th><th scope=col>⋯</th><th scope=col>PM25_SELF.x</th><th scope=col>PM25_EXPORT.x</th><th scope=col>PM25_TOTAL.x.x</th><th scope=col>PM25_OUT.y</th><th scope=col>PM25_SELF.y</th><th scope=col>PM25_EXPORT.y</th><th scope=col>PM25_TOTAL.y.y</th><th scope=col>PM25_OUT</th><th scope=col>PM25_SELF</th><th scope=col>PM25_EXPORT</th></tr>\n",
       "\t<tr><th scope=col>&lt;chr&gt;</th><th scope=col>&lt;dbl&gt;</th><th scope=col>&lt;chr&gt;</th><th scope=col>&lt;chr&gt;</th><th scope=col>&lt;dbl&gt;</th><th scope=col>&lt;dbl&gt;</th><th scope=col>&lt;dbl&gt;</th><th scope=col>&lt;dbl&gt;</th><th scope=col>&lt;dbl&gt;</th><th scope=col>&lt;dbl&gt;</th><th scope=col>⋯</th><th scope=col>&lt;dbl&gt;</th><th scope=col>&lt;dbl&gt;</th><th scope=col>&lt;dbl&gt;</th><th scope=col>&lt;dbl&gt;</th><th scope=col>&lt;dbl&gt;</th><th scope=col>&lt;dbl&gt;</th><th scope=col>&lt;dbl&gt;</th><th scope=col>&lt;dbl&gt;</th><th scope=col>&lt;dbl&gt;</th><th scope=col>&lt;dbl&gt;</th></tr>\n",
       "</thead>\n",
       "<tbody>\n",
       "\t<tr><td>Baseline</td><td>2020</td><td>AFGH</td><td>Afghanistan</td><td>38054941</td><td>  9.289786</td><td> 22.48262</td><td> 23451.44</td><td> 712.67</td><td>42.63</td><td>⋯</td><td>41.789</td><td>1.828</td><td>57.294</td><td>15.505</td><td>41.789</td><td>1.828</td><td>57.294</td><td>15.505</td><td>41.789</td><td>1.828</td></tr>\n",
       "\t<tr><td>Baseline</td><td>2020</td><td>ALBA</td><td>Albania    </td><td> 2942034</td><td> 11.301931</td><td> 24.96461</td><td>  4688.82</td><td> 150.49</td><td>16.50</td><td>⋯</td><td> 9.297</td><td>0.742</td><td>17.955</td><td> 8.658</td><td> 9.297</td><td>0.742</td><td>17.955</td><td> 8.658</td><td> 9.297</td><td>0.742</td></tr>\n",
       "\t<tr><td>Baseline</td><td>2020</td><td>ARGE</td><td>Argentina  </td><td>45510399</td><td>242.398694</td><td>510.02911</td><td>138696.29</td><td>5964.82</td><td> 3.37</td><td>⋯</td><td> 2.908</td><td>0.336</td><td> 5.590</td><td> 2.682</td><td> 2.908</td><td>0.336</td><td> 5.590</td><td> 2.682</td><td> 2.908</td><td>0.336</td></tr>\n",
       "\t<tr><td>Baseline</td><td>2020</td><td>ARME</td><td>Armenia    </td><td> 2938679</td><td> 10.762538</td><td> 28.98772</td><td>  6692.76</td><td>  86.93</td><td>10.04</td><td>⋯</td><td> 6.083</td><td>0.505</td><td>13.670</td><td> 7.587</td><td> 6.083</td><td>0.505</td><td>13.670</td><td> 7.587</td><td> 6.083</td><td>0.505</td></tr>\n",
       "\t<tr><td>Baseline</td><td>2020</td><td>AUST</td><td>Austria    </td><td> 8782210</td><td>353.917177</td><td>317.53936</td><td> 60160.62</td><td> 222.75</td><td> 9.37</td><td>⋯</td><td> 4.296</td><td>3.244</td><td> 9.714</td><td> 5.418</td><td> 4.296</td><td>3.244</td><td> 9.714</td><td> 5.418</td><td> 4.296</td><td>3.244</td></tr>\n",
       "\t<tr><td>Baseline</td><td>2020</td><td>AUTR</td><td>Australia  </td><td>25398177</td><td>986.870189</td><td>907.28794</td><td>371354.65</td><td>4983.79</td><td> 2.43</td><td>⋯</td><td> 2.358</td><td>0.076</td><td> 3.962</td><td> 1.604</td><td> 2.358</td><td>0.076</td><td> 3.962</td><td> 1.604</td><td> 2.358</td><td>0.076</td></tr>\n",
       "</tbody>\n",
       "</table>\n"
      ],
      "text/latex": [
       "A tibble: 6 × 42\n",
       "\\begin{tabular}{lllllllllllllllllllll}\n",
       " IDSCENARIOS & IDYEARS & REGION\\_4LETTER & REGION\\_4LETTER\\_LABEL & POP & GDP & GDP\\_PPP & EMIS\\_CO2\\_KT & EMIS\\_CH4\\_KT & PM25\\_ANTHROP & ⋯ & PM25\\_SELF.x & PM25\\_EXPORT.x & PM25\\_TOTAL.x.x & PM25\\_OUT.y & PM25\\_SELF.y & PM25\\_EXPORT.y & PM25\\_TOTAL.y.y & PM25\\_OUT & PM25\\_SELF & PM25\\_EXPORT\\\\\n",
       " <chr> & <dbl> & <chr> & <chr> & <dbl> & <dbl> & <dbl> & <dbl> & <dbl> & <dbl> & ⋯ & <dbl> & <dbl> & <dbl> & <dbl> & <dbl> & <dbl> & <dbl> & <dbl> & <dbl> & <dbl>\\\\\n",
       "\\hline\n",
       "\t Baseline & 2020 & AFGH & Afghanistan & 38054941 &   9.289786 &  22.48262 &  23451.44 &  712.67 & 42.63 & ⋯ & 41.789 & 1.828 & 57.294 & 15.505 & 41.789 & 1.828 & 57.294 & 15.505 & 41.789 & 1.828\\\\\n",
       "\t Baseline & 2020 & ALBA & Albania     &  2942034 &  11.301931 &  24.96461 &   4688.82 &  150.49 & 16.50 & ⋯ &  9.297 & 0.742 & 17.955 &  8.658 &  9.297 & 0.742 & 17.955 &  8.658 &  9.297 & 0.742\\\\\n",
       "\t Baseline & 2020 & ARGE & Argentina   & 45510399 & 242.398694 & 510.02911 & 138696.29 & 5964.82 &  3.37 & ⋯ &  2.908 & 0.336 &  5.590 &  2.682 &  2.908 & 0.336 &  5.590 &  2.682 &  2.908 & 0.336\\\\\n",
       "\t Baseline & 2020 & ARME & Armenia     &  2938679 &  10.762538 &  28.98772 &   6692.76 &   86.93 & 10.04 & ⋯ &  6.083 & 0.505 & 13.670 &  7.587 &  6.083 & 0.505 & 13.670 &  7.587 &  6.083 & 0.505\\\\\n",
       "\t Baseline & 2020 & AUST & Austria     &  8782210 & 353.917177 & 317.53936 &  60160.62 &  222.75 &  9.37 & ⋯ &  4.296 & 3.244 &  9.714 &  5.418 &  4.296 & 3.244 &  9.714 &  5.418 &  4.296 & 3.244\\\\\n",
       "\t Baseline & 2020 & AUTR & Australia   & 25398177 & 986.870189 & 907.28794 & 371354.65 & 4983.79 &  2.43 & ⋯ &  2.358 & 0.076 &  3.962 &  1.604 &  2.358 & 0.076 &  3.962 &  1.604 &  2.358 & 0.076\\\\\n",
       "\\end{tabular}\n"
      ],
      "text/markdown": [
       "\n",
       "A tibble: 6 × 42\n",
       "\n",
       "| IDSCENARIOS &lt;chr&gt; | IDYEARS &lt;dbl&gt; | REGION_4LETTER &lt;chr&gt; | REGION_4LETTER_LABEL &lt;chr&gt; | POP &lt;dbl&gt; | GDP &lt;dbl&gt; | GDP_PPP &lt;dbl&gt; | EMIS_CO2_KT &lt;dbl&gt; | EMIS_CH4_KT &lt;dbl&gt; | PM25_ANTHROP &lt;dbl&gt; | ⋯ ⋯ | PM25_SELF.x &lt;dbl&gt; | PM25_EXPORT.x &lt;dbl&gt; | PM25_TOTAL.x.x &lt;dbl&gt; | PM25_OUT.y &lt;dbl&gt; | PM25_SELF.y &lt;dbl&gt; | PM25_EXPORT.y &lt;dbl&gt; | PM25_TOTAL.y.y &lt;dbl&gt; | PM25_OUT &lt;dbl&gt; | PM25_SELF &lt;dbl&gt; | PM25_EXPORT &lt;dbl&gt; |\n",
       "|---|---|---|---|---|---|---|---|---|---|---|---|---|---|---|---|---|---|---|---|---|\n",
       "| Baseline | 2020 | AFGH | Afghanistan | 38054941 |   9.289786 |  22.48262 |  23451.44 |  712.67 | 42.63 | ⋯ | 41.789 | 1.828 | 57.294 | 15.505 | 41.789 | 1.828 | 57.294 | 15.505 | 41.789 | 1.828 |\n",
       "| Baseline | 2020 | ALBA | Albania     |  2942034 |  11.301931 |  24.96461 |   4688.82 |  150.49 | 16.50 | ⋯ |  9.297 | 0.742 | 17.955 |  8.658 |  9.297 | 0.742 | 17.955 |  8.658 |  9.297 | 0.742 |\n",
       "| Baseline | 2020 | ARGE | Argentina   | 45510399 | 242.398694 | 510.02911 | 138696.29 | 5964.82 |  3.37 | ⋯ |  2.908 | 0.336 |  5.590 |  2.682 |  2.908 | 0.336 |  5.590 |  2.682 |  2.908 | 0.336 |\n",
       "| Baseline | 2020 | ARME | Armenia     |  2938679 |  10.762538 |  28.98772 |   6692.76 |   86.93 | 10.04 | ⋯ |  6.083 | 0.505 | 13.670 |  7.587 |  6.083 | 0.505 | 13.670 |  7.587 |  6.083 | 0.505 |\n",
       "| Baseline | 2020 | AUST | Austria     |  8782210 | 353.917177 | 317.53936 |  60160.62 |  222.75 |  9.37 | ⋯ |  4.296 | 3.244 |  9.714 |  5.418 |  4.296 | 3.244 |  9.714 |  5.418 |  4.296 | 3.244 |\n",
       "| Baseline | 2020 | AUTR | Australia   | 25398177 | 986.870189 | 907.28794 | 371354.65 | 4983.79 |  2.43 | ⋯ |  2.358 | 0.076 |  3.962 |  1.604 |  2.358 | 0.076 |  3.962 |  1.604 |  2.358 | 0.076 |\n",
       "\n"
      ],
      "text/plain": [
       "  IDSCENARIOS IDYEARS REGION_4LETTER REGION_4LETTER_LABEL POP      GDP       \n",
       "1 Baseline    2020    AFGH           Afghanistan          38054941   9.289786\n",
       "2 Baseline    2020    ALBA           Albania               2942034  11.301931\n",
       "3 Baseline    2020    ARGE           Argentina            45510399 242.398694\n",
       "4 Baseline    2020    ARME           Armenia               2938679  10.762538\n",
       "5 Baseline    2020    AUST           Austria               8782210 353.917177\n",
       "6 Baseline    2020    AUTR           Australia            25398177 986.870189\n",
       "  GDP_PPP   EMIS_CO2_KT EMIS_CH4_KT PM25_ANTHROP ⋯ PM25_SELF.x PM25_EXPORT.x\n",
       "1  22.48262  23451.44    712.67     42.63        ⋯ 41.789      1.828        \n",
       "2  24.96461   4688.82    150.49     16.50        ⋯  9.297      0.742        \n",
       "3 510.02911 138696.29   5964.82      3.37        ⋯  2.908      0.336        \n",
       "4  28.98772   6692.76     86.93     10.04        ⋯  6.083      0.505        \n",
       "5 317.53936  60160.62    222.75      9.37        ⋯  4.296      3.244        \n",
       "6 907.28794 371354.65   4983.79      2.43        ⋯  2.358      0.076        \n",
       "  PM25_TOTAL.x.x PM25_OUT.y PM25_SELF.y PM25_EXPORT.y PM25_TOTAL.y.y PM25_OUT\n",
       "1 57.294         15.505     41.789      1.828         57.294         15.505  \n",
       "2 17.955          8.658      9.297      0.742         17.955          8.658  \n",
       "3  5.590          2.682      2.908      0.336          5.590          2.682  \n",
       "4 13.670          7.587      6.083      0.505         13.670          7.587  \n",
       "5  9.714          5.418      4.296      3.244          9.714          5.418  \n",
       "6  3.962          1.604      2.358      0.076          3.962          1.604  \n",
       "  PM25_SELF PM25_EXPORT\n",
       "1 41.789    1.828      \n",
       "2  9.297    0.742      \n",
       "3  2.908    0.336      \n",
       "4  6.083    0.505      \n",
       "5  4.296    3.244      \n",
       "6  2.358    0.076      "
      ]
     },
     "metadata": {},
     "output_type": "display_data"
    }
   ],
   "source": [
    "head(df2)"
   ]
  },
  {
   "cell_type": "code",
   "execution_count": 119,
   "id": "8e239523",
   "metadata": {},
   "outputs": [],
   "source": [
    "write.csv(df2[, c('IDSCENARIOS', 'IDYEARS', 'REGION_4LETTER', 'REGION_4LETTER_LABEL', 'PM25_ANTHROP', 'PM25_SELF', 'PM25_EXPORT')], \"gainssim.csv\", row.names=F)"
   ]
  },
  {
   "cell_type": "code",
   "execution_count": null,
   "id": "5c334bb6",
   "metadata": {},
   "outputs": [],
   "source": []
  }
 ],
 "metadata": {
  "kernelspec": {
   "display_name": "R",
   "language": "R",
   "name": "ir"
  },
  "language_info": {
   "codemirror_mode": "r",
   "file_extension": ".r",
   "mimetype": "text/x-r-source",
   "name": "R",
   "pygments_lexer": "r",
   "version": "4.4.2"
  }
 },
 "nbformat": 4,
 "nbformat_minor": 5
}

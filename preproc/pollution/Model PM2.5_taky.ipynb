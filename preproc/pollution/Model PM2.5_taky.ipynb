{
 "cells": [
  {
   "cell_type": "code",
   "execution_count": 1,
   "id": "9e8a7a0c-d07b-4ba3-bc60-5daabf292122",
   "metadata": {},
   "outputs": [
    {
     "name": "stderr",
     "output_type": "stream",
     "text": [
      "Warning message:\n",
      "“package ‘ggplot2’ was built under R version 4.3.1”\n",
      "Warning message:\n",
      "“package ‘tidyr’ was built under R version 4.3.1”\n",
      "Warning message:\n",
      "“package ‘readr’ was built under R version 4.3.1”\n",
      "Warning message:\n",
      "“package ‘dplyr’ was built under R version 4.3.1”\n",
      "Warning message:\n",
      "“package ‘lubridate’ was built under R version 4.3.1”\n",
      "── \u001b[1mAttaching core tidyverse packages\u001b[22m ──────────────────────── tidyverse 2.0.0 ──\n",
      "\u001b[32m✔\u001b[39m \u001b[34mdplyr    \u001b[39m 1.1.4     \u001b[32m✔\u001b[39m \u001b[34mreadr    \u001b[39m 2.1.5\n",
      "\u001b[32m✔\u001b[39m \u001b[34mforcats  \u001b[39m 1.0.0     \u001b[32m✔\u001b[39m \u001b[34mstringr  \u001b[39m 1.5.0\n",
      "\u001b[32m✔\u001b[39m \u001b[34mggplot2  \u001b[39m 3.5.1     \u001b[32m✔\u001b[39m \u001b[34mtibble   \u001b[39m 3.2.1\n",
      "\u001b[32m✔\u001b[39m \u001b[34mlubridate\u001b[39m 1.9.3     \u001b[32m✔\u001b[39m \u001b[34mtidyr    \u001b[39m 1.3.1\n",
      "\u001b[32m✔\u001b[39m \u001b[34mpurrr    \u001b[39m 1.0.2     \n",
      "── \u001b[1mConflicts\u001b[22m ────────────────────────────────────────── tidyverse_conflicts() ──\n",
      "\u001b[31m✖\u001b[39m \u001b[34mdplyr\u001b[39m::\u001b[32mfilter()\u001b[39m masks \u001b[34mstats\u001b[39m::filter()\n",
      "\u001b[31m✖\u001b[39m \u001b[34mdplyr\u001b[39m::\u001b[32mlag()\u001b[39m    masks \u001b[34mstats\u001b[39m::lag()\n",
      "\u001b[36mℹ\u001b[39m Use the conflicted package (\u001b[3m\u001b[34m<http://conflicted.r-lib.org/>\u001b[39m\u001b[23m) to force all conflicts to become errors\n",
      "Warning message:\n",
      "“package ‘lfe’ was built under R version 4.3.3”\n",
      "Loading required package: Matrix\n",
      "\n",
      "\n",
      "Attaching package: ‘Matrix’\n",
      "\n",
      "\n",
      "The following objects are masked from ‘package:tidyr’:\n",
      "\n",
      "    expand, pack, unpack\n",
      "\n",
      "\n",
      "Warning message:\n",
      "“package ‘data.table’ was built under R version 4.3.3”\n",
      "\n",
      "Attaching package: ‘data.table’\n",
      "\n",
      "\n",
      "The following objects are masked from ‘package:lubridate’:\n",
      "\n",
      "    hour, isoweek, mday, minute, month, quarter, second, wday, week,\n",
      "    yday, year\n",
      "\n",
      "\n",
      "The following objects are masked from ‘package:dplyr’:\n",
      "\n",
      "    between, first, last\n",
      "\n",
      "\n",
      "The following object is masked from ‘package:purrr’:\n",
      "\n",
      "    transpose\n",
      "\n",
      "\n",
      "Warning message:\n",
      "“package ‘stargazer’ was built under R version 4.3.3”\n",
      "\n",
      "Please cite as: \n",
      "\n",
      "\n",
      " Hlavac, Marek (2022). stargazer: Well-Formatted Regression and Summary Statistics Tables.\n",
      "\n",
      " R package version 5.2.3. https://CRAN.R-project.org/package=stargazer \n",
      "\n",
      "\n"
     ]
    }
   ],
   "source": [
    "library(tidyverse)\n",
    "library(lfe)\n",
    "library(data.table)\n",
    "library(dplyr)\n",
    "library(stargazer)\n",
    "library(readxl)\n",
    "library(tidyr)\n",
    "library(MASS)"
   ]
  },
  {
   "cell_type": "code",
   "execution_count": 2,
   "id": "030273b9-7740-47ea-bdde-3b9a62a58b56",
   "metadata": {},
   "outputs": [],
   "source": [
    "df_gains <- read_excel(\"../data/GAINS/GHGemis_vs_PM25_conc_GAINS_countries_regions_v2.xlsx\", sheet = \"Export Worksheet\")"
   ]
  },
  {
   "cell_type": "code",
   "execution_count": 3,
   "id": "4c4bc5eb-a111-46b6-8e07-16a467d1b10d",
   "metadata": {},
   "outputs": [],
   "source": [
    "df2 <- df_gains %>%\n",
    "    mutate(\n",
    "        logpm = log(PM25_ANTHROP),\n",
    "        loggdp = log(GDP_PPP),\n",
    "        logpop = log(POP),\n",
    "        loggdppc = log(GDP_PPP / POP),\n",
    "        loggdppc2 = loggdppc^2,\n",
    "        logco2 = log(EMIS_CO2_KT),\n",
    "        logch4 = log(EMIS_CH4_KT)\n",
    "    ) %>%\n",
    "    group_by(REGION_4LETTER, IDSCENARIOS) %>%\n",
    "    arrange(IDYEARS) %>%\n",
    "    mutate(\n",
    "        logpm0 = logpm - first(logpm),\n",
    "        loggdp0 = loggdp - first(loggdp),\n",
    "        logpop0 = logpop - first(logpop),\n",
    "        loggdppc0 = loggdppc - first(loggdppc),\n",
    "        loggdppc02 = loggdppc2 - first(loggdppc2),\n",
    "        logco20 = logco2 - first(logco2),\n",
    "        logch40 = logch4 - first(logch4),\n",
    "        year0 = IDYEARS - first(IDYEARS),\n",
    "        laglogpm0 = lag(logpm0),\n",
    "        lag2logpm0 = lag(logpm0, 2),\n",
    "        logco20xyear0 = logco20 * year0,\n",
    "        logch40xyear0 = logch40 * year0\n",
    "    ) %>%\n",
    "    ungroup()\n",
    "\n",
    "# Replace NA values with 0\n",
    "df2 <- df2 %>%\n",
    "    mutate(\n",
    "        laglogpm0 = ifelse(is.na(laglogpm0), 0, laglogpm0),\n",
    "        lag2logpm0 = ifelse(is.na(lag2logpm0), 0, lag2logpm0)\n",
    "    )"
   ]
  },
  {
   "cell_type": "markdown",
   "id": "ab499e89-5446-47ce-973c-7a4743124d13",
   "metadata": {},
   "source": [
    "## PM2.5 ANTHOROPOGENIC"
   ]
  },
  {
   "cell_type": "code",
   "execution_count": 4,
   "id": "c412272a-9a94-4c7d-b8e7-44a34763c828",
   "metadata": {},
   "outputs": [
    {
     "data": {
      "text/plain": [
       "\n",
       "Call:\n",
       "   felm(formula = logpm0 ~ logco20 + logch40 + logco20xyear0 + logch40xyear0 +      logpop0 + loggdppc0 + loggdppc02 + laglogpm0 + lag2logpm0 |      factor(IDYEARS), data = subset(df2, IDSCENARIOS == \"Decarb\")) \n",
       "\n",
       "Residuals:\n",
       "     Min       1Q   Median       3Q      Max \n",
       "-0.95632 -0.01402  0.00000  0.02662  0.20767 \n",
       "\n",
       "Coefficients:\n",
       "               Estimate Std. Error t value Pr(>|t|)    \n",
       "logco20        0.036792   0.037012   0.994  0.32071    \n",
       "logch40       -0.070948   0.055299  -1.283  0.20013    \n",
       "logco20xyear0 -0.001770   0.002176  -0.813  0.41653    \n",
       "logch40xyear0  0.003015   0.003239   0.931  0.35239    \n",
       "logpop0        0.201869   0.055281   3.652  0.00029 ***\n",
       "loggdppc0      0.139119   0.160604   0.866  0.38681    \n",
       "loggdppc02     0.005812   0.007618   0.763  0.44589    \n",
       "laglogpm0      1.376500   0.046567  29.559  < 2e-16 ***\n",
       "lag2logpm0    -0.405954   0.063188  -6.425 3.24e-10 ***\n",
       "---\n",
       "Signif. codes:  0 ‘***’ 0.001 ‘**’ 0.01 ‘*’ 0.05 ‘.’ 0.1 ‘ ’ 1\n",
       "\n",
       "Residual standard error: 0.07459 on 471 degrees of freedom\n",
       "Multiple R-squared(full model): 0.9084   Adjusted R-squared: 0.9059 \n",
       "Multiple R-squared(proj model): 0.8531   Adjusted R-squared: 0.849 \n",
       "F-statistic(full model):359.3 on 13 and 471 DF, p-value: < 2.2e-16 \n",
       "F-statistic(proj model): 303.9 on 9 and 471 DF, p-value: < 2.2e-16 \n",
       "\n"
      ]
     },
     "metadata": {},
     "output_type": "display_data"
    }
   ],
   "source": [
    "summary(\n",
    "    model1 <- felm(logpm0 ~ logco20 + logch40 + logco20xyear0 + logch40xyear0  + logpop0 + \n",
    "               loggdppc0 + loggdppc02 + laglogpm0 + lag2logpm0 | factor(IDYEARS), \n",
    "               data = subset(df2, IDSCENARIOS == \"Decarb\"))\n",
    "        )"
   ]
  },
  {
   "cell_type": "markdown",
   "id": "6756cbba-b5cf-46d3-a6ec-92e73360e287",
   "metadata": {},
   "source": [
    "## OUT-OF-COUNTRY CONTRIBUTION"
   ]
  },
  {
   "cell_type": "code",
   "execution_count": 5,
   "id": "0c081a85-7752-4afd-b885-979bc5b44492",
   "metadata": {},
   "outputs": [],
   "source": [
    "file_path <- \"../data/GAINS/PM25_sourcecontrib_GAINS_4letter.xlsx\"\n",
    "df_export <- read_excel(file_path, sheet = \"Export Worksheet\")\n",
    "df_long <- df_export %>%\n",
    "    pivot_longer(cols = -c(IDSCENARIOS, IDYEARS, RECEPTOR_4LETTER),\n",
    "                 names_to = \"Source\",\n",
    "                 values_to = \"PM25_Contribution\") %>%\n",
    "    rename(REGION_4LETTER = RECEPTOR_4LETTER)\n",
    "\n",
    "df_agg_split <- df_long %>%\n",
    "    group_by(IDSCENARIOS, IDYEARS, REGION_4LETTER) %>%\n",
    "    summarise(\n",
    "        PM25_TOTAL = sum(PM25_Contribution, na.rm = TRUE),\n",
    "        PM25_OUT   = sum(PM25_Contribution[REGION_4LETTER != Source], na.rm = TRUE),\n",
    "        PM25_SELF  = sum(PM25_Contribution[REGION_4LETTER == Source], na.rm = TRUE),\n",
    "        .groups = \"drop\"\n",
    "    )\n",
    "\n",
    "df_agg_export <- df_long %>%\n",
    "    filter(Source != REGION_4LETTER) %>%  # Exclude self-contributions\n",
    "    group_by(IDSCENARIOS, IDYEARS, Source) %>%\n",
    "    summarise(\n",
    "        PM25_EXPORT = sum(PM25_Contribution, na.rm = TRUE),\n",
    "        .groups = \"drop\"\n",
    "    )\n",
    "\n",
    "df2_agg <- df_agg_split %>%\n",
    "    left_join(df_agg_export, by = c(\"IDSCENARIOS\", \"IDYEARS\", \"REGION_4LETTER\" = \"Source\"))\n",
    "\n",
    "df2 <- df2 %>%\n",
    "    left_join(df2_agg, by = c(\"IDSCENARIOS\", \"IDYEARS\", \"REGION_4LETTER\"))"
   ]
  },
  {
   "cell_type": "code",
   "execution_count": 6,
   "id": "7f50cfd1-2be8-41c5-89de-093ef6346094",
   "metadata": {},
   "outputs": [],
   "source": [
    "df2_out <- df2 %>%\n",
    "    mutate(\n",
    "        logpm = log(PM25_OUT)  # Changed to PM25_OUT\n",
    "\n",
    "    ) %>%\n",
    "    group_by(REGION_4LETTER, IDSCENARIOS) %>%\n",
    "    arrange(IDYEARS) %>%\n",
    "    mutate(\n",
    "        logpm0 = logpm - first(logpm),\n",
    "        laglogpm0 = lag(logpm0),\n",
    "        lag2logpm0 = lag(logpm0, 2)\n",
    "    ) %>%\n",
    "    ungroup()\n",
    "df2_out <- df2_out %>%\n",
    "    mutate(\n",
    "        logpm = ifelse(is.infinite(logpm) | is.na(logpm), 0, logpm),\n",
    "        laglogpm0 = ifelse(is.na(laglogpm0), 0, laglogpm0),\n",
    "        lag2logpm0 = ifelse(is.na(lag2logpm0), 0, lag2logpm0)\n",
    "    )\n"
   ]
  },
  {
   "cell_type": "code",
   "execution_count": 7,
   "id": "ed5e0628-580b-4be3-a5de-0c464b9b6c55",
   "metadata": {},
   "outputs": [
    {
     "data": {
      "text/plain": [
       "\n",
       "Call:\n",
       "   felm(formula = logpm0 ~ logco20 + logch40 + logco20xyear0 + logch40xyear0 +      logpop0 + loggdppc0 + loggdppc02 + laglogpm0 + lag2logpm0 |      factor(IDYEARS), data = subset(df2_out, IDSCENARIOS == \"Decarb\")) \n",
       "\n",
       "Residuals:\n",
       "      Min        1Q    Median        3Q       Max \n",
       "-0.143898 -0.003759  0.000000  0.004324  0.071784 \n",
       "\n",
       "Coefficients:\n",
       "                Estimate Std. Error t value Pr(>|t|)    \n",
       "logco20        0.0467961  0.0121945   3.837 0.000141 ***\n",
       "logch40       -0.0139748  0.0183864  -0.760 0.447598    \n",
       "logco20xyear0 -0.0025725  0.0007178  -3.584 0.000374 ***\n",
       "logch40xyear0  0.0005577  0.0010778   0.517 0.605053    \n",
       "logpop0        0.0311814  0.0193942   1.608 0.108556    \n",
       "loggdppc0      0.0225930  0.0526658   0.429 0.668128    \n",
       "loggdppc02     0.0008482  0.0024682   0.344 0.731279    \n",
       "laglogpm0      1.6102482  0.0442740  36.370  < 2e-16 ***\n",
       "lag2logpm0    -0.6235006  0.0639557  -9.749  < 2e-16 ***\n",
       "---\n",
       "Signif. codes:  0 ‘***’ 0.001 ‘**’ 0.01 ‘*’ 0.05 ‘.’ 0.1 ‘ ’ 1\n",
       "\n",
       "Residual standard error: 0.02461 on 471 degrees of freedom\n",
       "Multiple R-squared(full model): 0.9384   Adjusted R-squared: 0.9367 \n",
       "Multiple R-squared(proj model): 0.9264   Adjusted R-squared: 0.9244 \n",
       "F-statistic(full model):551.5 on 13 and 471 DF, p-value: < 2.2e-16 \n",
       "F-statistic(proj model): 658.8 on 9 and 471 DF, p-value: < 2.2e-16 \n",
       "\n"
      ]
     },
     "metadata": {},
     "output_type": "display_data"
    }
   ],
   "source": [
    "summary(\n",
    "    model2 <- felm(logpm0 ~ logco20 + logch40 + logco20xyear0 + logch40xyear0  + logpop0 + \n",
    "               loggdppc0 + loggdppc02 + laglogpm0 + lag2logpm0 | factor(IDYEARS), \n",
    "               data = subset(df2_out, IDSCENARIOS == \"Decarb\"))\n",
    "        )"
   ]
  },
  {
   "cell_type": "markdown",
   "id": "e9d3edd3-8531-4a9e-a584-b0a15ca82f80",
   "metadata": {},
   "source": [
    "## SELF CONTRIBUTION"
   ]
  },
  {
   "cell_type": "code",
   "execution_count": 8,
   "id": "b580bce8-3065-4c69-a9a4-387d6cf62a71",
   "metadata": {},
   "outputs": [],
   "source": [
    "df2_self <- df2 %>%\n",
    "    mutate(\n",
    "        logpm = log(PM25_SELF)  # Changed to PM25_SELF\n",
    "\n",
    "    ) %>%\n",
    "    group_by(REGION_4LETTER, IDSCENARIOS) %>%\n",
    "    arrange(IDYEARS) %>%\n",
    "    mutate(\n",
    "        logpm0 = logpm - first(logpm),\n",
    "        laglogpm0 = lag(logpm0),\n",
    "        lag2logpm0 = lag(logpm0, 2)\n",
    "    ) %>%\n",
    "    ungroup()\n",
    "df2_self <- df2_self %>%\n",
    "    mutate(\n",
    "        logpm = ifelse(is.infinite(logpm) | is.na(logpm), 0, logpm),\n",
    "        laglogpm0 = ifelse(is.na(laglogpm0), 0, laglogpm0),\n",
    "        lag2logpm0 = ifelse(is.na(lag2logpm0), 0, lag2logpm0)\n",
    "    )\n"
   ]
  },
  {
   "cell_type": "code",
   "execution_count": 9,
   "id": "db92ba63-0764-42e6-9938-a5425b32db87",
   "metadata": {},
   "outputs": [
    {
     "data": {
      "text/plain": [
       "\n",
       "Call:\n",
       "   felm(formula = logpm0 ~ logco20 + logch40 + logco20xyear0 + logch40xyear0 +      logpop0 + loggdppc0 + loggdppc02 + laglogpm0 + lag2logpm0 |      factor(IDYEARS), data = subset(df2_self, IDSCENARIOS == \"Decarb\")) \n",
       "\n",
       "Residuals:\n",
       "     Min       1Q   Median       3Q      Max \n",
       "-0.92257 -0.01746  0.00000  0.04684  0.26383 \n",
       "\n",
       "Coefficients:\n",
       "               Estimate Std. Error t value Pr(>|t|)    \n",
       "logco20        0.067659   0.051654   1.310    0.191    \n",
       "logch40       -0.039782   0.078424  -0.507    0.612    \n",
       "logco20xyear0 -0.003873   0.003043  -1.273    0.204    \n",
       "logch40xyear0  0.001338   0.004617   0.290    0.772    \n",
       "logpop0        0.356038   0.079785   4.462 1.01e-05 ***\n",
       "loggdppc0      0.270791   0.224835   1.204    0.229    \n",
       "loggdppc02     0.009978   0.010623   0.939    0.348    \n",
       "laglogpm0      1.422784   0.047136  30.185  < 2e-16 ***\n",
       "lag2logpm0    -0.457356   0.065748  -6.956 1.17e-11 ***\n",
       "---\n",
       "Signif. codes:  0 ‘***’ 0.001 ‘**’ 0.01 ‘*’ 0.05 ‘.’ 0.1 ‘ ’ 1\n",
       "\n",
       "Residual standard error: 0.1046 on 471 degrees of freedom\n",
       "Multiple R-squared(full model): 0.9143   Adjusted R-squared: 0.912 \n",
       "Multiple R-squared(proj model): 0.8729   Adjusted R-squared: 0.8694 \n",
       "F-statistic(full model):386.7 on 13 and 471 DF, p-value: < 2.2e-16 \n",
       "F-statistic(proj model): 359.5 on 9 and 471 DF, p-value: < 2.2e-16 \n",
       "\n"
      ]
     },
     "metadata": {},
     "output_type": "display_data"
    }
   ],
   "source": [
    "summary(\n",
    "    model3 <- felm(logpm0 ~ logco20 + logch40 + logco20xyear0 + logch40xyear0  + logpop0 + \n",
    "               loggdppc0 + loggdppc02 + laglogpm0 + lag2logpm0 | factor(IDYEARS), \n",
    "               data = subset(df2_self, IDSCENARIOS == \"Decarb\"))\n",
    "        )"
   ]
  },
  {
   "cell_type": "markdown",
   "id": "838e8694-dcf6-47be-8068-e584135fa272",
   "metadata": {},
   "source": [
    "## EXPORT CONTRIBUTION"
   ]
  },
  {
   "cell_type": "code",
   "execution_count": 10,
   "id": "7b2c8bc2-2f99-4771-a959-6e365f74df35",
   "metadata": {},
   "outputs": [],
   "source": [
    "df2_export <- df2 %>%\n",
    "    mutate(\n",
    "        logpm = log(PM25_EXPORT)  # Changed to PM25_EXPORT\n",
    "\n",
    "    ) %>%\n",
    "    group_by(REGION_4LETTER, IDSCENARIOS) %>%\n",
    "    arrange(IDYEARS) %>%\n",
    "    mutate(\n",
    "        logpm0 = logpm - first(logpm),\n",
    "        laglogpm0 = lag(logpm0),\n",
    "        lag2logpm0 = lag(logpm0, 2)\n",
    "    ) %>%\n",
    "    ungroup()\n",
    "df2_export <- df2_export %>%\n",
    "    mutate(\n",
    "        logpm = ifelse(is.infinite(logpm) | is.na(logpm), 0, logpm),\n",
    "        laglogpm0 = ifelse(is.na(laglogpm0), 0, laglogpm0),\n",
    "        lag2logpm0 = ifelse(is.na(lag2logpm0), 0, lag2logpm0)\n",
    "    )\n"
   ]
  },
  {
   "cell_type": "code",
   "execution_count": 11,
   "id": "151668b6-ba2f-4bca-b5ba-837e8005e89a",
   "metadata": {},
   "outputs": [],
   "source": [
    "df2_export <- df2_export %>%\n",
    "    drop_na(PM25_EXPORT, EMIS_CO2_KT, EMIS_CH4_KT, GDP_PPP) %>% \n",
    "    filter(PM25_EXPORT > 0, EMIS_CO2_KT > 0, EMIS_CH4_KT > 0, GDP_PPP > 0)"
   ]
  },
  {
   "cell_type": "code",
   "execution_count": 12,
   "id": "ccab759b-a3bc-400c-8740-da856780e873",
   "metadata": {},
   "outputs": [
    {
     "data": {
      "text/plain": [
       "\n",
       "Call:\n",
       "   felm(formula = logpm0 ~ logco20 + logch40 + logco20xyear0 + logch40xyear0 +      logpop0 + loggdppc0 + loggdppc02 + laglogpm0 + lag2logpm0 |      factor(IDYEARS), data = subset(df2_export, IDSCENARIOS ==      \"Decarb\")) \n",
       "\n",
       "Residuals:\n",
       "     Min       1Q   Median       3Q      Max \n",
       "-0.45391 -0.01901  0.00000  0.03441  0.28840 \n",
       "\n",
       "Coefficients:\n",
       "               Estimate Std. Error t value Pr(>|t|)    \n",
       "logco20        0.093730   0.042244   2.219  0.02699 *  \n",
       "logch40       -0.169876   0.062659  -2.711  0.00696 ** \n",
       "logco20xyear0 -0.005200   0.002474  -2.102  0.03610 *  \n",
       "logch40xyear0  0.010405   0.003725   2.793  0.00543 ** \n",
       "logpop0        0.185792   0.062269   2.984  0.00300 ** \n",
       "loggdppc0      0.279153   0.182019   1.534  0.12580    \n",
       "loggdppc02     0.009700   0.008518   1.139  0.25544    \n",
       "laglogpm0      1.413266   0.048130  29.364  < 2e-16 ***\n",
       "lag2logpm0    -0.399084   0.071064  -5.616 3.39e-08 ***\n",
       "---\n",
       "Signif. codes:  0 ‘***’ 0.001 ‘**’ 0.01 ‘*’ 0.05 ‘.’ 0.1 ‘ ’ 1\n",
       "\n",
       "Residual standard error: 0.08216 on 460 degrees of freedom\n",
       "Multiple R-squared(full model): 0.9222   Adjusted R-squared:  0.92 \n",
       "Multiple R-squared(proj model): 0.8592   Adjusted R-squared: 0.8552 \n",
       "F-statistic(full model):419.6 on 13 and 460 DF, p-value: < 2.2e-16 \n",
       "F-statistic(proj model): 311.9 on 9 and 460 DF, p-value: < 2.2e-16 \n",
       "\n"
      ]
     },
     "metadata": {},
     "output_type": "display_data"
    }
   ],
   "source": [
    "summary(\n",
    "    model4 <- felm(logpm0 ~ logco20 + logch40 + logco20xyear0 + logch40xyear0  + logpop0 + \n",
    "               loggdppc0 + loggdppc02 + laglogpm0 + lag2logpm0 | factor(IDYEARS), \n",
    "               data = subset(df2_export, IDSCENARIOS == \"Decarb\"))\n",
    "        )"
   ]
  },
  {
   "cell_type": "markdown",
   "id": "0a8ef66a-77ff-4b86-ba27-7150734d4a28",
   "metadata": {},
   "source": [
    "##  Only do regressions for _SELF and _EXPORT, use full model for these (9 coeffs)"
   ]
  },
  {
   "cell_type": "markdown",
   "id": "32b76d47-ec12-4010-a5fc-0165f9bad51b",
   "metadata": {},
   "source": [
    "### _SELF is model3  and _EXPORT is model4"
   ]
  },
  {
   "cell_type": "code",
   "execution_count": 32,
   "id": "937626ab-a47f-4673-b7a1-1b7ffdbdf135",
   "metadata": {},
   "outputs": [],
   "source": [
    "#mvrnorm(1000, coef(model3), vcov(model3), empirical=T)\n",
    "write.csv(as.data.frame(MASS::mvrnorm(1000, coef(model3), vcov(model3), empirical = TRUE)), \"mvrnorm_SELF_Contribution.csv\", row.names = FALSE)\n"
   ]
  },
  {
   "cell_type": "code",
   "execution_count": 31,
   "id": "25025a42-9be1-4214-bae9-4da565b5f75c",
   "metadata": {},
   "outputs": [
    {
     "data": {
      "text/html": [
       "'/Users/taky/Library/CloudStorage/GoogleDrive-tahmid@udel.edu/.shortcut-targets-by-id/1eGPs0oRCM_msajXTz-8JAX1bzMezBk8J/CCAC/analysis'"
      ],
      "text/latex": [
       "'/Users/taky/Library/CloudStorage/GoogleDrive-tahmid@udel.edu/.shortcut-targets-by-id/1eGPs0oRCM\\_msajXTz-8JAX1bzMezBk8J/CCAC/analysis'"
      ],
      "text/markdown": [
       "'/Users/taky/Library/CloudStorage/GoogleDrive-tahmid@udel.edu/.shortcut-targets-by-id/1eGPs0oRCM_msajXTz-8JAX1bzMezBk8J/CCAC/analysis'"
      ],
      "text/plain": [
       "[1] \"/Users/taky/Library/CloudStorage/GoogleDrive-tahmid@udel.edu/.shortcut-targets-by-id/1eGPs0oRCM_msajXTz-8JAX1bzMezBk8J/CCAC/analysis\""
      ]
     },
     "metadata": {},
     "output_type": "display_data"
    }
   ],
   "source": [
    "getwd()"
   ]
  },
  {
   "cell_type": "code",
   "execution_count": 33,
   "id": "17a01981-999b-41bd-88cd-d7df4df34d15",
   "metadata": {},
   "outputs": [],
   "source": [
    "#mvrnorm(1000, coef(model4), vcov(model4), empirical=T)\n",
    "write.csv(as.data.frame(MASS::mvrnorm(1000, coef(model4), vcov(model4), empirical = TRUE)), \"mvrnorm_EXPORT_Contribution.csv\", row.names = FALSE)\n"
   ]
  }
 ],
 "metadata": {
  "kernelspec": {
   "display_name": "R",
   "language": "R",
   "name": "ir"
  },
  "language_info": {
   "codemirror_mode": "r",
   "file_extension": ".r",
   "mimetype": "text/x-r-source",
   "name": "R",
   "pygments_lexer": "r",
   "version": "4.3.0"
  }
 },
 "nbformat": 4,
 "nbformat_minor": 5
}

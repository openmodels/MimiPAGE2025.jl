{
 "cells": [
  {
   "cell_type": "code",
   "execution_count": 1,
   "id": "b6f1262f",
   "metadata": {
    "scrolled": true
   },
   "outputs": [],
   "source": [
    "library(readxl)"
   ]
  },
  {
   "cell_type": "code",
   "execution_count": 2,
   "id": "991c444e",
   "metadata": {},
   "outputs": [
    {
     "name": "stderr",
     "output_type": "stream",
     "text": [
      "\n",
      "Attaching package: ‘dplyr’\n",
      "\n",
      "\n",
      "The following objects are masked from ‘package:stats’:\n",
      "\n",
      "    filter, lag\n",
      "\n",
      "\n",
      "The following objects are masked from ‘package:base’:\n",
      "\n",
      "    intersect, setdiff, setequal, union\n",
      "\n",
      "\n"
     ]
    }
   ],
   "source": [
    "library(dplyr)"
   ]
  },
  {
   "cell_type": "code",
   "execution_count": 3,
   "id": "792c900c",
   "metadata": {
    "scrolled": true
   },
   "outputs": [
    {
     "name": "stderr",
     "output_type": "stream",
     "text": [
      "Loading required package: Matrix\n",
      "\n"
     ]
    }
   ],
   "source": [
    "library(lfe)"
   ]
  },
  {
   "cell_type": "code",
   "execution_count": 4,
   "id": "0416c647",
   "metadata": {},
   "outputs": [],
   "source": [
    "df = read_xlsx(\"../data/GAINS/GHGemis_vs_PM25_conc_GAINS_countries_regions_v2.xlsx\", sheet=1)"
   ]
  },
  {
   "cell_type": "code",
   "execution_count": 5,
   "id": "c80acb67",
   "metadata": {},
   "outputs": [
    {
     "data": {
      "text/html": [
       "<style>\n",
       ".list-inline {list-style: none; margin:0; padding: 0}\n",
       ".list-inline>li {display: inline-block}\n",
       ".list-inline>li:not(:last-child)::after {content: \"\\00b7\"; padding: 0 .5ex}\n",
       "</style>\n",
       "<ol class=list-inline><li>2020</li><li>2025</li><li>2030</li><li>2035</li><li>2040</li><li>2045</li><li>2050</li></ol>\n"
      ],
      "text/latex": [
       "\\begin{enumerate*}\n",
       "\\item 2020\n",
       "\\item 2025\n",
       "\\item 2030\n",
       "\\item 2035\n",
       "\\item 2040\n",
       "\\item 2045\n",
       "\\item 2050\n",
       "\\end{enumerate*}\n"
      ],
      "text/markdown": [
       "1. 2020\n",
       "2. 2025\n",
       "3. 2030\n",
       "4. 2035\n",
       "5. 2040\n",
       "6. 2045\n",
       "7. 2050\n",
       "\n",
       "\n"
      ],
      "text/plain": [
       "[1] 2020 2025 2030 2035 2040 2045 2050"
      ]
     },
     "metadata": {},
     "output_type": "display_data"
    }
   ],
   "source": [
    "unique(df$IDYEARS)"
   ]
  },
  {
   "cell_type": "code",
   "execution_count": 6,
   "id": "59590fdd",
   "metadata": {
    "scrolled": true
   },
   "outputs": [
    {
     "data": {
      "text/html": [
       "<table class=\"dataframe\">\n",
       "<caption>A tibble: 6 × 11</caption>\n",
       "<thead>\n",
       "\t<tr><th scope=col>IDSCENARIOS</th><th scope=col>IDYEARS</th><th scope=col>REGION_4LETTER</th><th scope=col>REGION_4LETTER_LABEL</th><th scope=col>POP</th><th scope=col>GDP</th><th scope=col>GDP_PPP</th><th scope=col>EMIS_CO2_KT</th><th scope=col>EMIS_CH4_KT</th><th scope=col>PM25_ANTHROP</th><th scope=col>PM25_TOTAL</th></tr>\n",
       "\t<tr><th scope=col>&lt;chr&gt;</th><th scope=col>&lt;dbl&gt;</th><th scope=col>&lt;chr&gt;</th><th scope=col>&lt;chr&gt;</th><th scope=col>&lt;dbl&gt;</th><th scope=col>&lt;dbl&gt;</th><th scope=col>&lt;dbl&gt;</th><th scope=col>&lt;dbl&gt;</th><th scope=col>&lt;dbl&gt;</th><th scope=col>&lt;dbl&gt;</th><th scope=col>&lt;dbl&gt;</th></tr>\n",
       "</thead>\n",
       "<tbody>\n",
       "\t<tr><td>Baseline</td><td>2020</td><td>AFGH</td><td>Afghanistan</td><td>38054941</td><td>  9.289786</td><td> 22.48262</td><td> 23451.44</td><td> 712.67</td><td>42.63</td><td>57.29</td></tr>\n",
       "\t<tr><td>Baseline</td><td>2020</td><td>ALBA</td><td>Albania    </td><td> 2942034</td><td> 11.301931</td><td> 24.96461</td><td>  4688.82</td><td> 150.49</td><td>16.50</td><td>17.96</td></tr>\n",
       "\t<tr><td>Baseline</td><td>2020</td><td>ARGE</td><td>Argentina  </td><td>45510399</td><td>242.398694</td><td>510.02911</td><td>138696.29</td><td>5964.82</td><td> 3.37</td><td> 5.59</td></tr>\n",
       "\t<tr><td>Baseline</td><td>2020</td><td>ARME</td><td>Armenia    </td><td> 2938679</td><td> 10.762538</td><td> 28.98772</td><td>  6692.76</td><td>  86.93</td><td>10.04</td><td>13.67</td></tr>\n",
       "\t<tr><td>Baseline</td><td>2020</td><td>AUST</td><td>Austria    </td><td> 8782210</td><td>353.917177</td><td>317.53936</td><td> 60160.62</td><td> 222.75</td><td> 9.37</td><td> 9.71</td></tr>\n",
       "\t<tr><td>Baseline</td><td>2020</td><td>AUTR</td><td>Australia  </td><td>25398177</td><td>986.870189</td><td>907.28794</td><td>371354.65</td><td>4983.79</td><td> 2.43</td><td> 3.96</td></tr>\n",
       "</tbody>\n",
       "</table>\n"
      ],
      "text/latex": [
       "A tibble: 6 × 11\n",
       "\\begin{tabular}{lllllllllll}\n",
       " IDSCENARIOS & IDYEARS & REGION\\_4LETTER & REGION\\_4LETTER\\_LABEL & POP & GDP & GDP\\_PPP & EMIS\\_CO2\\_KT & EMIS\\_CH4\\_KT & PM25\\_ANTHROP & PM25\\_TOTAL\\\\\n",
       " <chr> & <dbl> & <chr> & <chr> & <dbl> & <dbl> & <dbl> & <dbl> & <dbl> & <dbl> & <dbl>\\\\\n",
       "\\hline\n",
       "\t Baseline & 2020 & AFGH & Afghanistan & 38054941 &   9.289786 &  22.48262 &  23451.44 &  712.67 & 42.63 & 57.29\\\\\n",
       "\t Baseline & 2020 & ALBA & Albania     &  2942034 &  11.301931 &  24.96461 &   4688.82 &  150.49 & 16.50 & 17.96\\\\\n",
       "\t Baseline & 2020 & ARGE & Argentina   & 45510399 & 242.398694 & 510.02911 & 138696.29 & 5964.82 &  3.37 &  5.59\\\\\n",
       "\t Baseline & 2020 & ARME & Armenia     &  2938679 &  10.762538 &  28.98772 &   6692.76 &   86.93 & 10.04 & 13.67\\\\\n",
       "\t Baseline & 2020 & AUST & Austria     &  8782210 & 353.917177 & 317.53936 &  60160.62 &  222.75 &  9.37 &  9.71\\\\\n",
       "\t Baseline & 2020 & AUTR & Australia   & 25398177 & 986.870189 & 907.28794 & 371354.65 & 4983.79 &  2.43 &  3.96\\\\\n",
       "\\end{tabular}\n"
      ],
      "text/markdown": [
       "\n",
       "A tibble: 6 × 11\n",
       "\n",
       "| IDSCENARIOS &lt;chr&gt; | IDYEARS &lt;dbl&gt; | REGION_4LETTER &lt;chr&gt; | REGION_4LETTER_LABEL &lt;chr&gt; | POP &lt;dbl&gt; | GDP &lt;dbl&gt; | GDP_PPP &lt;dbl&gt; | EMIS_CO2_KT &lt;dbl&gt; | EMIS_CH4_KT &lt;dbl&gt; | PM25_ANTHROP &lt;dbl&gt; | PM25_TOTAL &lt;dbl&gt; |\n",
       "|---|---|---|---|---|---|---|---|---|---|---|\n",
       "| Baseline | 2020 | AFGH | Afghanistan | 38054941 |   9.289786 |  22.48262 |  23451.44 |  712.67 | 42.63 | 57.29 |\n",
       "| Baseline | 2020 | ALBA | Albania     |  2942034 |  11.301931 |  24.96461 |   4688.82 |  150.49 | 16.50 | 17.96 |\n",
       "| Baseline | 2020 | ARGE | Argentina   | 45510399 | 242.398694 | 510.02911 | 138696.29 | 5964.82 |  3.37 |  5.59 |\n",
       "| Baseline | 2020 | ARME | Armenia     |  2938679 |  10.762538 |  28.98772 |   6692.76 |   86.93 | 10.04 | 13.67 |\n",
       "| Baseline | 2020 | AUST | Austria     |  8782210 | 353.917177 | 317.53936 |  60160.62 |  222.75 |  9.37 |  9.71 |\n",
       "| Baseline | 2020 | AUTR | Australia   | 25398177 | 986.870189 | 907.28794 | 371354.65 | 4983.79 |  2.43 |  3.96 |\n",
       "\n"
      ],
      "text/plain": [
       "  IDSCENARIOS IDYEARS REGION_4LETTER REGION_4LETTER_LABEL POP      GDP       \n",
       "1 Baseline    2020    AFGH           Afghanistan          38054941   9.289786\n",
       "2 Baseline    2020    ALBA           Albania               2942034  11.301931\n",
       "3 Baseline    2020    ARGE           Argentina            45510399 242.398694\n",
       "4 Baseline    2020    ARME           Armenia               2938679  10.762538\n",
       "5 Baseline    2020    AUST           Austria               8782210 353.917177\n",
       "6 Baseline    2020    AUTR           Australia            25398177 986.870189\n",
       "  GDP_PPP   EMIS_CO2_KT EMIS_CH4_KT PM25_ANTHROP PM25_TOTAL\n",
       "1  22.48262  23451.44    712.67     42.63        57.29     \n",
       "2  24.96461   4688.82    150.49     16.50        17.96     \n",
       "3 510.02911 138696.29   5964.82      3.37         5.59     \n",
       "4  28.98772   6692.76     86.93     10.04        13.67     \n",
       "5 317.53936  60160.62    222.75      9.37         9.71     \n",
       "6 907.28794 371354.65   4983.79      2.43         3.96     "
      ]
     },
     "metadata": {},
     "output_type": "display_data"
    }
   ],
   "source": [
    "head(df)"
   ]
  },
  {
   "cell_type": "code",
   "execution_count": 7,
   "id": "ff89abb1",
   "metadata": {},
   "outputs": [
    {
     "data": {
      "text/html": [
       "<style>\n",
       ".list-inline {list-style: none; margin:0; padding: 0}\n",
       ".list-inline>li {display: inline-block}\n",
       ".list-inline>li:not(:last-child)::after {content: \"\\00b7\"; padding: 0 .5ex}\n",
       "</style>\n",
       "<ol class=list-inline><li>'Baseline'</li><li>'Decarb'</li></ol>\n"
      ],
      "text/latex": [
       "\\begin{enumerate*}\n",
       "\\item 'Baseline'\n",
       "\\item 'Decarb'\n",
       "\\end{enumerate*}\n"
      ],
      "text/markdown": [
       "1. 'Baseline'\n",
       "2. 'Decarb'\n",
       "\n",
       "\n"
      ],
      "text/plain": [
       "[1] \"Baseline\" \"Decarb\"  "
      ]
     },
     "metadata": {},
     "output_type": "display_data"
    }
   ],
   "source": [
    "unique(df$IDSCENARIOS)"
   ]
  },
  {
   "cell_type": "code",
   "execution_count": 8,
   "id": "ed28a875",
   "metadata": {},
   "outputs": [],
   "source": [
    "df$GDPPC_PPP = df$GDP_PPP / df$POP"
   ]
  },
  {
   "cell_type": "code",
   "execution_count": 9,
   "id": "c1cbc4b7",
   "metadata": {},
   "outputs": [
    {
     "name": "stderr",
     "output_type": "stream",
     "text": [
      "Warning message in chol.default(mat, pivot = TRUE, tol = tol):\n",
      "“the matrix is either rank-deficient or not positive definite”\n"
     ]
    },
    {
     "data": {
      "text/plain": [
       "\n",
       "Call:\n",
       "   felm(formula = PM25_ANTHROP ~ EMIS_CO2_KT + EMIS_CH4_KT + GDPPC_PPP |      factor(IDYEARS) + REGION_4LETTER, data = df) \n",
       "\n",
       "Residuals:\n",
       "    Min      1Q  Median      3Q     Max \n",
       "-28.166  -2.007   0.000   2.074  29.793 \n",
       "\n",
       "Coefficients:\n",
       "              Estimate Std. Error t value Pr(>|t|)    \n",
       "EMIS_CO2_KT -8.563e-07  5.582e-07  -1.534    0.125    \n",
       "EMIS_CH4_KT  9.133e-04  8.440e-05  10.821   <2e-16 ***\n",
       "GDPPC_PPP    8.734e+03  1.124e+04   0.777    0.437    \n",
       "---\n",
       "Signif. codes:  0 ‘***’ 0.001 ‘**’ 0.01 ‘*’ 0.05 ‘.’ 0.1 ‘ ’ 1\n",
       "\n",
       "Residual standard error: 5.975 on 1058 degrees of freedom\n",
       "Multiple R-squared(full model): 0.6451   Adjusted R-squared: 0.6079 \n",
       "Multiple R-squared(proj model): 0.1506   Adjusted R-squared: 0.06145 \n",
       "F-statistic(full model):17.32 on 111 and 1058 DF, p-value: < 2.2e-16 \n",
       "F-statistic(proj model): 0.2014 on 3 and 1058 DF, p-value: 0.8954 \n",
       "\n"
      ]
     },
     "metadata": {},
     "output_type": "display_data"
    }
   ],
   "source": [
    "summary(felm(PM25_ANTHROP ~ EMIS_CO2_KT + EMIS_CH4_KT + GDPPC_PPP | factor(IDYEARS) + REGION_4LETTER, data=df))"
   ]
  },
  {
   "cell_type": "code",
   "execution_count": 10,
   "id": "558234c9",
   "metadata": {},
   "outputs": [
    {
     "data": {
      "text/plain": [
       "\n",
       "Call:\n",
       "   felm(formula = log(PM25_ANTHROP) ~ log(EMIS_CO2_KT) + log(EMIS_CH4_KT) |      factor(IDYEARS) + REGION_4LETTER, data = df) \n",
       "\n",
       "Residuals:\n",
       "     Min       1Q   Median       3Q      Max \n",
       "-1.74938 -0.19194  0.01856  0.19418  2.12580 \n",
       "\n",
       "Coefficients:\n",
       "                 Estimate Std. Error t value Pr(>|t|)    \n",
       "log(EMIS_CO2_KT)  0.60345    0.02022   29.85   <2e-16 ***\n",
       "log(EMIS_CH4_KT)  0.70432    0.03263   21.59   <2e-16 ***\n",
       "---\n",
       "Signif. codes:  0 ‘***’ 0.001 ‘**’ 0.01 ‘*’ 0.05 ‘.’ 0.1 ‘ ’ 1\n",
       "\n",
       "Residual standard error: 0.3361 on 1059 degrees of freedom\n",
       "Multiple R-squared(full model): 0.8789   Adjusted R-squared: 0.8663 \n",
       "Multiple R-squared(proj model): 0.7168   Adjusted R-squared: 0.6874 \n",
       "F-statistic(full model):69.86 on 110 and 1059 DF, p-value: < 2.2e-16 \n",
       "F-statistic(proj model):  1340 on 2 and 1059 DF, p-value: < 2.2e-16 \n",
       "\n"
      ]
     },
     "metadata": {},
     "output_type": "display_data"
    }
   ],
   "source": [
    "summary(felm(log(PM25_ANTHROP) ~ log(EMIS_CO2_KT) + log(EMIS_CH4_KT) | factor(IDYEARS) + REGION_4LETTER, data=df))"
   ]
  },
  {
   "cell_type": "code",
   "execution_count": 11,
   "id": "2c4681c8",
   "metadata": {
    "scrolled": true
   },
   "outputs": [
    {
     "data": {
      "text/plain": [
       "\n",
       "Call:\n",
       "   felm(formula = log(PM25_ANTHROP) ~ log(EMIS_CO2_KT) + log(EMIS_CH4_KT) +      log(GDPPC_PPP) | factor(IDYEARS) + REGION_4LETTER, data = df) \n",
       "\n",
       "Residuals:\n",
       "    Min      1Q  Median      3Q     Max \n",
       "-1.7852 -0.1915  0.0127  0.1903  2.1432 \n",
       "\n",
       "Coefficients:\n",
       "                 Estimate Std. Error t value Pr(>|t|)    \n",
       "log(EMIS_CO2_KT)  0.60849    0.02021  30.112   <2e-16 ***\n",
       "log(EMIS_CH4_KT)  0.70066    0.03253  21.541   <2e-16 ***\n",
       "log(GDPPC_PPP)   -0.20972    0.06920  -3.031   0.0025 ** \n",
       "---\n",
       "Signif. codes:  0 ‘***’ 0.001 ‘**’ 0.01 ‘*’ 0.05 ‘.’ 0.1 ‘ ’ 1\n",
       "\n",
       "Residual standard error: 0.3348 on 1058 degrees of freedom\n",
       "Multiple R-squared(full model): 0.8799   Adjusted R-squared: 0.8673 \n",
       "Multiple R-squared(proj model): 0.7192   Adjusted R-squared: 0.6898 \n",
       "F-statistic(full model):69.85 on 111 and 1058 DF, p-value: < 2.2e-16 \n",
       "F-statistic(proj model): 903.4 on 3 and 1058 DF, p-value: < 2.2e-16 \n",
       "\n"
      ]
     },
     "metadata": {},
     "output_type": "display_data"
    }
   ],
   "source": [
    "summary(felm(log(PM25_ANTHROP) ~ log(EMIS_CO2_KT) + log(EMIS_CH4_KT) + log(GDPPC_PPP) | factor(IDYEARS) + REGION_4LETTER, data=df))"
   ]
  },
  {
   "cell_type": "code",
   "execution_count": 12,
   "id": "df06fb58",
   "metadata": {},
   "outputs": [],
   "source": [
    "df$loggdppc = log(df$GDPPC_PPP)\n",
    "df$loggdppc2 = df$loggdppc^2"
   ]
  },
  {
   "cell_type": "code",
   "execution_count": 13,
   "id": "671ade25",
   "metadata": {},
   "outputs": [
    {
     "data": {
      "text/plain": [
       "\n",
       "Call:\n",
       "   felm(formula = log(PM25_ANTHROP) ~ log(EMIS_CO2_KT) + log(EMIS_CH4_KT) +      loggdppc + loggdppc2 | factor(IDYEARS) + REGION_4LETTER,      data = df) \n",
       "\n",
       "Residuals:\n",
       "     Min       1Q   Median       3Q      Max \n",
       "-1.71672 -0.18172  0.00289  0.18436  2.07217 \n",
       "\n",
       "Coefficients:\n",
       "                 Estimate Std. Error t value Pr(>|t|)    \n",
       "log(EMIS_CO2_KT)  0.62856    0.01991  31.575  < 2e-16 ***\n",
       "log(EMIS_CH4_KT)  0.69735    0.03174  21.968  < 2e-16 ***\n",
       "loggdppc          1.94446    0.30068   6.467 1.53e-10 ***\n",
       "loggdppc2         0.10341    0.01407   7.352 3.90e-13 ***\n",
       "---\n",
       "Signif. codes:  0 ‘***’ 0.001 ‘**’ 0.01 ‘*’ 0.05 ‘.’ 0.1 ‘ ’ 1\n",
       "\n",
       "Residual standard error: 0.3267 on 1057 degrees of freedom\n",
       "Multiple R-squared(full model): 0.8858   Adjusted R-squared: 0.8737 \n",
       "Multiple R-squared(proj model): 0.7329   Adjusted R-squared: 0.7046 \n",
       "F-statistic(full model):73.18 on 112 and 1057 DF, p-value: < 2.2e-16 \n",
       "F-statistic(proj model): 725.1 on 4 and 1057 DF, p-value: < 2.2e-16 \n",
       "\n"
      ]
     },
     "metadata": {},
     "output_type": "display_data"
    }
   ],
   "source": [
    "summary(felm(log(PM25_ANTHROP) ~ log(EMIS_CO2_KT) + log(EMIS_CH4_KT) + loggdppc + loggdppc2 | factor(IDYEARS) + REGION_4LETTER, data=df))"
   ]
  },
  {
   "cell_type": "code",
   "execution_count": 14,
   "id": "99f19124",
   "metadata": {},
   "outputs": [],
   "source": [
    "df$year2000 <- df$IDYEARS - 2000"
   ]
  },
  {
   "cell_type": "code",
   "execution_count": 15,
   "id": "8d1e3718",
   "metadata": {
    "scrolled": true
   },
   "outputs": [
    {
     "data": {
      "text/plain": [
       "\n",
       "Call:\n",
       "   felm(formula = log(PM25_ANTHROP) ~ log(EMIS_CO2_KT) + log(EMIS_CH4_KT) +      log(EMIS_CO2_KT):year2000 + log(EMIS_CH4_KT):year2000 + loggdppc +      loggdppc2 | factor(IDYEARS) + REGION_4LETTER, data = df) \n",
       "\n",
       "Residuals:\n",
       "     Min       1Q   Median       3Q      Max \n",
       "-1.60629 -0.18037  0.00944  0.18057  1.97077 \n",
       "\n",
       "Coefficients:\n",
       "                           Estimate Std. Error t value Pr(>|t|)    \n",
       "log(EMIS_CO2_KT)           0.561228   0.054528  10.292  < 2e-16 ***\n",
       "log(EMIS_CH4_KT)           0.861880   0.056627  15.220  < 2e-16 ***\n",
       "loggdppc                   1.133211   0.367358   3.085 0.002090 ** \n",
       "loggdppc2                  0.065046   0.017481   3.721 0.000209 ***\n",
       "log(EMIS_CO2_KT):year2000  0.001948   0.001199   1.625 0.104434    \n",
       "log(EMIS_CH4_KT):year2000 -0.004416   0.001240  -3.562 0.000385 ***\n",
       "---\n",
       "Signif. codes:  0 ‘***’ 0.001 ‘**’ 0.01 ‘*’ 0.05 ‘.’ 0.1 ‘ ’ 1\n",
       "\n",
       "Residual standard error: 0.3236 on 1055 degrees of freedom\n",
       "Multiple R-squared(full model): 0.8881   Adjusted R-squared: 0.8761 \n",
       "Multiple R-squared(proj model): 0.7385   Adjusted R-squared: 0.7102 \n",
       "F-statistic(full model):73.48 on 114 and 1055 DF, p-value: < 2.2e-16 \n",
       "F-statistic(proj model): 496.5 on 6 and 1055 DF, p-value: < 2.2e-16 \n",
       "\n"
      ]
     },
     "metadata": {},
     "output_type": "display_data"
    }
   ],
   "source": [
    "summary(felm(log(PM25_ANTHROP) ~ log(EMIS_CO2_KT) + log(EMIS_CH4_KT) + log(EMIS_CO2_KT):year2000 + log(EMIS_CH4_KT):year2000 + loggdppc + loggdppc2 | factor(IDYEARS) + REGION_4LETTER, data=df))"
   ]
  },
  {
   "cell_type": "code",
   "execution_count": 16,
   "id": "954c15b6",
   "metadata": {},
   "outputs": [
    {
     "data": {
      "text/plain": [
       "\n",
       "Call:\n",
       "   felm(formula = log(PM25_ANTHROP) ~ log(EMIS_CO2_KT) + log(EMIS_CH4_KT) +      log(EMIS_CO2_KT):year2000 + log(EMIS_CH4_KT):year2000 + loggdppc +      loggdppc2 | factor(IDYEARS) + REGION_4LETTER, data = subset(df,      IDSCENARIOS == \"Baseline\")) \n",
       "\n",
       "Residuals:\n",
       "     Min       1Q   Median       3Q      Max \n",
       "-0.70218 -0.04428  0.00000  0.04498  0.52200 \n",
       "\n",
       "Coefficients:\n",
       "                            Estimate Std. Error t value Pr(>|t|)    \n",
       "log(EMIS_CO2_KT)           0.3063303  0.0281538  10.881  < 2e-16 ***\n",
       "log(EMIS_CH4_KT)           0.4256028  0.0568904   7.481  2.8e-13 ***\n",
       "loggdppc                  -0.3326619  0.1367828  -2.432   0.0153 *  \n",
       "loggdppc2                 -0.0130997  0.0065201  -2.009   0.0450 *  \n",
       "log(EMIS_CO2_KT):year2000  0.0006298  0.0005542   1.136   0.2563    \n",
       "log(EMIS_CH4_KT):year2000 -0.0001278  0.0005863  -0.218   0.8275    \n",
       "---\n",
       "Signif. codes:  0 ‘***’ 0.001 ‘**’ 0.01 ‘*’ 0.05 ‘.’ 0.1 ‘ ’ 1\n",
       "\n",
       "Residual standard error: 0.108 on 570 degrees of freedom\n",
       "Multiple R-squared(full model): 0.9819   Adjusted R-squared: 0.9782 \n",
       "Multiple R-squared(proj model): 0.6616   Adjusted R-squared: 0.5939 \n",
       "F-statistic(full model):270.6 on 114 and 570 DF, p-value: < 2.2e-16 \n",
       "F-statistic(proj model): 185.7 on 6 and 570 DF, p-value: < 2.2e-16 \n",
       "\n"
      ]
     },
     "metadata": {},
     "output_type": "display_data"
    }
   ],
   "source": [
    "summary(felm(log(PM25_ANTHROP) ~ log(EMIS_CO2_KT) + log(EMIS_CH4_KT) + log(EMIS_CO2_KT):year2000 + log(EMIS_CH4_KT):year2000 + loggdppc + loggdppc2 | factor(IDYEARS) + REGION_4LETTER, data=subset(df, IDSCENARIOS == \"Baseline\")))"
   ]
  },
  {
   "cell_type": "code",
   "execution_count": 17,
   "id": "d9010d40",
   "metadata": {
    "scrolled": true
   },
   "outputs": [
    {
     "data": {
      "text/plain": [
       "\n",
       "Call:\n",
       "   felm(formula = log(PM25_ANTHROP) ~ log(EMIS_CO2_KT) + log(EMIS_CH4_KT) +      log(EMIS_CO2_KT):year2000 + log(EMIS_CH4_KT):year2000 + loggdppc +      loggdppc2 | factor(IDYEARS) + REGION_4LETTER, data = subset(df,      IDSCENARIOS == \"Decarb\")) \n",
       "\n",
       "Residuals:\n",
       "     Min       1Q   Median       3Q      Max \n",
       "-0.33334 -0.04377 -0.00051  0.04200  0.86495 \n",
       "\n",
       "Coefficients:\n",
       "                            Estimate Std. Error t value Pr(>|t|)  \n",
       "log(EMIS_CO2_KT)           0.0849022  0.0480131   1.768   0.0778 .\n",
       "log(EMIS_CH4_KT)          -0.0443789  0.0508914  -0.872   0.3837  \n",
       "loggdppc                  -0.2253216  0.4141880  -0.544   0.5868  \n",
       "loggdppc2                 -0.0069496  0.0198023  -0.351   0.7258  \n",
       "log(EMIS_CO2_KT):year2000 -0.0001355  0.0008746  -0.155   0.8769  \n",
       "log(EMIS_CH4_KT):year2000  0.0004302  0.0009473   0.454   0.6500  \n",
       "---\n",
       "Signif. codes:  0 ‘***’ 0.001 ‘**’ 0.01 ‘*’ 0.05 ‘.’ 0.1 ‘ ’ 1\n",
       "\n",
       "Residual standard error: 0.1107 on 378 degrees of freedom\n",
       "Multiple R-squared(full model): 0.979   Adjusted R-squared: 0.9731 \n",
       "Multiple R-squared(proj model): 0.03534   Adjusted R-squared: -0.2352 \n",
       "F-statistic(full model):  166 on 106 and 378 DF, p-value: < 2.2e-16 \n",
       "F-statistic(proj model): 2.308 on 6 and 378 DF, p-value: 0.03351 \n",
       "\n"
      ]
     },
     "metadata": {},
     "output_type": "display_data"
    }
   ],
   "source": [
    "summary(felm(log(PM25_ANTHROP) ~ log(EMIS_CO2_KT) + log(EMIS_CH4_KT) + log(EMIS_CO2_KT):year2000 + log(EMIS_CH4_KT):year2000 + loggdppc + loggdppc2 | factor(IDYEARS) + REGION_4LETTER, data=subset(df, IDSCENARIOS == \"Decarb\")))"
   ]
  },
  {
   "cell_type": "code",
   "execution_count": 18,
   "id": "2aeeb3bb",
   "metadata": {},
   "outputs": [],
   "source": [
    "df$logpm = log(df$PM25_ANTHROP)\n",
    "mod.base = lm(logpm ~ log(EMIS_CO2_KT) + log(EMIS_CH4_KT) + log(EMIS_CO2_KT):year2000 + log(EMIS_CH4_KT):year2000 + loggdppc + loggdppc2 + factor(IDYEARS) + REGION_4LETTER, data=subset(df, IDSCENARIOS == \"Baseline\"))\n",
    "mod.decb = lm(logpm ~ log(EMIS_CO2_KT) + log(EMIS_CH4_KT) + log(EMIS_CO2_KT):year2000 + log(EMIS_CH4_KT):year2000 + loggdppc + loggdppc2 + factor(IDYEARS) + REGION_4LETTER, data=subset(df, IDSCENARIOS == \"Decarb\"))"
   ]
  },
  {
   "cell_type": "code",
   "execution_count": 19,
   "id": "0e41392b",
   "metadata": {},
   "outputs": [],
   "source": [
    "df.base = subset(df, IDSCENARIOS == \"Baseline\")\n",
    "df.decb = subset(df, IDSCENARIOS == \"Decarb\")"
   ]
  },
  {
   "cell_type": "code",
   "execution_count": 20,
   "id": "3a220437",
   "metadata": {},
   "outputs": [
    {
     "data": {
      "text/html": [
       "<style>\n",
       ".dl-inline {width: auto; margin:0; padding: 0}\n",
       ".dl-inline>dt, .dl-inline>dd {float: none; width: auto; display: inline-block}\n",
       ".dl-inline>dt::after {content: \":\\0020\"; padding-right: .5ex}\n",
       ".dl-inline>dt:not(:first-of-type) {padding-left: .5ex}\n",
       "</style><dl class=dl-inline><dt>(Intercept)</dt><dd>-4.15981072979866</dd><dt>log(EMIS_CO2_KT)</dt><dd>0.306330302554014</dd><dt>log(EMIS_CH4_KT)</dt><dd>0.425602816341563</dd><dt>loggdppc</dt><dd>-0.332661936493539</dd><dt>loggdppc2</dt><dd>-0.0130997430186135</dd><dt>factor(IDYEARS)2025</dt><dd>-0.0713746509121119</dd><dt>factor(IDYEARS)2030</dt><dd>-0.141629223455182</dd><dt>factor(IDYEARS)2035</dt><dd>-0.179042083399502</dd><dt>factor(IDYEARS)2040</dt><dd>-0.206971681876922</dd><dt>factor(IDYEARS)2045</dt><dd>-0.202809723283985</dd><dt>factor(IDYEARS)2050</dt><dd>-0.206509067050187</dd><dt>REGION_4LETTERALBA</dt><dd>-0.239020169823274</dd><dt>REGION_4LETTERARGE</dt><dd>-4.20783430366951</dd><dt>REGION_4LETTERARME</dt><dd>-0.437411752273522</dd><dt>REGION_4LETTERAUST</dt><dd>-1.59864377360354</dd><dt>REGION_4LETTERAUTR</dt><dd>-4.49882527263603</dd><dt>REGION_4LETTERAZER</dt><dd>-1.98133960017446</dd><dt>REGION_4LETTERBANG</dt><dd>-1.14217493194169</dd><dt>REGION_4LETTERBELA</dt><dd>-1.89929097168238</dd><dt>REGION_4LETTERBELG</dt><dd>-1.76311299820304</dd><dt>REGION_4LETTERBHUT</dt><dd>0.419216807072015</dd><dt>REGION_4LETTERBOHE</dt><dd>-0.45773082089914</dd><dt>REGION_4LETTERBOLV</dt><dd>-2.93067756181747</dd><dt>REGION_4LETTERBRAZ</dt><dd>-4.48755337422809</dd><dt>REGION_4LETTERBRUN</dt><dd>-1.01434528812516</dd><dt>REGION_4LETTERBULG</dt><dd>-1.23557751290358</dd><dt>REGION_4LETTERCAMB</dt><dd>-1.51048385787959</dd><dt>REGION_4LETTERCANA</dt><dd>-3.5947763495335</dd><dt>REGION_4LETTERCARB</dt><dd>-3.37255445221288</dd><dt>REGION_4LETTERCEAM</dt><dd>-2.76854486714958</dd><dt>REGION_4LETTERCHIL</dt><dd>-1.61946864182643</dd><dt>REGION_4LETTERCHIN</dt><dd>-4.52935865806001</dd><dt>REGION_4LETTERCOLO</dt><dd>-3.11060584561644</dd><dt>REGION_4LETTERCROA</dt><dd>-0.766262487225707</dd><dt>REGION_4LETTERCYPR</dt><dd>0.0963102013617687</dd><dt>REGION_4LETTERCZRE</dt><dd>-1.53803806139837</dd><dt>REGION_4LETTERDENM</dt><dd>-1.83520338943598</dd><dt>REGION_4LETTEREAFR</dt><dd>-3.59010423935681</dd><dt>REGION_4LETTERECUA</dt><dd>-2.70608133965216</dd><dt>REGION_4LETTEREGYP</dt><dd>-2.40572130366603</dd><dt>REGION_4LETTERESTO</dt><dd>-0.597943047770351</dd><dt>REGION_4LETTERFINL</dt><dd>-2.06585477087131</dd><dt>REGION_4LETTERFRAN</dt><dd>-3.11079142868905</dd><dt>REGION_4LETTERGEOR</dt><dd>-1.21359717548888</dd><dt>REGION_4LETTERGERM</dt><dd>-3.16265941492944</dd><dt>REGION_4LETTERGREE</dt><dd>-1.62789103614497</dd><dt>REGION_4LETTERHUNG</dt><dd>-1.22965854427897</dd><dt>REGION_4LETTERICEL</dt><dd>-0.515040076737963</dd><dt>REGION_4LETTERINDI</dt><dd>-3.53836667118202</dd><dt>REGION_4LETTERINDO</dt><dd>-2.63677759533061</dd><dt>REGION_4LETTERIRAN</dt><dd>-2.921911299062</dd><dt>REGION_4LETTERIREL</dt><dd>-2.68067938431464</dd><dt>REGION_4LETTERISRA</dt><dd>-1.06333122226766</dd><dt>REGION_4LETTERITAL</dt><dd>-2.50976972895202</dd><dt>REGION_4LETTERJAPA</dt><dd>-3.24326055463902</dd><dt>REGION_4LETTERKAZA</dt><dd>-2.00884924732878</dd><dt>REGION_4LETTERKENY</dt><dd>-2.36158078687159</dd><dt>REGION_4LETTERKORN</dt><dd>-1.31675401741877</dd><dt>REGION_4LETTERKORS</dt><dd>-1.91265251098549</dd><dt>REGION_4LETTERKOSO</dt><dd>0.785214650907877</dd><dt>REGION_4LETTERKYRG</dt><dd>-0.739237599478192</dd><dt>REGION_4LETTERLAOS</dt><dd>-1.69758479701394</dd><dt>REGION_4LETTERLATV</dt><dd>-0.545608118914966</dd><dt>REGION_4LETTERLITH</dt><dd>-0.9155782220736</dd><dt>REGION_4LETTERLUXE</dt><dd>0.0679706748542211</dd><dt>REGION_4LETTERMACE</dt><dd>0.120121126873246</dd><dt>REGION_4LETTERMALA</dt><dd>-1.87810523258758</dd><dt>REGION_4LETTERMALT</dt><dd>0.872065933068459</dd><dt>REGION_4LETTERMEXI</dt><dd>-3.55898548818179</dd><dt>REGION_4LETTERMIDE</dt><dd>-3.92963757509559</dd><dt>REGION_4LETTERMOLD</dt><dd>-0.348816707673384</dd><dt>REGION_4LETTERMONG</dt><dd>-1.57889972513303</dd><dt>REGION_4LETTERMONT</dt><dd>1.08208434227632</dd><dt>REGION_4LETTERMYAN</dt><dd>-2.342493277424</dd><dt>REGION_4LETTERNAFR</dt><dd>-3.36227596842275</dd><dt>REGION_4LETTERNEPA</dt><dd>-0.265923010963634</dd><dt>REGION_4LETTERNETH</dt><dd>-2.12940570406096</dd><dt>REGION_4LETTERNIGE</dt><dd>-2.63145957067051</dd><dt>REGION_4LETTERNORW</dt><dd>-2.45045712062087</dd><dt>REGION_4LETTERNZEL</dt><dd>-3.9214743647538</dd><dt>REGION_4LETTERPAKI</dt><dd>-1.91458352869811</dd><dt>REGION_4LETTERPARA</dt><dd>-2.14499538478333</dd><dt>REGION_4LETTERPERU</dt><dd>-2.0089371655671</dd><dt>REGION_4LETTERPHIL</dt><dd>-2.81088152496191</dd><dt>REGION_4LETTERPOLA</dt><dd>-2.5260573666897</dd><dt>REGION_4LETTERPORT</dt><dd>-1.82049989348975</dd><dt>REGION_4LETTERROMA</dt><dd>-1.84238243773181</dd><dt>REGION_4LETTERRSAF</dt><dd>-3.57137339880255</dd><dt>REGION_4LETTERRUSS</dt><dd>-4.72258168823332</dd><dt>REGION_4LETTERSAAR</dt><dd>-3.71965526366928</dd><dt>REGION_4LETTERSAFR</dt><dd>-3.22046688366213</dd><dt>REGION_4LETTERSERB</dt><dd>-1.00784055608999</dd><dt>REGION_4LETTERSING</dt><dd>-0.680741709831389</dd><dt>REGION_4LETTERSKRE</dt><dd>-1.01367950052772</dd><dt>REGION_4LETTERSLOV</dt><dd>-0.147779398575055</dd><dt>REGION_4LETTERSPAI</dt><dd>-2.97121033893407</dd><dt>REGION_4LETTERSRIL</dt><dd>-1.63443751966005</dd><dt>REGION_4LETTERSWED</dt><dd>-1.95085484120559</dd><dt>REGION_4LETTERSWIT</dt><dd>-1.52615317563754</dd><dt>REGION_4LETTERTAIW</dt><dd>-1.824365978224</dd><dt>REGION_4LETTERTAJI</dt><dd>-0.652369589279283</dd><dt>REGION_4LETTERTANZ</dt><dd>-2.60391471933151</dd><dt>REGION_4LETTERTHAI</dt><dd>-3.11754204092775</dd><dt>REGION_4LETTERTKME</dt><dd>-2.52000827141266</dd><dt>REGION_4LETTERTURK</dt><dd>-2.65671731169386</dd><dt>REGION_4LETTERUKRA</dt><dd>-2.88619383136781</dd><dt>REGION_4LETTERUNKI</dt><dd>-3.31055603604415</dd><dt>REGION_4LETTERURUG</dt><dd>-2.21597372298531</dd><dt>REGION_4LETTERUSAM</dt><dd>-5.40093354079942</dd><dt>REGION_4LETTERUZBE</dt><dd>-2.34192910144963</dd><dt>REGION_4LETTERVENE</dt><dd>-3.34535329409622</dd><dt>REGION_4LETTERVIET</dt><dd>-2.36886622387564</dd><dt>REGION_4LETTERWAFR</dt><dd>-3.62827362311643</dd><dt>log(EMIS_CO2_KT):year2000</dt><dd>0.000629776412366714</dd><dt>log(EMIS_CH4_KT):year2000</dt><dd>-0.000127826594575219</dd></dl>\n"
      ],
      "text/latex": [
       "\\begin{description*}\n",
       "\\item[(Intercept)] -4.15981072979866\n",
       "\\item[log(EMIS\\textbackslash{}\\_CO2\\textbackslash{}\\_KT)] 0.306330302554014\n",
       "\\item[log(EMIS\\textbackslash{}\\_CH4\\textbackslash{}\\_KT)] 0.425602816341563\n",
       "\\item[loggdppc] -0.332661936493539\n",
       "\\item[loggdppc2] -0.0130997430186135\n",
       "\\item[factor(IDYEARS)2025] -0.0713746509121119\n",
       "\\item[factor(IDYEARS)2030] -0.141629223455182\n",
       "\\item[factor(IDYEARS)2035] -0.179042083399502\n",
       "\\item[factor(IDYEARS)2040] -0.206971681876922\n",
       "\\item[factor(IDYEARS)2045] -0.202809723283985\n",
       "\\item[factor(IDYEARS)2050] -0.206509067050187\n",
       "\\item[REGION\\textbackslash{}\\_4LETTERALBA] -0.239020169823274\n",
       "\\item[REGION\\textbackslash{}\\_4LETTERARGE] -4.20783430366951\n",
       "\\item[REGION\\textbackslash{}\\_4LETTERARME] -0.437411752273522\n",
       "\\item[REGION\\textbackslash{}\\_4LETTERAUST] -1.59864377360354\n",
       "\\item[REGION\\textbackslash{}\\_4LETTERAUTR] -4.49882527263603\n",
       "\\item[REGION\\textbackslash{}\\_4LETTERAZER] -1.98133960017446\n",
       "\\item[REGION\\textbackslash{}\\_4LETTERBANG] -1.14217493194169\n",
       "\\item[REGION\\textbackslash{}\\_4LETTERBELA] -1.89929097168238\n",
       "\\item[REGION\\textbackslash{}\\_4LETTERBELG] -1.76311299820304\n",
       "\\item[REGION\\textbackslash{}\\_4LETTERBHUT] 0.419216807072015\n",
       "\\item[REGION\\textbackslash{}\\_4LETTERBOHE] -0.45773082089914\n",
       "\\item[REGION\\textbackslash{}\\_4LETTERBOLV] -2.93067756181747\n",
       "\\item[REGION\\textbackslash{}\\_4LETTERBRAZ] -4.48755337422809\n",
       "\\item[REGION\\textbackslash{}\\_4LETTERBRUN] -1.01434528812516\n",
       "\\item[REGION\\textbackslash{}\\_4LETTERBULG] -1.23557751290358\n",
       "\\item[REGION\\textbackslash{}\\_4LETTERCAMB] -1.51048385787959\n",
       "\\item[REGION\\textbackslash{}\\_4LETTERCANA] -3.5947763495335\n",
       "\\item[REGION\\textbackslash{}\\_4LETTERCARB] -3.37255445221288\n",
       "\\item[REGION\\textbackslash{}\\_4LETTERCEAM] -2.76854486714958\n",
       "\\item[REGION\\textbackslash{}\\_4LETTERCHIL] -1.61946864182643\n",
       "\\item[REGION\\textbackslash{}\\_4LETTERCHIN] -4.52935865806001\n",
       "\\item[REGION\\textbackslash{}\\_4LETTERCOLO] -3.11060584561644\n",
       "\\item[REGION\\textbackslash{}\\_4LETTERCROA] -0.766262487225707\n",
       "\\item[REGION\\textbackslash{}\\_4LETTERCYPR] 0.0963102013617687\n",
       "\\item[REGION\\textbackslash{}\\_4LETTERCZRE] -1.53803806139837\n",
       "\\item[REGION\\textbackslash{}\\_4LETTERDENM] -1.83520338943598\n",
       "\\item[REGION\\textbackslash{}\\_4LETTEREAFR] -3.59010423935681\n",
       "\\item[REGION\\textbackslash{}\\_4LETTERECUA] -2.70608133965216\n",
       "\\item[REGION\\textbackslash{}\\_4LETTEREGYP] -2.40572130366603\n",
       "\\item[REGION\\textbackslash{}\\_4LETTERESTO] -0.597943047770351\n",
       "\\item[REGION\\textbackslash{}\\_4LETTERFINL] -2.06585477087131\n",
       "\\item[REGION\\textbackslash{}\\_4LETTERFRAN] -3.11079142868905\n",
       "\\item[REGION\\textbackslash{}\\_4LETTERGEOR] -1.21359717548888\n",
       "\\item[REGION\\textbackslash{}\\_4LETTERGERM] -3.16265941492944\n",
       "\\item[REGION\\textbackslash{}\\_4LETTERGREE] -1.62789103614497\n",
       "\\item[REGION\\textbackslash{}\\_4LETTERHUNG] -1.22965854427897\n",
       "\\item[REGION\\textbackslash{}\\_4LETTERICEL] -0.515040076737963\n",
       "\\item[REGION\\textbackslash{}\\_4LETTERINDI] -3.53836667118202\n",
       "\\item[REGION\\textbackslash{}\\_4LETTERINDO] -2.63677759533061\n",
       "\\item[REGION\\textbackslash{}\\_4LETTERIRAN] -2.921911299062\n",
       "\\item[REGION\\textbackslash{}\\_4LETTERIREL] -2.68067938431464\n",
       "\\item[REGION\\textbackslash{}\\_4LETTERISRA] -1.06333122226766\n",
       "\\item[REGION\\textbackslash{}\\_4LETTERITAL] -2.50976972895202\n",
       "\\item[REGION\\textbackslash{}\\_4LETTERJAPA] -3.24326055463902\n",
       "\\item[REGION\\textbackslash{}\\_4LETTERKAZA] -2.00884924732878\n",
       "\\item[REGION\\textbackslash{}\\_4LETTERKENY] -2.36158078687159\n",
       "\\item[REGION\\textbackslash{}\\_4LETTERKORN] -1.31675401741877\n",
       "\\item[REGION\\textbackslash{}\\_4LETTERKORS] -1.91265251098549\n",
       "\\item[REGION\\textbackslash{}\\_4LETTERKOSO] 0.785214650907877\n",
       "\\item[REGION\\textbackslash{}\\_4LETTERKYRG] -0.739237599478192\n",
       "\\item[REGION\\textbackslash{}\\_4LETTERLAOS] -1.69758479701394\n",
       "\\item[REGION\\textbackslash{}\\_4LETTERLATV] -0.545608118914966\n",
       "\\item[REGION\\textbackslash{}\\_4LETTERLITH] -0.9155782220736\n",
       "\\item[REGION\\textbackslash{}\\_4LETTERLUXE] 0.0679706748542211\n",
       "\\item[REGION\\textbackslash{}\\_4LETTERMACE] 0.120121126873246\n",
       "\\item[REGION\\textbackslash{}\\_4LETTERMALA] -1.87810523258758\n",
       "\\item[REGION\\textbackslash{}\\_4LETTERMALT] 0.872065933068459\n",
       "\\item[REGION\\textbackslash{}\\_4LETTERMEXI] -3.55898548818179\n",
       "\\item[REGION\\textbackslash{}\\_4LETTERMIDE] -3.92963757509559\n",
       "\\item[REGION\\textbackslash{}\\_4LETTERMOLD] -0.348816707673384\n",
       "\\item[REGION\\textbackslash{}\\_4LETTERMONG] -1.57889972513303\n",
       "\\item[REGION\\textbackslash{}\\_4LETTERMONT] 1.08208434227632\n",
       "\\item[REGION\\textbackslash{}\\_4LETTERMYAN] -2.342493277424\n",
       "\\item[REGION\\textbackslash{}\\_4LETTERNAFR] -3.36227596842275\n",
       "\\item[REGION\\textbackslash{}\\_4LETTERNEPA] -0.265923010963634\n",
       "\\item[REGION\\textbackslash{}\\_4LETTERNETH] -2.12940570406096\n",
       "\\item[REGION\\textbackslash{}\\_4LETTERNIGE] -2.63145957067051\n",
       "\\item[REGION\\textbackslash{}\\_4LETTERNORW] -2.45045712062087\n",
       "\\item[REGION\\textbackslash{}\\_4LETTERNZEL] -3.9214743647538\n",
       "\\item[REGION\\textbackslash{}\\_4LETTERPAKI] -1.91458352869811\n",
       "\\item[REGION\\textbackslash{}\\_4LETTERPARA] -2.14499538478333\n",
       "\\item[REGION\\textbackslash{}\\_4LETTERPERU] -2.0089371655671\n",
       "\\item[REGION\\textbackslash{}\\_4LETTERPHIL] -2.81088152496191\n",
       "\\item[REGION\\textbackslash{}\\_4LETTERPOLA] -2.5260573666897\n",
       "\\item[REGION\\textbackslash{}\\_4LETTERPORT] -1.82049989348975\n",
       "\\item[REGION\\textbackslash{}\\_4LETTERROMA] -1.84238243773181\n",
       "\\item[REGION\\textbackslash{}\\_4LETTERRSAF] -3.57137339880255\n",
       "\\item[REGION\\textbackslash{}\\_4LETTERRUSS] -4.72258168823332\n",
       "\\item[REGION\\textbackslash{}\\_4LETTERSAAR] -3.71965526366928\n",
       "\\item[REGION\\textbackslash{}\\_4LETTERSAFR] -3.22046688366213\n",
       "\\item[REGION\\textbackslash{}\\_4LETTERSERB] -1.00784055608999\n",
       "\\item[REGION\\textbackslash{}\\_4LETTERSING] -0.680741709831389\n",
       "\\item[REGION\\textbackslash{}\\_4LETTERSKRE] -1.01367950052772\n",
       "\\item[REGION\\textbackslash{}\\_4LETTERSLOV] -0.147779398575055\n",
       "\\item[REGION\\textbackslash{}\\_4LETTERSPAI] -2.97121033893407\n",
       "\\item[REGION\\textbackslash{}\\_4LETTERSRIL] -1.63443751966005\n",
       "\\item[REGION\\textbackslash{}\\_4LETTERSWED] -1.95085484120559\n",
       "\\item[REGION\\textbackslash{}\\_4LETTERSWIT] -1.52615317563754\n",
       "\\item[REGION\\textbackslash{}\\_4LETTERTAIW] -1.824365978224\n",
       "\\item[REGION\\textbackslash{}\\_4LETTERTAJI] -0.652369589279283\n",
       "\\item[REGION\\textbackslash{}\\_4LETTERTANZ] -2.60391471933151\n",
       "\\item[REGION\\textbackslash{}\\_4LETTERTHAI] -3.11754204092775\n",
       "\\item[REGION\\textbackslash{}\\_4LETTERTKME] -2.52000827141266\n",
       "\\item[REGION\\textbackslash{}\\_4LETTERTURK] -2.65671731169386\n",
       "\\item[REGION\\textbackslash{}\\_4LETTERUKRA] -2.88619383136781\n",
       "\\item[REGION\\textbackslash{}\\_4LETTERUNKI] -3.31055603604415\n",
       "\\item[REGION\\textbackslash{}\\_4LETTERURUG] -2.21597372298531\n",
       "\\item[REGION\\textbackslash{}\\_4LETTERUSAM] -5.40093354079942\n",
       "\\item[REGION\\textbackslash{}\\_4LETTERUZBE] -2.34192910144963\n",
       "\\item[REGION\\textbackslash{}\\_4LETTERVENE] -3.34535329409622\n",
       "\\item[REGION\\textbackslash{}\\_4LETTERVIET] -2.36886622387564\n",
       "\\item[REGION\\textbackslash{}\\_4LETTERWAFR] -3.62827362311643\n",
       "\\item[log(EMIS\\textbackslash{}\\_CO2\\textbackslash{}\\_KT):year2000] 0.000629776412366714\n",
       "\\item[log(EMIS\\textbackslash{}\\_CH4\\textbackslash{}\\_KT):year2000] -0.000127826594575219\n",
       "\\end{description*}\n"
      ],
      "text/markdown": [
       "(Intercept)\n",
       ":   -4.15981072979866log(EMIS_CO2_KT)\n",
       ":   0.306330302554014log(EMIS_CH4_KT)\n",
       ":   0.425602816341563loggdppc\n",
       ":   -0.332661936493539loggdppc2\n",
       ":   -0.0130997430186135factor(IDYEARS)2025\n",
       ":   -0.0713746509121119factor(IDYEARS)2030\n",
       ":   -0.141629223455182factor(IDYEARS)2035\n",
       ":   -0.179042083399502factor(IDYEARS)2040\n",
       ":   -0.206971681876922factor(IDYEARS)2045\n",
       ":   -0.202809723283985factor(IDYEARS)2050\n",
       ":   -0.206509067050187REGION_4LETTERALBA\n",
       ":   -0.239020169823274REGION_4LETTERARGE\n",
       ":   -4.20783430366951REGION_4LETTERARME\n",
       ":   -0.437411752273522REGION_4LETTERAUST\n",
       ":   -1.59864377360354REGION_4LETTERAUTR\n",
       ":   -4.49882527263603REGION_4LETTERAZER\n",
       ":   -1.98133960017446REGION_4LETTERBANG\n",
       ":   -1.14217493194169REGION_4LETTERBELA\n",
       ":   -1.89929097168238REGION_4LETTERBELG\n",
       ":   -1.76311299820304REGION_4LETTERBHUT\n",
       ":   0.419216807072015REGION_4LETTERBOHE\n",
       ":   -0.45773082089914REGION_4LETTERBOLV\n",
       ":   -2.93067756181747REGION_4LETTERBRAZ\n",
       ":   -4.48755337422809REGION_4LETTERBRUN\n",
       ":   -1.01434528812516REGION_4LETTERBULG\n",
       ":   -1.23557751290358REGION_4LETTERCAMB\n",
       ":   -1.51048385787959REGION_4LETTERCANA\n",
       ":   -3.5947763495335REGION_4LETTERCARB\n",
       ":   -3.37255445221288REGION_4LETTERCEAM\n",
       ":   -2.76854486714958REGION_4LETTERCHIL\n",
       ":   -1.61946864182643REGION_4LETTERCHIN\n",
       ":   -4.52935865806001REGION_4LETTERCOLO\n",
       ":   -3.11060584561644REGION_4LETTERCROA\n",
       ":   -0.766262487225707REGION_4LETTERCYPR\n",
       ":   0.0963102013617687REGION_4LETTERCZRE\n",
       ":   -1.53803806139837REGION_4LETTERDENM\n",
       ":   -1.83520338943598REGION_4LETTEREAFR\n",
       ":   -3.59010423935681REGION_4LETTERECUA\n",
       ":   -2.70608133965216REGION_4LETTEREGYP\n",
       ":   -2.40572130366603REGION_4LETTERESTO\n",
       ":   -0.597943047770351REGION_4LETTERFINL\n",
       ":   -2.06585477087131REGION_4LETTERFRAN\n",
       ":   -3.11079142868905REGION_4LETTERGEOR\n",
       ":   -1.21359717548888REGION_4LETTERGERM\n",
       ":   -3.16265941492944REGION_4LETTERGREE\n",
       ":   -1.62789103614497REGION_4LETTERHUNG\n",
       ":   -1.22965854427897REGION_4LETTERICEL\n",
       ":   -0.515040076737963REGION_4LETTERINDI\n",
       ":   -3.53836667118202REGION_4LETTERINDO\n",
       ":   -2.63677759533061REGION_4LETTERIRAN\n",
       ":   -2.921911299062REGION_4LETTERIREL\n",
       ":   -2.68067938431464REGION_4LETTERISRA\n",
       ":   -1.06333122226766REGION_4LETTERITAL\n",
       ":   -2.50976972895202REGION_4LETTERJAPA\n",
       ":   -3.24326055463902REGION_4LETTERKAZA\n",
       ":   -2.00884924732878REGION_4LETTERKENY\n",
       ":   -2.36158078687159REGION_4LETTERKORN\n",
       ":   -1.31675401741877REGION_4LETTERKORS\n",
       ":   -1.91265251098549REGION_4LETTERKOSO\n",
       ":   0.785214650907877REGION_4LETTERKYRG\n",
       ":   -0.739237599478192REGION_4LETTERLAOS\n",
       ":   -1.69758479701394REGION_4LETTERLATV\n",
       ":   -0.545608118914966REGION_4LETTERLITH\n",
       ":   -0.9155782220736REGION_4LETTERLUXE\n",
       ":   0.0679706748542211REGION_4LETTERMACE\n",
       ":   0.120121126873246REGION_4LETTERMALA\n",
       ":   -1.87810523258758REGION_4LETTERMALT\n",
       ":   0.872065933068459REGION_4LETTERMEXI\n",
       ":   -3.55898548818179REGION_4LETTERMIDE\n",
       ":   -3.92963757509559REGION_4LETTERMOLD\n",
       ":   -0.348816707673384REGION_4LETTERMONG\n",
       ":   -1.57889972513303REGION_4LETTERMONT\n",
       ":   1.08208434227632REGION_4LETTERMYAN\n",
       ":   -2.342493277424REGION_4LETTERNAFR\n",
       ":   -3.36227596842275REGION_4LETTERNEPA\n",
       ":   -0.265923010963634REGION_4LETTERNETH\n",
       ":   -2.12940570406096REGION_4LETTERNIGE\n",
       ":   -2.63145957067051REGION_4LETTERNORW\n",
       ":   -2.45045712062087REGION_4LETTERNZEL\n",
       ":   -3.9214743647538REGION_4LETTERPAKI\n",
       ":   -1.91458352869811REGION_4LETTERPARA\n",
       ":   -2.14499538478333REGION_4LETTERPERU\n",
       ":   -2.0089371655671REGION_4LETTERPHIL\n",
       ":   -2.81088152496191REGION_4LETTERPOLA\n",
       ":   -2.5260573666897REGION_4LETTERPORT\n",
       ":   -1.82049989348975REGION_4LETTERROMA\n",
       ":   -1.84238243773181REGION_4LETTERRSAF\n",
       ":   -3.57137339880255REGION_4LETTERRUSS\n",
       ":   -4.72258168823332REGION_4LETTERSAAR\n",
       ":   -3.71965526366928REGION_4LETTERSAFR\n",
       ":   -3.22046688366213REGION_4LETTERSERB\n",
       ":   -1.00784055608999REGION_4LETTERSING\n",
       ":   -0.680741709831389REGION_4LETTERSKRE\n",
       ":   -1.01367950052772REGION_4LETTERSLOV\n",
       ":   -0.147779398575055REGION_4LETTERSPAI\n",
       ":   -2.97121033893407REGION_4LETTERSRIL\n",
       ":   -1.63443751966005REGION_4LETTERSWED\n",
       ":   -1.95085484120559REGION_4LETTERSWIT\n",
       ":   -1.52615317563754REGION_4LETTERTAIW\n",
       ":   -1.824365978224REGION_4LETTERTAJI\n",
       ":   -0.652369589279283REGION_4LETTERTANZ\n",
       ":   -2.60391471933151REGION_4LETTERTHAI\n",
       ":   -3.11754204092775REGION_4LETTERTKME\n",
       ":   -2.52000827141266REGION_4LETTERTURK\n",
       ":   -2.65671731169386REGION_4LETTERUKRA\n",
       ":   -2.88619383136781REGION_4LETTERUNKI\n",
       ":   -3.31055603604415REGION_4LETTERURUG\n",
       ":   -2.21597372298531REGION_4LETTERUSAM\n",
       ":   -5.40093354079942REGION_4LETTERUZBE\n",
       ":   -2.34192910144963REGION_4LETTERVENE\n",
       ":   -3.34535329409622REGION_4LETTERVIET\n",
       ":   -2.36886622387564REGION_4LETTERWAFR\n",
       ":   -3.62827362311643log(EMIS_CO2_KT):year2000\n",
       ":   0.000629776412366714log(EMIS_CH4_KT):year2000\n",
       ":   -0.000127826594575219\n",
       "\n"
      ],
      "text/plain": [
       "              (Intercept)          log(EMIS_CO2_KT)          log(EMIS_CH4_KT) \n",
       "            -4.1598107298              0.3063303026              0.4256028163 \n",
       "                 loggdppc                 loggdppc2       factor(IDYEARS)2025 \n",
       "            -0.3326619365             -0.0130997430             -0.0713746509 \n",
       "      factor(IDYEARS)2030       factor(IDYEARS)2035       factor(IDYEARS)2040 \n",
       "            -0.1416292235             -0.1790420834             -0.2069716819 \n",
       "      factor(IDYEARS)2045       factor(IDYEARS)2050        REGION_4LETTERALBA \n",
       "            -0.2028097233             -0.2065090671             -0.2390201698 \n",
       "       REGION_4LETTERARGE        REGION_4LETTERARME        REGION_4LETTERAUST \n",
       "            -4.2078343037             -0.4374117523             -1.5986437736 \n",
       "       REGION_4LETTERAUTR        REGION_4LETTERAZER        REGION_4LETTERBANG \n",
       "            -4.4988252726             -1.9813396002             -1.1421749319 \n",
       "       REGION_4LETTERBELA        REGION_4LETTERBELG        REGION_4LETTERBHUT \n",
       "            -1.8992909717             -1.7631129982              0.4192168071 \n",
       "       REGION_4LETTERBOHE        REGION_4LETTERBOLV        REGION_4LETTERBRAZ \n",
       "            -0.4577308209             -2.9306775618             -4.4875533742 \n",
       "       REGION_4LETTERBRUN        REGION_4LETTERBULG        REGION_4LETTERCAMB \n",
       "            -1.0143452881             -1.2355775129             -1.5104838579 \n",
       "       REGION_4LETTERCANA        REGION_4LETTERCARB        REGION_4LETTERCEAM \n",
       "            -3.5947763495             -3.3725544522             -2.7685448671 \n",
       "       REGION_4LETTERCHIL        REGION_4LETTERCHIN        REGION_4LETTERCOLO \n",
       "            -1.6194686418             -4.5293586581             -3.1106058456 \n",
       "       REGION_4LETTERCROA        REGION_4LETTERCYPR        REGION_4LETTERCZRE \n",
       "            -0.7662624872              0.0963102014             -1.5380380614 \n",
       "       REGION_4LETTERDENM        REGION_4LETTEREAFR        REGION_4LETTERECUA \n",
       "            -1.8352033894             -3.5901042394             -2.7060813397 \n",
       "       REGION_4LETTEREGYP        REGION_4LETTERESTO        REGION_4LETTERFINL \n",
       "            -2.4057213037             -0.5979430478             -2.0658547709 \n",
       "       REGION_4LETTERFRAN        REGION_4LETTERGEOR        REGION_4LETTERGERM \n",
       "            -3.1107914287             -1.2135971755             -3.1626594149 \n",
       "       REGION_4LETTERGREE        REGION_4LETTERHUNG        REGION_4LETTERICEL \n",
       "            -1.6278910361             -1.2296585443             -0.5150400767 \n",
       "       REGION_4LETTERINDI        REGION_4LETTERINDO        REGION_4LETTERIRAN \n",
       "            -3.5383666712             -2.6367775953             -2.9219112991 \n",
       "       REGION_4LETTERIREL        REGION_4LETTERISRA        REGION_4LETTERITAL \n",
       "            -2.6806793843             -1.0633312223             -2.5097697290 \n",
       "       REGION_4LETTERJAPA        REGION_4LETTERKAZA        REGION_4LETTERKENY \n",
       "            -3.2432605546             -2.0088492473             -2.3615807869 \n",
       "       REGION_4LETTERKORN        REGION_4LETTERKORS        REGION_4LETTERKOSO \n",
       "            -1.3167540174             -1.9126525110              0.7852146509 \n",
       "       REGION_4LETTERKYRG        REGION_4LETTERLAOS        REGION_4LETTERLATV \n",
       "            -0.7392375995             -1.6975847970             -0.5456081189 \n",
       "       REGION_4LETTERLITH        REGION_4LETTERLUXE        REGION_4LETTERMACE \n",
       "            -0.9155782221              0.0679706749              0.1201211269 \n",
       "       REGION_4LETTERMALA        REGION_4LETTERMALT        REGION_4LETTERMEXI \n",
       "            -1.8781052326              0.8720659331             -3.5589854882 \n",
       "       REGION_4LETTERMIDE        REGION_4LETTERMOLD        REGION_4LETTERMONG \n",
       "            -3.9296375751             -0.3488167077             -1.5788997251 \n",
       "       REGION_4LETTERMONT        REGION_4LETTERMYAN        REGION_4LETTERNAFR \n",
       "             1.0820843423             -2.3424932774             -3.3622759684 \n",
       "       REGION_4LETTERNEPA        REGION_4LETTERNETH        REGION_4LETTERNIGE \n",
       "            -0.2659230110             -2.1294057041             -2.6314595707 \n",
       "       REGION_4LETTERNORW        REGION_4LETTERNZEL        REGION_4LETTERPAKI \n",
       "            -2.4504571206             -3.9214743648             -1.9145835287 \n",
       "       REGION_4LETTERPARA        REGION_4LETTERPERU        REGION_4LETTERPHIL \n",
       "            -2.1449953848             -2.0089371656             -2.8108815250 \n",
       "       REGION_4LETTERPOLA        REGION_4LETTERPORT        REGION_4LETTERROMA \n",
       "            -2.5260573667             -1.8204998935             -1.8423824377 \n",
       "       REGION_4LETTERRSAF        REGION_4LETTERRUSS        REGION_4LETTERSAAR \n",
       "            -3.5713733988             -4.7225816882             -3.7196552637 \n",
       "       REGION_4LETTERSAFR        REGION_4LETTERSERB        REGION_4LETTERSING \n",
       "            -3.2204668837             -1.0078405561             -0.6807417098 \n",
       "       REGION_4LETTERSKRE        REGION_4LETTERSLOV        REGION_4LETTERSPAI \n",
       "            -1.0136795005             -0.1477793986             -2.9712103389 \n",
       "       REGION_4LETTERSRIL        REGION_4LETTERSWED        REGION_4LETTERSWIT \n",
       "            -1.6344375197             -1.9508548412             -1.5261531756 \n",
       "       REGION_4LETTERTAIW        REGION_4LETTERTAJI        REGION_4LETTERTANZ \n",
       "            -1.8243659782             -0.6523695893             -2.6039147193 \n",
       "       REGION_4LETTERTHAI        REGION_4LETTERTKME        REGION_4LETTERTURK \n",
       "            -3.1175420409             -2.5200082714             -2.6567173117 \n",
       "       REGION_4LETTERUKRA        REGION_4LETTERUNKI        REGION_4LETTERURUG \n",
       "            -2.8861938314             -3.3105560360             -2.2159737230 \n",
       "       REGION_4LETTERUSAM        REGION_4LETTERUZBE        REGION_4LETTERVENE \n",
       "            -5.4009335408             -2.3419291014             -3.3453532941 \n",
       "       REGION_4LETTERVIET        REGION_4LETTERWAFR log(EMIS_CO2_KT):year2000 \n",
       "            -2.3688662239             -3.6282736231              0.0006297764 \n",
       "log(EMIS_CH4_KT):year2000 \n",
       "            -0.0001278266 "
      ]
     },
     "metadata": {},
     "output_type": "display_data"
    }
   ],
   "source": [
    "coef(mod.base)"
   ]
  },
  {
   "cell_type": "code",
   "execution_count": 21,
   "id": "2c088554",
   "metadata": {
    "scrolled": true
   },
   "outputs": [],
   "source": [
    "nonfes = c(2:5, length(coef(mod.base)) + (-1:0))\n",
    "mod.decb$coefficients[nonfes] = coef(mod.base)[nonfes]\n",
    "df.base$logpm.base = predict(mod.base, df.base) # R2 validation\n",
    "df.decb$logpm.base = predict(mod.decb, df.decb) # Experiment"
   ]
  },
  {
   "cell_type": "code",
   "execution_count": 22,
   "id": "920aa065",
   "metadata": {},
   "outputs": [
    {
     "data": {
      "text/html": [
       "0.981857363810996"
      ],
      "text/latex": [
       "0.981857363810996"
      ],
      "text/markdown": [
       "0.981857363810996"
      ],
      "text/plain": [
       "[1] 0.9818574"
      ]
     },
     "metadata": {},
     "output_type": "display_data"
    }
   ],
   "source": [
    "1 - sum((df.base$logpm - df.base$logpm.base)^2) / sum((df.base$logpm - mean(df.base$logpm))^2)"
   ]
  },
  {
   "cell_type": "code",
   "execution_count": 23,
   "id": "438fe4e0",
   "metadata": {
    "scrolled": true
   },
   "outputs": [
    {
     "data": {
      "text/html": [
       "-72.992496775818"
      ],
      "text/latex": [
       "-72.992496775818"
      ],
      "text/markdown": [
       "-72.992496775818"
      ],
      "text/plain": [
       "[1] -72.9925"
      ]
     },
     "metadata": {},
     "output_type": "display_data"
    }
   ],
   "source": [
    "1 - sum((df.decb$logpm - df.decb$logpm.base)^2) / sum((df.decb$logpm - mean(df.decb$logpm))^2)"
   ]
  },
  {
   "cell_type": "markdown",
   "id": "3fb24df8",
   "metadata": {},
   "source": [
    "# New idea\n",
    " - Reset to 0 in 2020 by region\n",
    " - Test without region FE\n",
    " - Try all sets of params under cross-validation\n",
    " - Final will use self-fit though"
   ]
  },
  {
   "cell_type": "code",
   "execution_count": 24,
   "id": "041792da",
   "metadata": {},
   "outputs": [],
   "source": [
    "df = read_xlsx(\"../data/GAINS/GHGemis_vs_PM25_conc_GAINS_countries_regions_v2.xlsx\", sheet=1)"
   ]
  },
  {
   "cell_type": "code",
   "execution_count": 85,
   "id": "47b4ed0f",
   "metadata": {},
   "outputs": [],
   "source": [
    "df2 = df %>% mutate(logpm=log(df$PM25_ANTHROP), loggdp=log(GDP_PPP), logpop=log(POP), loggdppc=log(GDP_PPP / POP), loggdppc2=loggdppc^2, logco2=log(EMIS_CO2_KT), logch4=log(EMIS_CH4_KT)) %>%\n",
    "  group_by(REGION_4LETTER) %>% arrange(IDYEARS) %>%\n",
    "  mutate(logpm0=logpm - logpm[1], loggdp0=loggdp - loggdp[1], logpop0=logpop - logpop[1], loggdppc0=loggdppc - loggdppc[1],\n",
    "         loggdppc02=loggdppc2 - loggdppc2[1], logco20=logco2 - logco2[1], logch40=logch4 - logch4[1], year0=IDYEARS - IDYEARS[1],\n",
    "         laglogpm0=lag(logpm0), lag2logpm0=lag(logpm0, 2), logco20xyear0=logco20*year0, logch40xyear0=logch40*year0)"
   ]
  },
  {
   "cell_type": "code",
   "execution_count": 86,
   "id": "a99ac8be",
   "metadata": {},
   "outputs": [],
   "source": [
    "df2$laglogpm0[is.na(df2$laglogpm0)] = 0\n",
    "df2$lag2logpm0[is.na(df2$lag2logpm0)] = 0"
   ]
  },
  {
   "cell_type": "code",
   "execution_count": 87,
   "id": "9e9a662c",
   "metadata": {
    "scrolled": false
   },
   "outputs": [
    {
     "name": "stderr",
     "output_type": "stream",
     "text": [
      "Warning message in chol.default(mat, pivot = TRUE, tol = tol):\n",
      "“the matrix is either rank-deficient or not positive definite”\n",
      "Warning message in chol.default(mat, pivot = TRUE, tol = tol):\n",
      "“the matrix is either rank-deficient or not positive definite”\n"
     ]
    },
    {
     "data": {
      "text/plain": [
       "\n",
       "Call:\n",
       "   felm(formula = logpm0 ~ logco20 + logch40 + logco20xyear0 + logch40xyear0 +      loggdp0 + logpop0 + loggdppc0 + loggdppc02 + laglogpm0 +      lag2logpm0 | factor(IDYEARS), data = subset(df2, IDSCENARIOS ==      \"Decarb\")) \n",
       "\n",
       "Residuals:\n",
       "     Min       1Q   Median       3Q      Max \n",
       "-1.09634 -0.05770  0.00596  0.07272  0.70263 \n",
       "\n",
       "Coefficients:\n",
       "               Estimate Std. Error t value Pr(>|t|)    \n",
       "logco20       -0.095702   0.053010  -1.805   0.0717 .  \n",
       "logch40        0.413282   0.047275   8.742  < 2e-16 ***\n",
       "logco20xyear0  0.004701   0.002121   2.216   0.0271 *  \n",
       "logch40xyear0 -0.015190   0.002296  -6.615 1.01e-10 ***\n",
       "loggdp0        0.561324   0.092814   6.048 2.99e-09 ***\n",
       "logpop0       -0.591980   0.118089  -5.013 7.60e-07 ***\n",
       "loggdppc0           NaN         NA     NaN      NaN    \n",
       "loggdppc02     0.026402   0.004374   6.036 3.20e-09 ***\n",
       "laglogpm0      0.068517   0.032424   2.113   0.0351 *  \n",
       "lag2logpm0     0.901155   0.026769  33.664  < 2e-16 ***\n",
       "---\n",
       "Signif. codes:  0 ‘***’ 0.001 ‘**’ 0.01 ‘*’ 0.05 ‘.’ 0.1 ‘ ’ 1\n",
       "\n",
       "Residual standard error: 0.1668 on 471 degrees of freedom\n",
       "Multiple R-squared(full model): 0.8643   Adjusted R-squared: 0.8606 \n",
       "Multiple R-squared(proj model): 0.8473   Adjusted R-squared: 0.843 \n",
       "F-statistic(full model):230.8 on 13 and 471 DF, p-value: < 2.2e-16 \n",
       "F-statistic(proj model): 261.3 on 10 and 471 DF, p-value: < 2.2e-16 \n",
       "\n"
      ]
     },
     "metadata": {},
     "output_type": "display_data"
    }
   ],
   "source": [
    "summary(felm(logpm0 ~ logco20 + logch40 + logco20xyear0 + logch40xyear0 + loggdp0 + logpop0 + loggdppc0 + loggdppc02 + laglogpm0 + lag2logpm0 | factor(IDYEARS), data=subset(df2, IDSCENARIOS == \"Decarb\")))"
   ]
  },
  {
   "cell_type": "code",
   "execution_count": 88,
   "id": "e219a2a9",
   "metadata": {},
   "outputs": [
    {
     "name": "stderr",
     "output_type": "stream",
     "text": [
      "Warning message in chol.default(mat, pivot = TRUE, tol = tol):\n",
      "“the matrix is either rank-deficient or not positive definite”\n",
      "Warning message in chol.default(mat, pivot = TRUE, tol = tol):\n",
      "“the matrix is either rank-deficient or not positive definite”\n"
     ]
    },
    {
     "data": {
      "text/plain": [
       "\n",
       "Call:\n",
       "   felm(formula = logpm0 ~ logco20 + logch40 + logco20xyear0 + logch40xyear0 +      loggdp0 + logpop0 + loggdppc0 + loggdppc02 + laglogpm0 +      lag2logpm0 | year0:factor(REGION_4LETTER) + factor(IDYEARS),      data = subset(df2, IDSCENARIOS == \"Decarb\")) \n",
       "\n",
       "Residuals:\n",
       "     Min       1Q   Median       3Q      Max \n",
       "-0.57871 -0.03766  0.00094  0.04512  0.34379 \n",
       "\n",
       "Coefficients:\n",
       "                Estimate Std. Error t value Pr(>|t|)    \n",
       "logco20       -0.0453562  0.0425646  -1.066   0.2873    \n",
       "logch40        0.2116847  0.0314627   6.728 6.47e-11 ***\n",
       "logco20xyear0  0.0006967  0.0016543   0.421   0.6739    \n",
       "logch40xyear0 -0.0043058  0.0023937  -1.799   0.0729 .  \n",
       "loggdp0              NaN         NA     NaN      NaN    \n",
       "logpop0       -6.8019465  1.0570908  -6.435 3.79e-10 ***\n",
       "loggdppc0      2.2499237  0.2201315  10.221  < 2e-16 ***\n",
       "loggdppc02     0.0964084  0.0102713   9.386  < 2e-16 ***\n",
       "laglogpm0      1.2343925  0.1123463  10.987  < 2e-16 ***\n",
       "lag2logpm0     0.0973860  0.0384103   2.535   0.0116 *  \n",
       "---\n",
       "Signif. codes:  0 ‘***’ 0.001 ‘**’ 0.01 ‘*’ 0.05 ‘.’ 0.1 ‘ ’ 1\n",
       "\n",
       "Residual standard error: 0.104 on 374 degrees of freedom\n",
       "Multiple R-squared(full model): 0.9581   Adjusted R-squared: 0.9458 \n",
       "Multiple R-squared(proj model): 0.583   Adjusted R-squared: 0.4604 \n",
       "F-statistic(full model):77.79 on 110 and 374 DF, p-value: < 2.2e-16 \n",
       "F-statistic(proj model): 52.29 on 10 and 374 DF, p-value: < 2.2e-16 \n",
       "\n"
      ]
     },
     "metadata": {},
     "output_type": "display_data"
    }
   ],
   "source": [
    "summary(felm(logpm0 ~ logco20 + logch40 + logco20xyear0 + logch40xyear0 + loggdp0 + logpop0 + loggdppc0 + loggdppc02 + laglogpm0 + lag2logpm0 | year0:factor(REGION_4LETTER) + factor(IDYEARS), data=subset(df2, IDSCENARIOS == \"Decarb\")))"
   ]
  },
  {
   "cell_type": "code",
   "execution_count": 89,
   "id": "dcc6b83e",
   "metadata": {
    "scrolled": true
   },
   "outputs": [],
   "source": [
    "results = data.frame()\n",
    "for (useco2 in c('none', 'const', 'trend')) {\n",
    "    for (usech4 in c('none', 'const', 'trend')) {\n",
    "        for (usegdp in c(F, T)) {\n",
    "            for (usepop in c(F, T)) {\n",
    "                for (usegdppc in 0:2) {\n",
    "                    for (uselag in 0:2) {\n",
    "                        for (usetrend in c('none', 'local')) {\n",
    "                            if (usegdppc > 0 && usegdp && usepop)\n",
    "                                next\n",
    "                            preds = c(ifelse(useco2 == 'none', \"\", ifelse(useco2 == 'const', \"logco20\", \"logco20 + logco20xyear0\")),\n",
    "                                      ifelse(usech4 == 'none', \"\", ifelse(usech4 == 'const', \"logch40\", \"logco20 + logch40xyear0\")),\n",
    "                                      ifelse(usegdp, \"loggdp0\", \"\"), ifelse(usepop, \"logpop0\", \"\"),\n",
    "                                      ifelse(usegdppc == 0, \"\", ifelse(usegdppc == 1, \"loggdppc0\", \"loggdppc0 + loggdppc02\")),\n",
    "                                      ifelse(uselag == 0, \"\", ifelse(uselag == 1, \"laglogpm0\", \"laglogpm0 + lag2logpm0\")))\n",
    "                            preds = preds[preds != \"\"]\n",
    "                            fixeds = ifelse(usetrend == 'none', \"factor(IDYEARS)\", \"year0:factor(REGION_4LETTER) + factor(IDYEARS)\")\n",
    "                            df2.decb = subset(df2, IDSCENARIOS == \"Decarb\")\n",
    "                            useform = as.formula(paste(\"logpm0 ~\", paste(c(preds, fixeds), collapse=\" + \")))\n",
    "                            mod.base = lm(useform, data=subset(df2, IDSCENARIOS == \"Baseline\"))\n",
    "                            mod.decb = lm(useform, data=df2.decb)\n",
    "                            signmatch = all(sign(coef(mod.decb)[names(mod.decb$coef) %in% preds]) == sign(coef(mod.base)[names(mod.base$coef) %in% preds]))\n",
    "                            if (usegdppc == 2)\n",
    "                                ekc = sign(coef(mod.decb)[names(mod.decb$coef) == 'loggdppc0']) > 0 && sign(coef(mod.decb)[names(mod.decb$coef) == 'loggdppc02']) < 0\n",
    "                            else\n",
    "                                ekc = NA\n",
    "                            # Check Lyapunov exponent of lags\n",
    "                            if (uselag == 0)\n",
    "                                isstable = T\n",
    "                            else if (uselag == 1)\n",
    "                                isstable = abs(coef(mod.decb)[names(mod.decb$coef) == 'laglogpm0']) < 1\n",
    "                            else if (uselag == 2) {\n",
    "                                # y_t = c + a y_t-1 + b y_t-2 => (y_t, y_t-1) = (a b; 1 0) (y_t-1, y_t-2)\n",
    "                                lyapunov = max(eigen(matrix(c(1.413, 1, -.399, 0), 2, 2), only.values=T)$values)\n",
    "                                isstable = lyapunov < 1\n",
    "                            }\n",
    "                            mod.decb$coefficients[names(mod.decb$coef) %in% preds] = coef(mod.base)[names(mod.base$coef) %in% preds]\n",
    "                            df2.decb$logpm0.hat = predict(mod.decb, df2.decb) # Cross validation\n",
    "                            r2 = 1 - sum((df2.decb$logpm0 - df2.decb$logpm0.hat)^2) / sum((df2.decb$logpm0 - mean(df2.decb$logpm0))^2)\n",
    "                            results = rbind(results, data.frame(useco2, usech4, usegdp, usepop, usegdppc, uselag, usetrend, r2, signmatch, ekc, isstable))\n",
    "                        }\n",
    "                    }\n",
    "                }\n",
    "            }\n",
    "        }\n",
    "    }\n",
    "}"
   ]
  },
  {
   "cell_type": "code",
   "execution_count": 90,
   "id": "f472c5b3",
   "metadata": {
    "scrolled": false
   },
   "outputs": [
    {
     "data": {
      "text/html": [
       "<table class=\"dataframe\">\n",
       "<caption>A data.frame: 1 × 11</caption>\n",
       "<thead>\n",
       "\t<tr><th></th><th scope=col>useco2</th><th scope=col>usech4</th><th scope=col>usegdp</th><th scope=col>usepop</th><th scope=col>usegdppc</th><th scope=col>uselag</th><th scope=col>usetrend</th><th scope=col>r2</th><th scope=col>signmatch</th><th scope=col>ekc</th><th scope=col>isstable</th></tr>\n",
       "\t<tr><th></th><th scope=col>&lt;chr&gt;</th><th scope=col>&lt;chr&gt;</th><th scope=col>&lt;lgl&gt;</th><th scope=col>&lt;lgl&gt;</th><th scope=col>&lt;int&gt;</th><th scope=col>&lt;int&gt;</th><th scope=col>&lt;chr&gt;</th><th scope=col>&lt;dbl&gt;</th><th scope=col>&lt;lgl&gt;</th><th scope=col>&lt;lgl&gt;</th><th scope=col>&lt;lgl&gt;</th></tr>\n",
       "</thead>\n",
       "<tbody>\n",
       "\t<tr><th scope=row>1328</th><td>trend</td><td>trend</td><td>FALSE</td><td>FALSE</td><td>2</td><td>0</td><td>local</td><td>0.9300004</td><td>TRUE</td><td>FALSE</td><td>TRUE</td></tr>\n",
       "</tbody>\n",
       "</table>\n"
      ],
      "text/latex": [
       "A data.frame: 1 × 11\n",
       "\\begin{tabular}{r|lllllllllll}\n",
       "  & useco2 & usech4 & usegdp & usepop & usegdppc & uselag & usetrend & r2 & signmatch & ekc & isstable\\\\\n",
       "  & <chr> & <chr> & <lgl> & <lgl> & <int> & <int> & <chr> & <dbl> & <lgl> & <lgl> & <lgl>\\\\\n",
       "\\hline\n",
       "\t1328 & trend & trend & FALSE & FALSE & 2 & 0 & local & 0.9300004 & TRUE & FALSE & TRUE\\\\\n",
       "\\end{tabular}\n"
      ],
      "text/markdown": [
       "\n",
       "A data.frame: 1 × 11\n",
       "\n",
       "| <!--/--> | useco2 &lt;chr&gt; | usech4 &lt;chr&gt; | usegdp &lt;lgl&gt; | usepop &lt;lgl&gt; | usegdppc &lt;int&gt; | uselag &lt;int&gt; | usetrend &lt;chr&gt; | r2 &lt;dbl&gt; | signmatch &lt;lgl&gt; | ekc &lt;lgl&gt; | isstable &lt;lgl&gt; |\n",
       "|---|---|---|---|---|---|---|---|---|---|---|---|\n",
       "| 1328 | trend | trend | FALSE | FALSE | 2 | 0 | local | 0.9300004 | TRUE | FALSE | TRUE |\n",
       "\n"
      ],
      "text/plain": [
       "     useco2 usech4 usegdp usepop usegdppc uselag usetrend r2        signmatch\n",
       "1328 trend  trend  FALSE  FALSE  2        0      local    0.9300004 TRUE     \n",
       "     ekc   isstable\n",
       "1328 FALSE TRUE    "
      ]
     },
     "metadata": {},
     "output_type": "display_data"
    }
   ],
   "source": [
    "results[which.max(results$r2 * results$isstable),]"
   ]
  },
  {
   "cell_type": "code",
   "execution_count": 91,
   "id": "b2d7c608",
   "metadata": {
    "scrolled": true
   },
   "outputs": [
    {
     "data": {
      "text/plain": [
       "\n",
       "Call:\n",
       "   felm(formula = logpm0 ~ logco20 + logco20xyear0 + logch40 + logch40xyear0 +      loggdppc0 + loggdppc02 | year0:factor(REGION_4LETTER) + factor(IDYEARS),      data = subset(df2, IDSCENARIOS == \"Decarb\")) \n",
       "\n",
       "Residuals:\n",
       "     Min       1Q   Median       3Q      Max \n",
       "-0.62503 -0.04394  0.00427  0.04546  0.98393 \n",
       "\n",
       "Coefficients:\n",
       "               Estimate Std. Error t value Pr(>|t|)    \n",
       "logco20       -0.072786   0.047009  -1.548  0.12238    \n",
       "logco20xyear0  0.005503   0.001951   2.820  0.00505 ** \n",
       "logch40        0.226900   0.037483   6.053 3.43e-09 ***\n",
       "logch40xyear0 -0.005109   0.002809  -1.818  0.06978 .  \n",
       "loggdppc0      2.228163   0.255290   8.728  < 2e-16 ***\n",
       "loggdppc02     0.091328   0.011896   7.677 1.41e-13 ***\n",
       "---\n",
       "Signif. codes:  0 ‘***’ 0.001 ‘**’ 0.01 ‘*’ 0.05 ‘.’ 0.1 ‘ ’ 1\n",
       "\n",
       "Residual standard error: 0.1279 on 377 degrees of freedom\n",
       "Multiple R-squared(full model): 0.9362   Adjusted R-squared: 0.9181 \n",
       "Multiple R-squared(proj model): 0.3647   Adjusted R-squared: 0.1844 \n",
       "F-statistic(full model): 51.7 on 107 and 377 DF, p-value: < 2.2e-16 \n",
       "F-statistic(proj model): 36.08 on 6 and 377 DF, p-value: < 2.2e-16 \n",
       "\n"
      ]
     },
     "metadata": {},
     "output_type": "display_data"
    }
   ],
   "source": [
    "summary(felm(logpm0 ~ logco20 + logco20xyear0 + logch40 + logch40xyear0 + loggdppc0 + loggdppc02 | year0:factor(REGION_4LETTER) + factor(IDYEARS), data=subset(df2, IDSCENARIOS == \"Decarb\")))"
   ]
  },
  {
   "cell_type": "code",
   "execution_count": 92,
   "id": "f96e7adc",
   "metadata": {},
   "outputs": [
    {
     "name": "stderr",
     "output_type": "stream",
     "text": [
      "Warning message:\n",
      "“\u001b[1m\u001b[22mRemoved 314 rows containing missing values or values outside the scale range\n",
      "(`geom_point()`).”\n"
     ]
    },
    {
     "data": {
      "image/png": "[encoded data removed]",
      "text/plain": [
       "plot without title"
      ]
     },
     "metadata": {
      "image/png": {
       "height": 420,
       "width": 420
      }
     },
     "output_type": "display_data"
    }
   ],
   "source": [
    "library(ggplot2)\n",
    "ggplot(results, aes(rank(r2), r2)) +\n",
    "       geom_point(aes(colour=ifelse(isstable, ifelse(signmatch, \"Matched signs\", \"Different signs\"), \"Unstable\"))) +\n",
    "    scale_colour_discrete(NULL) + ylim(0, 1)"
   ]
  },
  {
   "cell_type": "markdown",
   "id": "cbb2bb40",
   "metadata": {},
   "source": [
    "Write-up at https://paper.dropbox.com/doc/PM2.5-Emulator--Cf7GcmlLS5vmF3ovtq_xR0SrAg-KWJrvf1vX4RC500VP7hlh"
   ]
  },
  {
   "cell_type": "markdown",
   "id": "af097a7d",
   "metadata": {},
   "source": [
    "# Version 2: EKC?"
   ]
  },
  {
   "cell_type": "code",
   "execution_count": 93,
   "id": "88b84061",
   "metadata": {},
   "outputs": [],
   "source": [
    "library(readxl)\n",
    "library(reshape2)"
   ]
  },
  {
   "cell_type": "code",
   "execution_count": 94,
   "id": "0b62267a",
   "metadata": {},
   "outputs": [],
   "source": [
    "pmobs = read_excel(\"../data/sdei-annual-pm2-5-concentrations-countries-urban-areas-v1-1998-2016-xlsx/sdei-annual-pm2-5-concentrations-countries-urban-areas-v1-1998-2016-xlsx.xlsx\", sheet=4)"
   ]
  },
  {
   "cell_type": "code",
   "execution_count": 95,
   "id": "3cb09bd4",
   "metadata": {},
   "outputs": [
    {
     "data": {
      "text/html": [
       "<table class=\"dataframe\">\n",
       "<caption>A tibble: 6 × 11</caption>\n",
       "<thead>\n",
       "\t<tr><th scope=col>CODE</th><th scope=col>ISO</th><th scope=col>COUNTRY</th><th scope=col>AVPMC_2008</th><th scope=col>AVPMC_2009</th><th scope=col>AVPMC_2010</th><th scope=col>AVPMC_2011</th><th scope=col>AVPMC_2012</th><th scope=col>AVPMC_2013</th><th scope=col>AVPMC_2014</th><th scope=col>AVPMC_2015</th></tr>\n",
       "\t<tr><th scope=col>&lt;dbl&gt;</th><th scope=col>&lt;chr&gt;</th><th scope=col>&lt;chr&gt;</th><th scope=col>&lt;dbl&gt;</th><th scope=col>&lt;dbl&gt;</th><th scope=col>&lt;dbl&gt;</th><th scope=col>&lt;dbl&gt;</th><th scope=col>&lt;dbl&gt;</th><th scope=col>&lt;dbl&gt;</th><th scope=col>&lt;dbl&gt;</th><th scope=col>&lt;dbl&gt;</th></tr>\n",
       "</thead>\n",
       "<tbody>\n",
       "\t<tr><td> 4</td><td>AFG</td><td>Afghanistan   </td><td>13.26137037</td><td>10.50701937</td><td>11.92549180</td><td>11.96693352</td><td>13.40898594</td><td>13.0235426</td><td>12.202900</td><td>15.2331374</td></tr>\n",
       "\t<tr><td> 8</td><td>ALB</td><td>Albania       </td><td> 9.91456242</td><td> 9.01403252</td><td> 9.72033886</td><td> 9.99026037</td><td>10.26517567</td><td> 9.6878014</td><td> 9.354653</td><td>11.8006311</td></tr>\n",
       "\t<tr><td>12</td><td>DZA</td><td>Algeria       </td><td> 6.13864964</td><td> 4.66263226</td><td> 5.44148669</td><td> 5.29028024</td><td> 5.60143102</td><td> 5.3973197</td><td> 6.053069</td><td> 8.6235388</td></tr>\n",
       "\t<tr><td>16</td><td>ASM</td><td>American Samoa</td><td> 0.09964771</td><td> 0.09951101</td><td> 0.09951101</td><td> 0.09951101</td><td> 0.09951101</td><td> 0.1012694</td><td> 0.199022</td><td> 0.2972666</td></tr>\n",
       "\t<tr><td>20</td><td>AND</td><td>Andorra       </td><td> 5.69507307</td><td> 5.48002120</td><td> 5.17332453</td><td> 6.07921659</td><td> 6.22985398</td><td> 4.6527658</td><td> 4.823473</td><td> 5.4824162</td></tr>\n",
       "\t<tr><td>24</td><td>AGO</td><td>Angola        </td><td>14.96003732</td><td>14.97611656</td><td>15.69914071</td><td>16.21085619</td><td>16.26793892</td><td>18.9731269</td><td>16.105242</td><td>17.9665771</td></tr>\n",
       "</tbody>\n",
       "</table>\n"
      ],
      "text/latex": [
       "A tibble: 6 × 11\n",
       "\\begin{tabular}{lllllllllll}\n",
       " CODE & ISO & COUNTRY & AVPMC\\_2008 & AVPMC\\_2009 & AVPMC\\_2010 & AVPMC\\_2011 & AVPMC\\_2012 & AVPMC\\_2013 & AVPMC\\_2014 & AVPMC\\_2015\\\\\n",
       " <dbl> & <chr> & <chr> & <dbl> & <dbl> & <dbl> & <dbl> & <dbl> & <dbl> & <dbl> & <dbl>\\\\\n",
       "\\hline\n",
       "\t  4 & AFG & Afghanistan    & 13.26137037 & 10.50701937 & 11.92549180 & 11.96693352 & 13.40898594 & 13.0235426 & 12.202900 & 15.2331374\\\\\n",
       "\t  8 & ALB & Albania        &  9.91456242 &  9.01403252 &  9.72033886 &  9.99026037 & 10.26517567 &  9.6878014 &  9.354653 & 11.8006311\\\\\n",
       "\t 12 & DZA & Algeria        &  6.13864964 &  4.66263226 &  5.44148669 &  5.29028024 &  5.60143102 &  5.3973197 &  6.053069 &  8.6235388\\\\\n",
       "\t 16 & ASM & American Samoa &  0.09964771 &  0.09951101 &  0.09951101 &  0.09951101 &  0.09951101 &  0.1012694 &  0.199022 &  0.2972666\\\\\n",
       "\t 20 & AND & Andorra        &  5.69507307 &  5.48002120 &  5.17332453 &  6.07921659 &  6.22985398 &  4.6527658 &  4.823473 &  5.4824162\\\\\n",
       "\t 24 & AGO & Angola         & 14.96003732 & 14.97611656 & 15.69914071 & 16.21085619 & 16.26793892 & 18.9731269 & 16.105242 & 17.9665771\\\\\n",
       "\\end{tabular}\n"
      ],
      "text/markdown": [
       "\n",
       "A tibble: 6 × 11\n",
       "\n",
       "| CODE &lt;dbl&gt; | ISO &lt;chr&gt; | COUNTRY &lt;chr&gt; | AVPMC_2008 &lt;dbl&gt; | AVPMC_2009 &lt;dbl&gt; | AVPMC_2010 &lt;dbl&gt; | AVPMC_2011 &lt;dbl&gt; | AVPMC_2012 &lt;dbl&gt; | AVPMC_2013 &lt;dbl&gt; | AVPMC_2014 &lt;dbl&gt; | AVPMC_2015 &lt;dbl&gt; |\n",
       "|---|---|---|---|---|---|---|---|---|---|---|\n",
       "|  4 | AFG | Afghanistan    | 13.26137037 | 10.50701937 | 11.92549180 | 11.96693352 | 13.40898594 | 13.0235426 | 12.202900 | 15.2331374 |\n",
       "|  8 | ALB | Albania        |  9.91456242 |  9.01403252 |  9.72033886 |  9.99026037 | 10.26517567 |  9.6878014 |  9.354653 | 11.8006311 |\n",
       "| 12 | DZA | Algeria        |  6.13864964 |  4.66263226 |  5.44148669 |  5.29028024 |  5.60143102 |  5.3973197 |  6.053069 |  8.6235388 |\n",
       "| 16 | ASM | American Samoa |  0.09964771 |  0.09951101 |  0.09951101 |  0.09951101 |  0.09951101 |  0.1012694 |  0.199022 |  0.2972666 |\n",
       "| 20 | AND | Andorra        |  5.69507307 |  5.48002120 |  5.17332453 |  6.07921659 |  6.22985398 |  4.6527658 |  4.823473 |  5.4824162 |\n",
       "| 24 | AGO | Angola         | 14.96003732 | 14.97611656 | 15.69914071 | 16.21085619 | 16.26793892 | 18.9731269 | 16.105242 | 17.9665771 |\n",
       "\n"
      ],
      "text/plain": [
       "  CODE ISO COUNTRY        AVPMC_2008  AVPMC_2009  AVPMC_2010  AVPMC_2011 \n",
       "1  4   AFG Afghanistan    13.26137037 10.50701937 11.92549180 11.96693352\n",
       "2  8   ALB Albania         9.91456242  9.01403252  9.72033886  9.99026037\n",
       "3 12   DZA Algeria         6.13864964  4.66263226  5.44148669  5.29028024\n",
       "4 16   ASM American Samoa  0.09964771  0.09951101  0.09951101  0.09951101\n",
       "5 20   AND Andorra         5.69507307  5.48002120  5.17332453  6.07921659\n",
       "6 24   AGO Angola         14.96003732 14.97611656 15.69914071 16.21085619\n",
       "  AVPMC_2012  AVPMC_2013 AVPMC_2014 AVPMC_2015\n",
       "1 13.40898594 13.0235426 12.202900  15.2331374\n",
       "2 10.26517567  9.6878014  9.354653  11.8006311\n",
       "3  5.60143102  5.3973197  6.053069   8.6235388\n",
       "4  0.09951101  0.1012694  0.199022   0.2972666\n",
       "5  6.22985398  4.6527658  4.823473   5.4824162\n",
       "6 16.26793892 18.9731269 16.105242  17.9665771"
      ]
     },
     "metadata": {},
     "output_type": "display_data"
    }
   ],
   "source": [
    "head(pmobs)"
   ]
  },
  {
   "cell_type": "code",
   "execution_count": 102,
   "id": "eff9486a",
   "metadata": {},
   "outputs": [],
   "source": [
    "pmobs2 = melt(pmobs, names(pmobs)[1:3])"
   ]
  },
  {
   "cell_type": "code",
   "execution_count": 103,
   "id": "973e9607",
   "metadata": {},
   "outputs": [],
   "source": [
    "pmobs2$year = as.numeric(substring(pmobs2$variable, 7, 11))"
   ]
  },
  {
   "cell_type": "code",
   "execution_count": 104,
   "id": "b054e52c",
   "metadata": {},
   "outputs": [],
   "source": [
    "gdppcobs = read_excel(\"../data/API_NY.GDP.PCAP.PP.KD_DS2_en_excel_v2_76342.xls\", skip=3)"
   ]
  },
  {
   "cell_type": "code",
   "execution_count": 105,
   "id": "cad9ddac",
   "metadata": {},
   "outputs": [],
   "source": [
    "gdppcobs2 = melt(gdppcobs, names(gdppcobs)[1:4])"
   ]
  },
  {
   "cell_type": "code",
   "execution_count": 106,
   "id": "0f386800",
   "metadata": {},
   "outputs": [],
   "source": [
    "gdppcobs2$year = as.numeric(as.character(gdppcobs2$variable))"
   ]
  },
  {
   "cell_type": "code",
   "execution_count": 107,
   "id": "5a8da464",
   "metadata": {},
   "outputs": [
    {
     "data": {
      "text/html": [
       "<table class=\"dataframe\">\n",
       "<caption>A data.frame: 6 × 7</caption>\n",
       "<thead>\n",
       "\t<tr><th></th><th scope=col>Country Name</th><th scope=col>Country Code</th><th scope=col>Indicator Name</th><th scope=col>Indicator Code</th><th scope=col>variable</th><th scope=col>value</th><th scope=col>year</th></tr>\n",
       "\t<tr><th></th><th scope=col>&lt;chr&gt;</th><th scope=col>&lt;chr&gt;</th><th scope=col>&lt;chr&gt;</th><th scope=col>&lt;chr&gt;</th><th scope=col>&lt;fct&gt;</th><th scope=col>&lt;dbl&gt;</th><th scope=col>&lt;dbl&gt;</th></tr>\n",
       "</thead>\n",
       "<tbody>\n",
       "\t<tr><th scope=row>1</th><td>Aruba                      </td><td>ABW</td><td>GDP per capita, PPP (constant 2021 international $)</td><td>NY.GDP.PCAP.PP.KD</td><td>1960</td><td>NA</td><td>1960</td></tr>\n",
       "\t<tr><th scope=row>2</th><td>Africa Eastern and Southern</td><td>AFE</td><td>GDP per capita, PPP (constant 2021 international $)</td><td>NY.GDP.PCAP.PP.KD</td><td>1960</td><td>NA</td><td>1960</td></tr>\n",
       "\t<tr><th scope=row>3</th><td>Afghanistan                </td><td>AFG</td><td>GDP per capita, PPP (constant 2021 international $)</td><td>NY.GDP.PCAP.PP.KD</td><td>1960</td><td>NA</td><td>1960</td></tr>\n",
       "\t<tr><th scope=row>4</th><td>Africa Western and Central </td><td>AFW</td><td>GDP per capita, PPP (constant 2021 international $)</td><td>NY.GDP.PCAP.PP.KD</td><td>1960</td><td>NA</td><td>1960</td></tr>\n",
       "\t<tr><th scope=row>5</th><td>Angola                     </td><td>AGO</td><td>GDP per capita, PPP (constant 2021 international $)</td><td>NY.GDP.PCAP.PP.KD</td><td>1960</td><td>NA</td><td>1960</td></tr>\n",
       "\t<tr><th scope=row>6</th><td>Albania                    </td><td>ALB</td><td>GDP per capita, PPP (constant 2021 international $)</td><td>NY.GDP.PCAP.PP.KD</td><td>1960</td><td>NA</td><td>1960</td></tr>\n",
       "</tbody>\n",
       "</table>\n"
      ],
      "text/latex": [
       "A data.frame: 6 × 7\n",
       "\\begin{tabular}{r|lllllll}\n",
       "  & Country Name & Country Code & Indicator Name & Indicator Code & variable & value & year\\\\\n",
       "  & <chr> & <chr> & <chr> & <chr> & <fct> & <dbl> & <dbl>\\\\\n",
       "\\hline\n",
       "\t1 & Aruba                       & ABW & GDP per capita, PPP (constant 2021 international \\$) & NY.GDP.PCAP.PP.KD & 1960 & NA & 1960\\\\\n",
       "\t2 & Africa Eastern and Southern & AFE & GDP per capita, PPP (constant 2021 international \\$) & NY.GDP.PCAP.PP.KD & 1960 & NA & 1960\\\\\n",
       "\t3 & Afghanistan                 & AFG & GDP per capita, PPP (constant 2021 international \\$) & NY.GDP.PCAP.PP.KD & 1960 & NA & 1960\\\\\n",
       "\t4 & Africa Western and Central  & AFW & GDP per capita, PPP (constant 2021 international \\$) & NY.GDP.PCAP.PP.KD & 1960 & NA & 1960\\\\\n",
       "\t5 & Angola                      & AGO & GDP per capita, PPP (constant 2021 international \\$) & NY.GDP.PCAP.PP.KD & 1960 & NA & 1960\\\\\n",
       "\t6 & Albania                     & ALB & GDP per capita, PPP (constant 2021 international \\$) & NY.GDP.PCAP.PP.KD & 1960 & NA & 1960\\\\\n",
       "\\end{tabular}\n"
      ],
      "text/markdown": [
       "\n",
       "A data.frame: 6 × 7\n",
       "\n",
       "| <!--/--> | Country Name &lt;chr&gt; | Country Code &lt;chr&gt; | Indicator Name &lt;chr&gt; | Indicator Code &lt;chr&gt; | variable &lt;fct&gt; | value &lt;dbl&gt; | year &lt;dbl&gt; |\n",
       "|---|---|---|---|---|---|---|---|\n",
       "| 1 | Aruba                       | ABW | GDP per capita, PPP (constant 2021 international $) | NY.GDP.PCAP.PP.KD | 1960 | NA | 1960 |\n",
       "| 2 | Africa Eastern and Southern | AFE | GDP per capita, PPP (constant 2021 international $) | NY.GDP.PCAP.PP.KD | 1960 | NA | 1960 |\n",
       "| 3 | Afghanistan                 | AFG | GDP per capita, PPP (constant 2021 international $) | NY.GDP.PCAP.PP.KD | 1960 | NA | 1960 |\n",
       "| 4 | Africa Western and Central  | AFW | GDP per capita, PPP (constant 2021 international $) | NY.GDP.PCAP.PP.KD | 1960 | NA | 1960 |\n",
       "| 5 | Angola                      | AGO | GDP per capita, PPP (constant 2021 international $) | NY.GDP.PCAP.PP.KD | 1960 | NA | 1960 |\n",
       "| 6 | Albania                     | ALB | GDP per capita, PPP (constant 2021 international $) | NY.GDP.PCAP.PP.KD | 1960 | NA | 1960 |\n",
       "\n"
      ],
      "text/plain": [
       "  Country Name                Country Code\n",
       "1 Aruba                       ABW         \n",
       "2 Africa Eastern and Southern AFE         \n",
       "3 Afghanistan                 AFG         \n",
       "4 Africa Western and Central  AFW         \n",
       "5 Angola                      AGO         \n",
       "6 Albania                     ALB         \n",
       "  Indicator Name                                      Indicator Code   \n",
       "1 GDP per capita, PPP (constant 2021 international $) NY.GDP.PCAP.PP.KD\n",
       "2 GDP per capita, PPP (constant 2021 international $) NY.GDP.PCAP.PP.KD\n",
       "3 GDP per capita, PPP (constant 2021 international $) NY.GDP.PCAP.PP.KD\n",
       "4 GDP per capita, PPP (constant 2021 international $) NY.GDP.PCAP.PP.KD\n",
       "5 GDP per capita, PPP (constant 2021 international $) NY.GDP.PCAP.PP.KD\n",
       "6 GDP per capita, PPP (constant 2021 international $) NY.GDP.PCAP.PP.KD\n",
       "  variable value year\n",
       "1 1960     NA    1960\n",
       "2 1960     NA    1960\n",
       "3 1960     NA    1960\n",
       "4 1960     NA    1960\n",
       "5 1960     NA    1960\n",
       "6 1960     NA    1960"
      ]
     },
     "metadata": {},
     "output_type": "display_data"
    }
   ],
   "source": [
    "head(gdppcobs2)"
   ]
  },
  {
   "cell_type": "code",
   "execution_count": 108,
   "id": "3b0f738b",
   "metadata": {},
   "outputs": [],
   "source": [
    "popobs = read_excel(\"../data/API_SP.POP.TOTL_DS2_en_excel_v2_76243.xls\", skip=3)\n",
    "popobs2 = melt(popobs, names(popobs)[1:4])\n",
    "popobs2$year = as.numeric(as.character(popobs2$variable))"
   ]
  },
  {
   "cell_type": "code",
   "execution_count": 109,
   "id": "24260d7a",
   "metadata": {
    "scrolled": true
   },
   "outputs": [],
   "source": [
    "pmobs3 = pmobs2 %>% left_join(gdppcobs2, by=c('year', 'ISO'='Country Code'), suffix=c('.pm', '')) %>%\n",
    "  left_join(popobs2, by=c('year', 'ISO'='Country Code'), suffix=c('.gdppc', '.pop'))"
   ]
  },
  {
   "cell_type": "code",
   "execution_count": 110,
   "id": "e3324858",
   "metadata": {
    "scrolled": true
   },
   "outputs": [
    {
     "data": {
      "text/html": [
       "<table class=\"dataframe\">\n",
       "<caption>A data.frame: 6 × 16</caption>\n",
       "<thead>\n",
       "\t<tr><th></th><th scope=col>CODE</th><th scope=col>ISO</th><th scope=col>COUNTRY</th><th scope=col>variable.pm</th><th scope=col>value.pm</th><th scope=col>year</th><th scope=col>Country Name.gdppc</th><th scope=col>Indicator Name.gdppc</th><th scope=col>Indicator Code.gdppc</th><th scope=col>variable.gdppc</th><th scope=col>value.gdppc</th><th scope=col>Country Name.pop</th><th scope=col>Indicator Name.pop</th><th scope=col>Indicator Code.pop</th><th scope=col>variable.pop</th><th scope=col>value.pop</th></tr>\n",
       "\t<tr><th></th><th scope=col>&lt;dbl&gt;</th><th scope=col>&lt;chr&gt;</th><th scope=col>&lt;chr&gt;</th><th scope=col>&lt;fct&gt;</th><th scope=col>&lt;dbl&gt;</th><th scope=col>&lt;dbl&gt;</th><th scope=col>&lt;chr&gt;</th><th scope=col>&lt;chr&gt;</th><th scope=col>&lt;chr&gt;</th><th scope=col>&lt;fct&gt;</th><th scope=col>&lt;dbl&gt;</th><th scope=col>&lt;chr&gt;</th><th scope=col>&lt;chr&gt;</th><th scope=col>&lt;chr&gt;</th><th scope=col>&lt;fct&gt;</th><th scope=col>&lt;dbl&gt;</th></tr>\n",
       "</thead>\n",
       "<tbody>\n",
       "\t<tr><th scope=row>1</th><td> 4</td><td>AFG</td><td>Afghanistan   </td><td>AVPMC_2008</td><td>13.26137037</td><td>2008</td><td>Afghanistan   </td><td>GDP per capita, PPP (constant 2021 international $)</td><td>NY.GDP.PCAP.PP.KD</td><td>2008</td><td> 2191.504</td><td>Afghanistan   </td><td>Population, total</td><td>SP.POP.TOTL</td><td>2008</td><td>26482622</td></tr>\n",
       "\t<tr><th scope=row>2</th><td> 8</td><td>ALB</td><td>Albania       </td><td>AVPMC_2008</td><td> 9.91456242</td><td>2008</td><td>Albania       </td><td>GDP per capita, PPP (constant 2021 international $)</td><td>NY.GDP.PCAP.PP.KD</td><td>2008</td><td>10940.361</td><td>Albania       </td><td>Population, total</td><td>SP.POP.TOTL</td><td>2008</td><td> 2947314</td></tr>\n",
       "\t<tr><th scope=row>3</th><td>12</td><td>DZA</td><td>Algeria       </td><td>AVPMC_2008</td><td> 6.13864964</td><td>2008</td><td>Algeria       </td><td>GDP per capita, PPP (constant 2021 international $)</td><td>NY.GDP.PCAP.PP.KD</td><td>2008</td><td>14206.777</td><td>Algeria       </td><td>Population, total</td><td>SP.POP.TOTL</td><td>2008</td><td>34816961</td></tr>\n",
       "\t<tr><th scope=row>4</th><td>16</td><td>ASM</td><td>American Samoa</td><td>AVPMC_2008</td><td> 0.09964771</td><td>2008</td><td>American Samoa</td><td>GDP per capita, PPP (constant 2021 international $)</td><td>NY.GDP.PCAP.PP.KD</td><td>2008</td><td>       NA</td><td>American Samoa</td><td>Population, total</td><td>SP.POP.TOTL</td><td>2008</td><td>   55828</td></tr>\n",
       "\t<tr><th scope=row>5</th><td>20</td><td>AND</td><td>Andorra       </td><td>AVPMC_2008</td><td> 5.69507307</td><td>2008</td><td>Andorra       </td><td>GDP per capita, PPP (constant 2021 international $)</td><td>NY.GDP.PCAP.PP.KD</td><td>2008</td><td>60691.605</td><td>Andorra       </td><td>Population, total</td><td>SP.POP.TOTL</td><td>2008</td><td>   83495</td></tr>\n",
       "\t<tr><th scope=row>6</th><td>24</td><td>AGO</td><td>Angola        </td><td>AVPMC_2008</td><td>14.96003732</td><td>2008</td><td>Angola        </td><td>GDP per capita, PPP (constant 2021 international $)</td><td>NY.GDP.PCAP.PP.KD</td><td>2008</td><td> 9916.909</td><td>Angola        </td><td>Population, total</td><td>SP.POP.TOTL</td><td>2008</td><td>21578655</td></tr>\n",
       "</tbody>\n",
       "</table>\n"
      ],
      "text/latex": [
       "A data.frame: 6 × 16\n",
       "\\begin{tabular}{r|llllllllllllllll}\n",
       "  & CODE & ISO & COUNTRY & variable.pm & value.pm & year & Country Name.gdppc & Indicator Name.gdppc & Indicator Code.gdppc & variable.gdppc & value.gdppc & Country Name.pop & Indicator Name.pop & Indicator Code.pop & variable.pop & value.pop\\\\\n",
       "  & <dbl> & <chr> & <chr> & <fct> & <dbl> & <dbl> & <chr> & <chr> & <chr> & <fct> & <dbl> & <chr> & <chr> & <chr> & <fct> & <dbl>\\\\\n",
       "\\hline\n",
       "\t1 &  4 & AFG & Afghanistan    & AVPMC\\_2008 & 13.26137037 & 2008 & Afghanistan    & GDP per capita, PPP (constant 2021 international \\$) & NY.GDP.PCAP.PP.KD & 2008 &  2191.504 & Afghanistan    & Population, total & SP.POP.TOTL & 2008 & 26482622\\\\\n",
       "\t2 &  8 & ALB & Albania        & AVPMC\\_2008 &  9.91456242 & 2008 & Albania        & GDP per capita, PPP (constant 2021 international \\$) & NY.GDP.PCAP.PP.KD & 2008 & 10940.361 & Albania        & Population, total & SP.POP.TOTL & 2008 &  2947314\\\\\n",
       "\t3 & 12 & DZA & Algeria        & AVPMC\\_2008 &  6.13864964 & 2008 & Algeria        & GDP per capita, PPP (constant 2021 international \\$) & NY.GDP.PCAP.PP.KD & 2008 & 14206.777 & Algeria        & Population, total & SP.POP.TOTL & 2008 & 34816961\\\\\n",
       "\t4 & 16 & ASM & American Samoa & AVPMC\\_2008 &  0.09964771 & 2008 & American Samoa & GDP per capita, PPP (constant 2021 international \\$) & NY.GDP.PCAP.PP.KD & 2008 &        NA & American Samoa & Population, total & SP.POP.TOTL & 2008 &    55828\\\\\n",
       "\t5 & 20 & AND & Andorra        & AVPMC\\_2008 &  5.69507307 & 2008 & Andorra        & GDP per capita, PPP (constant 2021 international \\$) & NY.GDP.PCAP.PP.KD & 2008 & 60691.605 & Andorra        & Population, total & SP.POP.TOTL & 2008 &    83495\\\\\n",
       "\t6 & 24 & AGO & Angola         & AVPMC\\_2008 & 14.96003732 & 2008 & Angola         & GDP per capita, PPP (constant 2021 international \\$) & NY.GDP.PCAP.PP.KD & 2008 &  9916.909 & Angola         & Population, total & SP.POP.TOTL & 2008 & 21578655\\\\\n",
       "\\end{tabular}\n"
      ],
      "text/markdown": [
       "\n",
       "A data.frame: 6 × 16\n",
       "\n",
       "| <!--/--> | CODE &lt;dbl&gt; | ISO &lt;chr&gt; | COUNTRY &lt;chr&gt; | variable.pm &lt;fct&gt; | value.pm &lt;dbl&gt; | year &lt;dbl&gt; | Country Name.gdppc &lt;chr&gt; | Indicator Name.gdppc &lt;chr&gt; | Indicator Code.gdppc &lt;chr&gt; | variable.gdppc &lt;fct&gt; | value.gdppc &lt;dbl&gt; | Country Name.pop &lt;chr&gt; | Indicator Name.pop &lt;chr&gt; | Indicator Code.pop &lt;chr&gt; | variable.pop &lt;fct&gt; | value.pop &lt;dbl&gt; |\n",
       "|---|---|---|---|---|---|---|---|---|---|---|---|---|---|---|---|---|\n",
       "| 1 |  4 | AFG | Afghanistan    | AVPMC_2008 | 13.26137037 | 2008 | Afghanistan    | GDP per capita, PPP (constant 2021 international $) | NY.GDP.PCAP.PP.KD | 2008 |  2191.504 | Afghanistan    | Population, total | SP.POP.TOTL | 2008 | 26482622 |\n",
       "| 2 |  8 | ALB | Albania        | AVPMC_2008 |  9.91456242 | 2008 | Albania        | GDP per capita, PPP (constant 2021 international $) | NY.GDP.PCAP.PP.KD | 2008 | 10940.361 | Albania        | Population, total | SP.POP.TOTL | 2008 |  2947314 |\n",
       "| 3 | 12 | DZA | Algeria        | AVPMC_2008 |  6.13864964 | 2008 | Algeria        | GDP per capita, PPP (constant 2021 international $) | NY.GDP.PCAP.PP.KD | 2008 | 14206.777 | Algeria        | Population, total | SP.POP.TOTL | 2008 | 34816961 |\n",
       "| 4 | 16 | ASM | American Samoa | AVPMC_2008 |  0.09964771 | 2008 | American Samoa | GDP per capita, PPP (constant 2021 international $) | NY.GDP.PCAP.PP.KD | 2008 |        NA | American Samoa | Population, total | SP.POP.TOTL | 2008 |    55828 |\n",
       "| 5 | 20 | AND | Andorra        | AVPMC_2008 |  5.69507307 | 2008 | Andorra        | GDP per capita, PPP (constant 2021 international $) | NY.GDP.PCAP.PP.KD | 2008 | 60691.605 | Andorra        | Population, total | SP.POP.TOTL | 2008 |    83495 |\n",
       "| 6 | 24 | AGO | Angola         | AVPMC_2008 | 14.96003732 | 2008 | Angola         | GDP per capita, PPP (constant 2021 international $) | NY.GDP.PCAP.PP.KD | 2008 |  9916.909 | Angola         | Population, total | SP.POP.TOTL | 2008 | 21578655 |\n",
       "\n"
      ],
      "text/plain": [
       "  CODE ISO COUNTRY        variable.pm value.pm    year Country Name.gdppc\n",
       "1  4   AFG Afghanistan    AVPMC_2008  13.26137037 2008 Afghanistan       \n",
       "2  8   ALB Albania        AVPMC_2008   9.91456242 2008 Albania           \n",
       "3 12   DZA Algeria        AVPMC_2008   6.13864964 2008 Algeria           \n",
       "4 16   ASM American Samoa AVPMC_2008   0.09964771 2008 American Samoa    \n",
       "5 20   AND Andorra        AVPMC_2008   5.69507307 2008 Andorra           \n",
       "6 24   AGO Angola         AVPMC_2008  14.96003732 2008 Angola            \n",
       "  Indicator Name.gdppc                                Indicator Code.gdppc\n",
       "1 GDP per capita, PPP (constant 2021 international $) NY.GDP.PCAP.PP.KD   \n",
       "2 GDP per capita, PPP (constant 2021 international $) NY.GDP.PCAP.PP.KD   \n",
       "3 GDP per capita, PPP (constant 2021 international $) NY.GDP.PCAP.PP.KD   \n",
       "4 GDP per capita, PPP (constant 2021 international $) NY.GDP.PCAP.PP.KD   \n",
       "5 GDP per capita, PPP (constant 2021 international $) NY.GDP.PCAP.PP.KD   \n",
       "6 GDP per capita, PPP (constant 2021 international $) NY.GDP.PCAP.PP.KD   \n",
       "  variable.gdppc value.gdppc Country Name.pop Indicator Name.pop\n",
       "1 2008            2191.504   Afghanistan      Population, total \n",
       "2 2008           10940.361   Albania          Population, total \n",
       "3 2008           14206.777   Algeria          Population, total \n",
       "4 2008                  NA   American Samoa   Population, total \n",
       "5 2008           60691.605   Andorra          Population, total \n",
       "6 2008            9916.909   Angola           Population, total \n",
       "  Indicator Code.pop variable.pop value.pop\n",
       "1 SP.POP.TOTL        2008         26482622 \n",
       "2 SP.POP.TOTL        2008          2947314 \n",
       "3 SP.POP.TOTL        2008         34816961 \n",
       "4 SP.POP.TOTL        2008            55828 \n",
       "5 SP.POP.TOTL        2008            83495 \n",
       "6 SP.POP.TOTL        2008         21578655 "
      ]
     },
     "metadata": {},
     "output_type": "display_data"
    }
   ],
   "source": [
    "head(pmobs3)"
   ]
  },
  {
   "cell_type": "code",
   "execution_count": 111,
   "id": "03f05adf",
   "metadata": {},
   "outputs": [],
   "source": [
    "pmobs4 = pmobs3 %>% group_by(ISO) %>% arrange(year) %>%\n",
    "  mutate(logpm=log(value.pm), laglogpm=lag(logpm), lag2logpm=lag(laglogpm),\n",
    "        loggdppc=log(value.gdppc), loggdppc2=loggdppc^2, logpop=log(value.pop), year2000=year - 2000)"
   ]
  },
  {
   "cell_type": "code",
   "execution_count": 112,
   "id": "41fcd725",
   "metadata": {},
   "outputs": [
    {
     "data": {
      "text/html": [
       "<table class=\"dataframe\">\n",
       "<caption>A grouped_df: 6 × 23</caption>\n",
       "<thead>\n",
       "\t<tr><th scope=col>CODE</th><th scope=col>ISO</th><th scope=col>COUNTRY</th><th scope=col>variable.pm</th><th scope=col>value.pm</th><th scope=col>year</th><th scope=col>Country Name.gdppc</th><th scope=col>Indicator Name.gdppc</th><th scope=col>Indicator Code.gdppc</th><th scope=col>variable.gdppc</th><th scope=col>⋯</th><th scope=col>Indicator Code.pop</th><th scope=col>variable.pop</th><th scope=col>value.pop</th><th scope=col>logpm</th><th scope=col>laglogpm</th><th scope=col>lag2logpm</th><th scope=col>loggdppc</th><th scope=col>loggdppc2</th><th scope=col>logpop</th><th scope=col>year2000</th></tr>\n",
       "\t<tr><th scope=col>&lt;dbl&gt;</th><th scope=col>&lt;chr&gt;</th><th scope=col>&lt;chr&gt;</th><th scope=col>&lt;fct&gt;</th><th scope=col>&lt;dbl&gt;</th><th scope=col>&lt;dbl&gt;</th><th scope=col>&lt;chr&gt;</th><th scope=col>&lt;chr&gt;</th><th scope=col>&lt;chr&gt;</th><th scope=col>&lt;fct&gt;</th><th scope=col>⋯</th><th scope=col>&lt;chr&gt;</th><th scope=col>&lt;fct&gt;</th><th scope=col>&lt;dbl&gt;</th><th scope=col>&lt;dbl&gt;</th><th scope=col>&lt;dbl&gt;</th><th scope=col>&lt;dbl&gt;</th><th scope=col>&lt;dbl&gt;</th><th scope=col>&lt;dbl&gt;</th><th scope=col>&lt;dbl&gt;</th><th scope=col>&lt;dbl&gt;</th></tr>\n",
       "</thead>\n",
       "<tbody>\n",
       "\t<tr><td>840</td><td>USA</td><td>United States of America</td><td>AVPMC_2008</td><td>9.144625</td><td>2008</td><td>United States</td><td>GDP per capita, PPP (constant 2021 international $)</td><td>NY.GDP.PCAP.PP.KD</td><td>2008</td><td>⋯</td><td>SP.POP.TOTL</td><td>2008</td><td>304093966</td><td>2.213166</td><td>      NA</td><td>      NA</td><td>11.01532</td><td>121.3373</td><td>19.53285</td><td> 8</td></tr>\n",
       "\t<tr><td>840</td><td>USA</td><td>United States of America</td><td>AVPMC_2009</td><td>8.750111</td><td>2009</td><td>United States</td><td>GDP per capita, PPP (constant 2021 international $)</td><td>NY.GDP.PCAP.PP.KD</td><td>2009</td><td>⋯</td><td>SP.POP.TOTL</td><td>2009</td><td>306771529</td><td>2.169066</td><td>2.213166</td><td>      NA</td><td>10.98045</td><td>120.5703</td><td>19.54161</td><td> 9</td></tr>\n",
       "\t<tr><td>840</td><td>USA</td><td>United States of America</td><td>AVPMC_2010</td><td>8.754544</td><td>2010</td><td>United States</td><td>GDP per capita, PPP (constant 2021 international $)</td><td>NY.GDP.PCAP.PP.KD</td><td>2010</td><td>⋯</td><td>SP.POP.TOTL</td><td>2010</td><td>309327143</td><td>2.169573</td><td>2.169066</td><td>2.213166</td><td>10.99875</td><td>120.9725</td><td>19.54991</td><td>10</td></tr>\n",
       "\t<tr><td>840</td><td>USA</td><td>United States of America</td><td>AVPMC_2011</td><td>9.584729</td><td>2011</td><td>United States</td><td>GDP per capita, PPP (constant 2021 international $)</td><td>NY.GDP.PCAP.PP.KD</td><td>2011</td><td>⋯</td><td>SP.POP.TOTL</td><td>2011</td><td>311583481</td><td>2.260171</td><td>2.169573</td><td>2.169066</td><td>11.00700</td><td>121.1541</td><td>19.55718</td><td>11</td></tr>\n",
       "\t<tr><td>840</td><td>USA</td><td>United States of America</td><td>AVPMC_2012</td><td>8.975186</td><td>2012</td><td>United States</td><td>GDP per capita, PPP (constant 2021 international $)</td><td>NY.GDP.PCAP.PP.KD</td><td>2012</td><td>⋯</td><td>SP.POP.TOTL</td><td>2012</td><td>313877662</td><td>2.194464</td><td>2.260171</td><td>2.169573</td><td>11.02230</td><td>121.4911</td><td>19.56451</td><td>12</td></tr>\n",
       "\t<tr><td>840</td><td>USA</td><td>United States of America</td><td>AVPMC_2013</td><td>8.928400</td><td>2013</td><td>United States</td><td>GDP per capita, PPP (constant 2021 international $)</td><td>NY.GDP.PCAP.PP.KD</td><td>2013</td><td>⋯</td><td>SP.POP.TOTL</td><td>2013</td><td>316059947</td><td>2.189237</td><td>2.194464</td><td>2.260171</td><td>11.03633</td><td>121.8006</td><td>19.57144</td><td>13</td></tr>\n",
       "</tbody>\n",
       "</table>\n"
      ],
      "text/latex": [
       "A grouped\\_df: 6 × 23\n",
       "\\begin{tabular}{lllllllllllllllllllll}\n",
       " CODE & ISO & COUNTRY & variable.pm & value.pm & year & Country Name.gdppc & Indicator Name.gdppc & Indicator Code.gdppc & variable.gdppc & ⋯ & Indicator Code.pop & variable.pop & value.pop & logpm & laglogpm & lag2logpm & loggdppc & loggdppc2 & logpop & year2000\\\\\n",
       " <dbl> & <chr> & <chr> & <fct> & <dbl> & <dbl> & <chr> & <chr> & <chr> & <fct> & ⋯ & <chr> & <fct> & <dbl> & <dbl> & <dbl> & <dbl> & <dbl> & <dbl> & <dbl> & <dbl>\\\\\n",
       "\\hline\n",
       "\t 840 & USA & United States of America & AVPMC\\_2008 & 9.144625 & 2008 & United States & GDP per capita, PPP (constant 2021 international \\$) & NY.GDP.PCAP.PP.KD & 2008 & ⋯ & SP.POP.TOTL & 2008 & 304093966 & 2.213166 &       NA &       NA & 11.01532 & 121.3373 & 19.53285 &  8\\\\\n",
       "\t 840 & USA & United States of America & AVPMC\\_2009 & 8.750111 & 2009 & United States & GDP per capita, PPP (constant 2021 international \\$) & NY.GDP.PCAP.PP.KD & 2009 & ⋯ & SP.POP.TOTL & 2009 & 306771529 & 2.169066 & 2.213166 &       NA & 10.98045 & 120.5703 & 19.54161 &  9\\\\\n",
       "\t 840 & USA & United States of America & AVPMC\\_2010 & 8.754544 & 2010 & United States & GDP per capita, PPP (constant 2021 international \\$) & NY.GDP.PCAP.PP.KD & 2010 & ⋯ & SP.POP.TOTL & 2010 & 309327143 & 2.169573 & 2.169066 & 2.213166 & 10.99875 & 120.9725 & 19.54991 & 10\\\\\n",
       "\t 840 & USA & United States of America & AVPMC\\_2011 & 9.584729 & 2011 & United States & GDP per capita, PPP (constant 2021 international \\$) & NY.GDP.PCAP.PP.KD & 2011 & ⋯ & SP.POP.TOTL & 2011 & 311583481 & 2.260171 & 2.169573 & 2.169066 & 11.00700 & 121.1541 & 19.55718 & 11\\\\\n",
       "\t 840 & USA & United States of America & AVPMC\\_2012 & 8.975186 & 2012 & United States & GDP per capita, PPP (constant 2021 international \\$) & NY.GDP.PCAP.PP.KD & 2012 & ⋯ & SP.POP.TOTL & 2012 & 313877662 & 2.194464 & 2.260171 & 2.169573 & 11.02230 & 121.4911 & 19.56451 & 12\\\\\n",
       "\t 840 & USA & United States of America & AVPMC\\_2013 & 8.928400 & 2013 & United States & GDP per capita, PPP (constant 2021 international \\$) & NY.GDP.PCAP.PP.KD & 2013 & ⋯ & SP.POP.TOTL & 2013 & 316059947 & 2.189237 & 2.194464 & 2.260171 & 11.03633 & 121.8006 & 19.57144 & 13\\\\\n",
       "\\end{tabular}\n"
      ],
      "text/markdown": [
       "\n",
       "A grouped_df: 6 × 23\n",
       "\n",
       "| CODE &lt;dbl&gt; | ISO &lt;chr&gt; | COUNTRY &lt;chr&gt; | variable.pm &lt;fct&gt; | value.pm &lt;dbl&gt; | year &lt;dbl&gt; | Country Name.gdppc &lt;chr&gt; | Indicator Name.gdppc &lt;chr&gt; | Indicator Code.gdppc &lt;chr&gt; | variable.gdppc &lt;fct&gt; | ⋯ ⋯ | Indicator Code.pop &lt;chr&gt; | variable.pop &lt;fct&gt; | value.pop &lt;dbl&gt; | logpm &lt;dbl&gt; | laglogpm &lt;dbl&gt; | lag2logpm &lt;dbl&gt; | loggdppc &lt;dbl&gt; | loggdppc2 &lt;dbl&gt; | logpop &lt;dbl&gt; | year2000 &lt;dbl&gt; |\n",
       "|---|---|---|---|---|---|---|---|---|---|---|---|---|---|---|---|---|---|---|---|---|\n",
       "| 840 | USA | United States of America | AVPMC_2008 | 9.144625 | 2008 | United States | GDP per capita, PPP (constant 2021 international $) | NY.GDP.PCAP.PP.KD | 2008 | ⋯ | SP.POP.TOTL | 2008 | 304093966 | 2.213166 |       NA |       NA | 11.01532 | 121.3373 | 19.53285 |  8 |\n",
       "| 840 | USA | United States of America | AVPMC_2009 | 8.750111 | 2009 | United States | GDP per capita, PPP (constant 2021 international $) | NY.GDP.PCAP.PP.KD | 2009 | ⋯ | SP.POP.TOTL | 2009 | 306771529 | 2.169066 | 2.213166 |       NA | 10.98045 | 120.5703 | 19.54161 |  9 |\n",
       "| 840 | USA | United States of America | AVPMC_2010 | 8.754544 | 2010 | United States | GDP per capita, PPP (constant 2021 international $) | NY.GDP.PCAP.PP.KD | 2010 | ⋯ | SP.POP.TOTL | 2010 | 309327143 | 2.169573 | 2.169066 | 2.213166 | 10.99875 | 120.9725 | 19.54991 | 10 |\n",
       "| 840 | USA | United States of America | AVPMC_2011 | 9.584729 | 2011 | United States | GDP per capita, PPP (constant 2021 international $) | NY.GDP.PCAP.PP.KD | 2011 | ⋯ | SP.POP.TOTL | 2011 | 311583481 | 2.260171 | 2.169573 | 2.169066 | 11.00700 | 121.1541 | 19.55718 | 11 |\n",
       "| 840 | USA | United States of America | AVPMC_2012 | 8.975186 | 2012 | United States | GDP per capita, PPP (constant 2021 international $) | NY.GDP.PCAP.PP.KD | 2012 | ⋯ | SP.POP.TOTL | 2012 | 313877662 | 2.194464 | 2.260171 | 2.169573 | 11.02230 | 121.4911 | 19.56451 | 12 |\n",
       "| 840 | USA | United States of America | AVPMC_2013 | 8.928400 | 2013 | United States | GDP per capita, PPP (constant 2021 international $) | NY.GDP.PCAP.PP.KD | 2013 | ⋯ | SP.POP.TOTL | 2013 | 316059947 | 2.189237 | 2.194464 | 2.260171 | 11.03633 | 121.8006 | 19.57144 | 13 |\n",
       "\n"
      ],
      "text/plain": [
       "  CODE ISO COUNTRY                  variable.pm value.pm year\n",
       "1 840  USA United States of America AVPMC_2008  9.144625 2008\n",
       "2 840  USA United States of America AVPMC_2009  8.750111 2009\n",
       "3 840  USA United States of America AVPMC_2010  8.754544 2010\n",
       "4 840  USA United States of America AVPMC_2011  9.584729 2011\n",
       "5 840  USA United States of America AVPMC_2012  8.975186 2012\n",
       "6 840  USA United States of America AVPMC_2013  8.928400 2013\n",
       "  Country Name.gdppc Indicator Name.gdppc                               \n",
       "1 United States      GDP per capita, PPP (constant 2021 international $)\n",
       "2 United States      GDP per capita, PPP (constant 2021 international $)\n",
       "3 United States      GDP per capita, PPP (constant 2021 international $)\n",
       "4 United States      GDP per capita, PPP (constant 2021 international $)\n",
       "5 United States      GDP per capita, PPP (constant 2021 international $)\n",
       "6 United States      GDP per capita, PPP (constant 2021 international $)\n",
       "  Indicator Code.gdppc variable.gdppc ⋯ Indicator Code.pop variable.pop\n",
       "1 NY.GDP.PCAP.PP.KD    2008           ⋯ SP.POP.TOTL        2008        \n",
       "2 NY.GDP.PCAP.PP.KD    2009           ⋯ SP.POP.TOTL        2009        \n",
       "3 NY.GDP.PCAP.PP.KD    2010           ⋯ SP.POP.TOTL        2010        \n",
       "4 NY.GDP.PCAP.PP.KD    2011           ⋯ SP.POP.TOTL        2011        \n",
       "5 NY.GDP.PCAP.PP.KD    2012           ⋯ SP.POP.TOTL        2012        \n",
       "6 NY.GDP.PCAP.PP.KD    2013           ⋯ SP.POP.TOTL        2013        \n",
       "  value.pop logpm    laglogpm lag2logpm loggdppc loggdppc2 logpop   year2000\n",
       "1 304093966 2.213166       NA       NA  11.01532 121.3373  19.53285  8      \n",
       "2 306771529 2.169066 2.213166       NA  10.98045 120.5703  19.54161  9      \n",
       "3 309327143 2.169573 2.169066 2.213166  10.99875 120.9725  19.54991 10      \n",
       "4 311583481 2.260171 2.169573 2.169066  11.00700 121.1541  19.55718 11      \n",
       "5 313877662 2.194464 2.260171 2.169573  11.02230 121.4911  19.56451 12      \n",
       "6 316059947 2.189237 2.194464 2.260171  11.03633 121.8006  19.57144 13      "
      ]
     },
     "metadata": {},
     "output_type": "display_data"
    }
   ],
   "source": [
    "head(subset(pmobs4, ISO == 'USA'))"
   ]
  },
  {
   "cell_type": "code",
   "execution_count": 113,
   "id": "5de0e315",
   "metadata": {},
   "outputs": [],
   "source": [
    "pmobs5 = subset(pmobs4, value.pop > 0)"
   ]
  },
  {
   "cell_type": "code",
   "execution_count": 114,
   "id": "fb84c7f3",
   "metadata": {
    "scrolled": false
   },
   "outputs": [
    {
     "name": "stderr",
     "output_type": "stream",
     "text": [
      "Warning message in chol.default(mat, pivot = TRUE, tol = tol):\n",
      "“the matrix is either rank-deficient or not positive definite”\n",
      "Warning message in chol.default(mat, pivot = TRUE, tol = tol):\n",
      "“the matrix is either rank-deficient or not positive definite”\n"
     ]
    },
    {
     "data": {
      "text/plain": [
       "\n",
       "Call:\n",
       "   felm(formula = logpm ~ loggdppc * year2000 + loggdppc2 * year2000 +      logpop + laglogpm | factor(ISO) + factor(year2000) + year2000:factor(ISO),      data = pmobs5, weights = pmobs5$value.pop) \n",
       "\n",
       "Weighted Residuals:\n",
       "    Min      1Q  Median      3Q     Max \n",
       "-3286.9  -149.8    -2.8   135.9  2260.3 \n",
       "\n",
       "Coefficients:\n",
       "                     Estimate Std. Error t value Pr(>|t|)   \n",
       "loggdppc           -0.2036957  2.7732978  -0.073  0.94146   \n",
       "year2000                  NaN         NA     NaN      NaN   \n",
       "loggdppc2          -0.0114041  0.1526271  -0.075  0.94045   \n",
       "logpop              0.4336108  0.7622456   0.569  0.56958   \n",
       "laglogpm           -0.0933247  0.0342664  -2.724  0.00658 **\n",
       "loggdppc:year2000   0.0476475  0.2149977   0.222  0.82466   \n",
       "year2000:loggdppc2 -0.0002551  0.0118309  -0.022  0.98280   \n",
       "---\n",
       "Signif. codes:  0 ‘***’ 0.001 ‘**’ 0.01 ‘*’ 0.05 ‘.’ 0.1 ‘ ’ 1\n",
       "\n",
       "Residual standard error: 540.5 on 962 degrees of freedom\n",
       "  (354 observations deleted due to missingness)\n",
       "Multiple R-squared(full model): 0.9906   Adjusted R-squared: 0.9867 \n",
       "Multiple R-squared(proj model): 0.009891   Adjusted R-squared: -0.4049 \n",
       "F-statistic(full model):251.7 on 403 and 962 DF, p-value: < 2.2e-16 \n",
       "F-statistic(proj model): 1.373 on 7 and 962 DF, p-value: 0.2132 \n",
       "*** Standard errors may be too high due to more than 2 groups and exactDOF=FALSE\n",
       "\n"
      ]
     },
     "metadata": {},
     "output_type": "display_data"
    }
   ],
   "source": [
    "summary(felm(logpm ~ loggdppc * year2000 + loggdppc2 * year2000 + logpop + laglogpm | factor(ISO) + factor(year2000) + year2000 : factor(ISO), data=pmobs5, weights=pmobs5$value.pop))"
   ]
  },
  {
   "cell_type": "code",
   "execution_count": 115,
   "id": "9ebaaf6b",
   "metadata": {},
   "outputs": [
    {
     "data": {
      "text/html": [
       "0.2727793"
      ],
      "text/latex": [
       "0.2727793"
      ],
      "text/markdown": [
       "0.2727793"
      ],
      "text/plain": [
       "[1] 0.2727793"
      ]
     },
     "metadata": {},
     "output_type": "display_data"
    }
   ],
   "source": [
    "-0.2036957 + 0.0476475 * 10"
   ]
  },
  {
   "cell_type": "code",
   "execution_count": 116,
   "id": "07b5314e",
   "metadata": {},
   "outputs": [
    {
     "data": {
      "text/html": [
       "-0.0139551"
      ],
      "text/latex": [
       "-0.0139551"
      ],
      "text/markdown": [
       "-0.0139551"
      ],
      "text/plain": [
       "[1] -0.0139551"
      ]
     },
     "metadata": {},
     "output_type": "display_data"
    }
   ],
   "source": [
    "-0.0114041 + -0.0002551 * 10"
   ]
  },
  {
   "cell_type": "code",
   "execution_count": 117,
   "id": "9632fc46",
   "metadata": {},
   "outputs": [],
   "source": [
    "loggdppcs = seq(min(pmobs5$loggdppc, na.rm=T), max(pmobs5$loggdppc, na.rm=T), length.out=100)"
   ]
  },
  {
   "cell_type": "code",
   "execution_count": 118,
   "id": "fccda1a5",
   "metadata": {},
   "outputs": [],
   "source": [
    "pdf = data.frame(gdppc=exp(loggdppcs), dpmdi=0.2727793 * loggdppcs + -0.0139551 * loggdppcs^2)"
   ]
  },
  {
   "cell_type": "code",
   "execution_count": 119,
   "id": "5c52edf9",
   "metadata": {},
   "outputs": [
    {
     "data": {
      "image/png": "[encoded data removed]",
      "text/plain": [
       "plot without title"
      ]
     },
     "metadata": {
      "image/png": {
       "height": 420,
       "width": 420
      }
     },
     "output_type": "display_data"
    }
   ],
   "source": [
    "ggplot(pdf, aes(log(gdppc), dpmdi)) + geom_line()"
   ]
  },
  {
   "cell_type": "code",
   "execution_count": 129,
   "id": "74be4f2b",
   "metadata": {
    "scrolled": true
   },
   "outputs": [],
   "source": [
    "modekc = felm(logpm ~ loggdppc + loggdppc : year2000 + loggdppc2 + loggdppc2 : year2000 + logpop + laglogpm | factor(ISO) + factor(year2000) + year2000 : factor(ISO), data=pmobs5, weights=pmobs5$value.pop)"
   ]
  },
  {
   "cell_type": "code",
   "execution_count": 130,
   "id": "081645d4",
   "metadata": {},
   "outputs": [
    {
     "data": {
      "text/plain": [
       "\n",
       "Call:\n",
       "   felm(formula = logpm ~ loggdppc + loggdppc:year2000 + loggdppc2 +      loggdppc2:year2000 + logpop + laglogpm | factor(ISO) + factor(year2000) +      year2000:factor(ISO), data = pmobs5, weights = pmobs5$value.pop) \n",
       "\n",
       "Weighted Residuals:\n",
       "    Min      1Q  Median      3Q     Max \n",
       "-3286.9  -149.8    -2.8   135.9  2260.3 \n",
       "\n",
       "Coefficients:\n",
       "                     Estimate Std. Error t value Pr(>|t|)   \n",
       "loggdppc           -0.2036957  2.7732978  -0.073  0.94146   \n",
       "loggdppc2          -0.0114041  0.1526271  -0.075  0.94045   \n",
       "logpop              0.4336108  0.7622456   0.569  0.56958   \n",
       "laglogpm           -0.0933247  0.0342664  -2.724  0.00658 **\n",
       "loggdppc:year2000   0.0476475  0.2149977   0.222  0.82466   \n",
       "loggdppc2:year2000 -0.0002551  0.0118309  -0.022  0.98280   \n",
       "---\n",
       "Signif. codes:  0 ‘***’ 0.001 ‘**’ 0.01 ‘*’ 0.05 ‘.’ 0.1 ‘ ’ 1\n",
       "\n",
       "Residual standard error: 540.5 on 962 degrees of freedom\n",
       "  (354 observations deleted due to missingness)\n",
       "Multiple R-squared(full model): 0.9906   Adjusted R-squared: 0.9867 \n",
       "Multiple R-squared(proj model): 0.009891   Adjusted R-squared: -0.4049 \n",
       "F-statistic(full model):251.7 on 403 and 962 DF, p-value: < 2.2e-16 \n",
       "F-statistic(proj model): 1.602 on 6 and 962 DF, p-value: 0.1434 \n",
       "*** Standard errors may be too high due to more than 2 groups and exactDOF=FALSE\n",
       "\n"
      ]
     },
     "metadata": {},
     "output_type": "display_data"
    }
   ],
   "source": [
    "summary(modekc)"
   ]
  },
  {
   "cell_type": "code",
   "execution_count": null,
   "id": "04c05bb1",
   "metadata": {},
   "outputs": [],
   "source": []
  }
 ],
 "metadata": {
  "kernelspec": {
   "display_name": "R",
   "language": "R",
   "name": "ir"
  },
  "language_info": {
   "codemirror_mode": "r",
   "file_extension": ".r",
   "mimetype": "text/x-r-source",
   "name": "R",
   "pygments_lexer": "r",
   "version": "4.4.2"
  }
 },
 "nbformat": 4,
 "nbformat_minor": 5
}
